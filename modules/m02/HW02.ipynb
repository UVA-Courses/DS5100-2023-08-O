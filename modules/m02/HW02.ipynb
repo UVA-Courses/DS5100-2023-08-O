{
 "cells": [
  {
   "cell_type": "markdown",
   "id": "d31b93a7-f221-4338-b044-734458a05492",
   "metadata": {
    "tags": []
   },
   "source": [
    "# Metadata\n",
    "\n",
    "```yaml\n",
    "Course:   DS 5100\n",
    "Term:     Fall 2023 Online\n",
    "Module:   M02 Homework\n",
    "Author:   R.C. Alvarado\n",
    "Date:     19 August 2023\n",
    "```"
   ]
  },
  {
   "cell_type": "markdown",
   "id": "91c2bea0-57b5-4e2d-b7c3-bae818c949cc",
   "metadata": {},
   "source": [
    "# Student Info\n",
    "\n",
    "* Name: Nathan Lyell\n",
    "* Net ID: xuw9ap\n",
    "* URL of this file in GitHub: https://github.com/nlyell7/DS5100-2023-08-O/blob/main/modules/m02/HW02.ipynb"
   ]
  },
  {
   "cell_type": "markdown",
   "id": "cf3260a5-5781-4529-ba47-8b22f3ab9944",
   "metadata": {
    "tags": []
   },
   "source": [
    "# Instructions\n",
    "\n",
    "In your **private course repo on Rivanna**, write a Jupyter notebook running Python that performs the numbered tasks below. For each task, create a code block to perform the task.\n",
    "\n",
    "Save your notebook in the `M02` directory as `hw02.ipynb`. \n",
    "\n",
    "Add and commit these files to your repo. \n",
    "\n",
    "Then push your commits to your repo on GitHib.\n",
    "\n",
    "Be sure to fill out the **Student Info** block above.\n",
    "\n",
    "To submit your homework, save the notebook as a PDF and upload it to GradeScope, following the instructions.\n",
    "\n",
    "**10 Points**"
   ]
  },
  {
   "cell_type": "markdown",
   "id": "a784a66a-dedd-4ddb-997b-781d4a36129f",
   "metadata": {
    "tags": []
   },
   "source": [
    "# Data\n",
    "\n",
    "```\n",
    "Table 1: GRADES\n",
    "\n",
    "name    grade\n",
    "Jon     95\n",
    "Mike    84\n",
    "Jaime   99\n",
    "\n",
    "\n",
    "Table 2: TOUCHDOWNS\n",
    "\n",
    "name    touchdowns\n",
    "Alex    2\n",
    "Patrick 4\n",
    "Tom     1\n",
    "Joe     3\n",
    "Alex    1\n",
    "```"
   ]
  },
  {
   "cell_type": "markdown",
   "id": "d78a0b85-7e51-478e-8668-44208f3bbe93",
   "metadata": {
    "tags": []
   },
   "source": [
    "# Tasks"
   ]
  },
  {
   "cell_type": "markdown",
   "id": "31494f23-b4ba-441e-908b-2a05be5ab12f",
   "metadata": {
    "tags": []
   },
   "source": [
    "## Task 1\n",
    "\n",
    "Using the data in Table 1, create a dictionary called `gradebook` where the keys contain the names and the values are the associated grades. Print the dictionary.  (1 PT) "
   ]
  },
  {
   "cell_type": "code",
   "execution_count": 1,
   "id": "5a489efe-a6de-44da-8b56-92ad3742d5ad",
   "metadata": {},
   "outputs": [
    {
     "name": "stdout",
     "output_type": "stream",
     "text": [
      "{'Jon': 95, 'Mike': 84, 'Jaime': 99}\n"
     ]
    }
   ],
   "source": [
    "dict_a = {\"Jon\": 95, \"Mike\": 84, \"Jaime\": 99}\n",
    "print(dict_a)"
   ]
  },
  {
   "cell_type": "markdown",
   "id": "c82daae4-d392-41c2-b5ad-666c1d49b4ec",
   "metadata": {
    "tags": []
   },
   "source": [
    "## Task 2 \n",
    "\n",
    "Index into the gradebook to print Mike's grade. Do NOT use the `get()` method for this. (1 PT) "
   ]
  },
  {
   "cell_type": "code",
   "execution_count": 19,
   "id": "085a45f2-1cec-40f9-9ecb-c4f1cdfbe44e",
   "metadata": {},
   "outputs": [
    {
     "name": "stdout",
     "output_type": "stream",
     "text": [
      "84\n"
     ]
    }
   ],
   "source": [
    "print(dict_a[\"Mike\"])\n"
   ]
  },
  {
   "cell_type": "markdown",
   "id": "62c2f26c-a62f-4f9b-8438-fe04fff703ab",
   "metadata": {
    "tags": []
   },
   "source": [
    "## Task 3\n",
    "\n",
    "Attempt to index into gradebook to print Jeff's grade. Show the result. Do NOT use the `get()` method for this. (1 PT) "
   ]
  },
  {
   "cell_type": "code",
   "execution_count": 27,
   "id": "b762bb45-d99c-46d1-9087-42ae931e5336",
   "metadata": {},
   "outputs": [
    {
     "ename": "KeyError",
     "evalue": "'Jeff'",
     "output_type": "error",
     "traceback": [
      "\u001b[0;31m---------------------------------------------------------------------------\u001b[0m",
      "\u001b[0;31mKeyError\u001b[0m                                  Traceback (most recent call last)",
      "Cell \u001b[0;32mIn[27], line 2\u001b[0m\n\u001b[1;32m      1\u001b[0m \u001b[39m# Put code here\u001b[39;00m\n\u001b[0;32m----> 2\u001b[0m \u001b[39mprint\u001b[39m(dict_a[\u001b[39m\"\u001b[39;49m\u001b[39mJeff\u001b[39;49m\u001b[39m\"\u001b[39;49m])\n",
      "\u001b[0;31mKeyError\u001b[0m: 'Jeff'"
     ]
    }
   ],
   "source": [
    "# Put code here\n",
    "print(dict_a[\"Jeff\"])"
   ]
  },
  {
   "cell_type": "markdown",
   "id": "c18a17ef-e807-417b-807b-fedc47d1d961",
   "metadata": {
    "tags": []
   },
   "source": [
    "## Task 4\n",
    "\n",
    "Using Table 2, build a list from the names called `names` and print it. (1 PT) "
   ]
  },
  {
   "cell_type": "code",
   "execution_count": 28,
   "id": "bc13167e-ae26-4852-b0a9-b8943da95b6f",
   "metadata": {},
   "outputs": [
    {
     "name": "stdout",
     "output_type": "stream",
     "text": [
      "['Alex', 'Patrick', 'Tom', 'Joe', 'Alex']\n"
     ]
    }
   ],
   "source": [
    "# Put code here\n",
    "names = [\"Alex\", \"Patrick\", \"Tom\", \"Joe\", \"Alex\"]\n",
    "print(names)"
   ]
  },
  {
   "cell_type": "markdown",
   "id": "608bfe76-c55b-4136-a118-eeb23bf2a521",
   "metadata": {
    "tags": []
   },
   "source": [
    "## Task 5\n",
    "\n",
    "Sort the list in ascending order and print it. (1 PT) "
   ]
  },
  {
   "cell_type": "code",
   "execution_count": 49,
   "id": "5be543cb-1433-4982-8719-49bf59a6ad39",
   "metadata": {},
   "outputs": [
    {
     "name": "stdout",
     "output_type": "stream",
     "text": [
      "['Alex', 'Alex', 'Joe', 'Patrick', 'Tom']\n"
     ]
    }
   ],
   "source": [
    "# Put code here\n",
    "names.sort()\n",
    "print(names)\n"
   ]
  },
  {
   "cell_type": "markdown",
   "id": "98596172-7f6d-43e0-b5af-ff3fe82a2191",
   "metadata": {
    "tags": []
   },
   "source": [
    "## Task 6 \n",
    "\n",
    "Build a set from the names in Table 2 and print it. (1 PT) "
   ]
  },
  {
   "cell_type": "code",
   "execution_count": 58,
   "id": "8af4b364-8338-4e21-ac47-41cd6e178f84",
   "metadata": {},
   "outputs": [
    {
     "name": "stdout",
     "output_type": "stream",
     "text": [
      "{'Tom', 'Patrick', 'Alex', 'Joe'}\n"
     ]
    }
   ],
   "source": [
    "# Put code here\n",
    "set_names = {\"Alex\", \"Patrick\", \"Tom\", \"Joe\", \"Alex\"}\n",
    "print(set_names)"
   ]
  },
  {
   "cell_type": "markdown",
   "id": "3f4a50e8-6aa0-4c1d-a1f4-e78fa9c7341f",
   "metadata": {
    "tags": []
   },
   "source": [
    "## Task 7\n",
    "\n",
    "Build a dictionary from the touchdowns data, calling it `td`, and print it. Use lists to store the values. Remember that dictionary keys must be unique. (1 PT) "
   ]
  },
  {
   "cell_type": "code",
   "execution_count": 69,
   "id": "13025689-51ec-472c-a4aa-4a2bf1cefa3d",
   "metadata": {},
   "outputs": [
    {
     "name": "stdout",
     "output_type": "stream",
     "text": [
      "{'Alex': 2, 'Patrick': 4, 'Tom': 1, 'Joe': 3, 'alex': 1}\n"
     ]
    }
   ],
   "source": [
    "# Put code here\n",
    "names = [\"Alex\", \"Patrick\", \"Tom\", \"Joe\", \"alex\"]\n",
    "values = [2,4,1,3,1]\n",
    "td = dict(zip(names, values))\n",
    "print(td)"
   ]
  },
  {
   "cell_type": "markdown",
   "id": "baca83a6-b99e-4bab-9d8b-9f337faed873",
   "metadata": {
    "tags": []
   },
   "source": [
    "## Task 8\n",
    "\n",
    "Compute the sum of Alex's touchdowns using the appropriate built-in function. (1 PT)"
   ]
  },
  {
   "cell_type": "code",
   "execution_count": 72,
   "id": "3f5399fb-bf65-4c0b-b213-39028fa97aab",
   "metadata": {},
   "outputs": [
    {
     "name": "stdout",
     "output_type": "stream",
     "text": [
      "3\n"
     ]
    }
   ],
   "source": [
    "# Put code here\n",
    "print(td[\"alex\"] + td[\"Alex\"])"
   ]
  },
  {
   "cell_type": "markdown",
   "id": "e7464915-39e1-41f2-ae6b-619465279dfb",
   "metadata": {
    "tags": []
   },
   "source": [
    "## Task 9\n",
    "\n",
    "Get the keys from `td` and save them as a sorted list `list1`. Then get a set from `names` and save them as a sorted list called `list2`. Compare them with a boolean operator to see if they are equal. (2 PTS)"
   ]
  },
  {
   "cell_type": "code",
   "execution_count": 75,
   "id": "498341c5-2288-4c06-a6d7-5a690ef3444e",
   "metadata": {},
   "outputs": [
    {
     "name": "stdout",
     "output_type": "stream",
     "text": [
      "False\n"
     ]
    }
   ],
   "source": [
    "# Put code here\n",
    "list1 = list(td.keys())\n",
    "list1.sort()\n",
    "list2 = list(names)\n",
    "list2.sort\n",
    "print(list1 == list2)\n",
    "\n"
   ]
  }
 ],
 "metadata": {
  "kernelspec": {
   "display_name": "Python 3 (ipykernel)",
   "language": "python",
   "name": "python3"
  },
  "language_info": {
   "codemirror_mode": {
    "name": "ipython",
    "version": 3
   },
   "file_extension": ".py",
   "mimetype": "text/x-python",
   "name": "python",
   "nbconvert_exporter": "python",
   "pygments_lexer": "ipython3",
   "version": "3.8.7"
  },
  "widgets": {
   "application/vnd.jupyter.widget-state+json": {
    "state": {},
    "version_major": 2,
    "version_minor": 0
   }
  }
 },
 "nbformat": 4,
 "nbformat_minor": 5
}
