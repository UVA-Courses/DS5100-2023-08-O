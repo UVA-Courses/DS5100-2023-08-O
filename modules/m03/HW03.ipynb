{
 "cells": [
  {
   "cell_type": "markdown",
   "id": "d31b93a7-f221-4338-b044-734458a05492",
   "metadata": {
    "tags": []
   },
   "source": [
    "# Metadata\n",
    "\n",
    "```yaml\n",
    "Course:   DS 5100\n",
    "Term:     Fall 2023\n",
    "Module:   M03 Homework\n",
    "Author:   R.C. Alvarado\n",
    "Date:     19 August 2023 (revised)\n",
    "```"
   ]
  },
  {
   "cell_type": "markdown",
   "id": "91c2bea0-57b5-4e2d-b7c3-bae818c949cc",
   "metadata": {},
   "source": [
    "# Student Info\n",
    "\n",
    "* Name: Nathan Lyell\n",
    "* Net ID: xuw9ap\n",
    "* URL of this file in GitHub: https://github.com/nlyell7/DS5100-2023-08-O/blob/main/modules/m03/HW03.ipynb"
   ]
  },
  {
   "cell_type": "markdown",
   "id": "9f03ef56-683b-4301-8697-bdca61d8d546",
   "metadata": {
    "tags": []
   },
   "source": [
    "# Instructions\n",
    "\n",
    "In your **private course repo on Rivanna**, write a Jupyter notebook running Python that performs the numbered tasks below. \n",
    "\n",
    "For each task, create a code cell to perform the task.\n",
    "\n",
    "Save your notebook in the `M03` directory as `hw03.ipynb`. \n",
    "\n",
    "Add and commit these files to your repo. \n",
    "\n",
    "Then push your commits to your repo on GitHib.\n",
    "\n",
    "Be sure to fill out the **Student Info** block above.\n",
    "\n",
    "To submit your homework, save the notebook as a PDF and upload it to GradeScope, following the instructions.\n",
    "\n",
    "**12 points**"
   ]
  },
  {
   "cell_type": "markdown",
   "id": "809cced7-1024-41af-93bd-737ba99241a7",
   "metadata": {},
   "source": [
    "# Task 1\n",
    "\n",
    "(6 points)\n",
    "\n",
    "Using the **for** loop and **if** statement control structures, \n",
    "write a script that generates the integers from $1$ to $100$ and does the following things:\n",
    "\n",
    "* If $3$ is a factor of the number but $5$ is not, print `Wahoo`.\n",
    "* If $5$ is a factor of the number but $3$ is not, print `wah!`.\n",
    "* If both $3$ and $5$ are factors of the number, print `Wahoowah!`.\n",
    "* If the number meets none of the above conditions, print nothing, not even a line break.\n",
    "* Make sure that the line printed for each iteration in which a condition is met ends with a line break.\n",
    "* When the loop is finished, print the number of times either conidtion was met, i.e. the number of lines that were printed.\n",
    "\n",
    "Hint: You may not need to use **elif** and **else** to accomplish these tasks."
   ]
  },
  {
   "cell_type": "code",
   "execution_count": 3,
   "id": "73e6b63d-38ca-488a-9a2a-009c150d8dbd",
   "metadata": {},
   "outputs": [
    {
     "name": "stdout",
     "output_type": "stream",
     "text": [
      "Wahoo\n",
      "Wah!\n",
      "Wahoo\n",
      "Wahoo\n",
      "Wah!\n",
      "Wahoo\n",
      "Wahoowah!\n",
      "Wah!\n",
      "Wahoo\n",
      "Wah!\n",
      "Wahoo\n",
      "Wahoo\n",
      "Wah!\n",
      "Wahoo\n",
      "Wahoowah!\n",
      "Wah!\n",
      "Wahoo\n",
      "Wah!\n",
      "Wahoo\n",
      "Wahoo\n",
      "Wah!\n",
      "Wahoo\n",
      "Wahoowah!\n",
      "Wah!\n",
      "Wahoo\n",
      "Wah!\n",
      "Wahoo\n",
      "Wahoo\n",
      "Wah!\n",
      "Wahoo\n",
      "Wahoowah!\n",
      "Wah!\n",
      "Wahoo\n",
      "Wah!\n",
      "Wahoo\n",
      "Wahoo\n",
      "Wah!\n",
      "Wahoo\n",
      "Wahoowah!\n",
      "Wah!\n",
      "Wahoo\n",
      "Wah!\n",
      "Wahoo\n",
      "Wahoo\n",
      "Wah!\n",
      "Wahoo\n",
      "Wahoowah!\n",
      "Wah!\n",
      "Wahoo\n",
      "Wah!\n",
      "Wahoo\n",
      "Wahoo\n",
      "Wah!\n",
      "53\n"
     ]
    }
   ],
   "source": [
    "# CODE\n",
    "counter = 0\n",
    "for i in range(1,101):\n",
    "    if i%3 == 0:\n",
    "        if i%5 == 0:\n",
    "            #print(i)\n",
    "            print(\"Wahoowah!\")\n",
    "            counter+=1\n",
    "        else:\n",
    "            #print(i)\n",
    "            print(\"Wahoo\") \n",
    "            counter+=1\n",
    "\n",
    "    if i%5 == 0:\n",
    "        #print(i)\n",
    "        print(\"Wah!\")\n",
    "        counter+= 1\n",
    "print(counter)"
   ]
  },
  {
   "cell_type": "markdown",
   "id": "eefd829e-9d2d-44b1-9268-4aa605c4e40d",
   "metadata": {
    "tags": []
   },
   "source": [
    "# Task 2\n",
    "\n",
    "(3 points)\n",
    "\n",
    "Rewrite the `for` loop as a `while` loop. \n",
    "\n",
    "This time, only print lines where both conditions are met. \n",
    "\n",
    "Include a final line which prints the number of times both conditions are met."
   ]
  },
  {
   "cell_type": "code",
   "execution_count": 12,
   "id": "704989f4-0d1b-457e-9179-6c080aa83f9d",
   "metadata": {},
   "outputs": [
    {
     "name": "stdout",
     "output_type": "stream",
     "text": [
      "Wahoowah!\n",
      "Wahoowah!\n",
      "Wahoowah!\n",
      "Wahoowah!\n",
      "Wahoowah!\n",
      "Wahoowah!\n",
      "Times both conditions were met:  6\n"
     ]
    }
   ],
   "source": [
    "# CODE\n",
    "count_both = 0\n",
    "i = 1\n",
    "while i <= 100:\n",
    "    if i%3 == 0:\n",
    "        if i%5 == 0:\n",
    "            #print(i)\n",
    "            print(\"Wahoowah!\")\n",
    "            count_both+=1\n",
    "    i+=1\n",
    "print(\"Times both conditions were met: \", count_both)\n",
    "    "
   ]
  },
  {
   "cell_type": "markdown",
   "id": "9cdb8762-4e13-4b71-bbde-9f6d7357aaec",
   "metadata": {
    "tags": []
   },
   "source": [
    "# Task 3\n",
    "\n",
    "(3 points)\n",
    "\n",
    "Write a list comprehension that iterates through the integers from $1$ to $100$ and returns a list containing the sum of the boolean values of the three conditions described in Task 1."
   ]
  },
  {
   "cell_type": "code",
   "execution_count": 11,
   "id": "af38602c-1e6e-4de0-906a-5c1e5d780b49",
   "metadata": {},
   "outputs": [
    {
     "name": "stdout",
     "output_type": "stream",
     "text": [
      "[0, 0, 1, 0, 1, 1, 0, 0, 1, 1, 0, 1, 0, 0, 3, 0, 0, 1, 0, 1, 1, 0, 0, 1, 1, 0, 1, 0, 0, 3, 0, 0, 1, 0, 1, 1, 0, 0, 1, 1, 0, 1, 0, 0, 3, 0, 0, 1, 0, 1, 1, 0, 0, 1, 1, 0, 1, 0, 0, 3, 0, 0, 1, 0, 1, 1, 0, 0, 1, 1, 0, 1, 0, 0, 3, 0, 0, 1, 0, 1, 1, 0, 0, 1, 1, 0, 1, 0, 0, 3, 0, 0, 1, 0, 1, 1, 0, 0, 1, 1]\n"
     ]
    }
   ],
   "source": [
    "# CODE\n",
    "# Quesiton prompts to use all three conditions so domain of values is [0,1,3], since if both are met, the third is met, so there will not be a two. \n",
    "my_list = [[i%5==0,i%3==0,(i%5== 0 and i%3==0)].count(True) for i in range(1,101) ]\n",
    "print(my_list)"
   ]
  }
 ],
 "metadata": {
  "kernelspec": {
   "display_name": "Python 3 (ipykernel)",
   "language": "python",
   "name": "python3"
  },
  "language_info": {
   "codemirror_mode": {
    "name": "ipython",
    "version": 3
   },
   "file_extension": ".py",
   "mimetype": "text/x-python",
   "name": "python",
   "nbconvert_exporter": "python",
   "pygments_lexer": "ipython3",
   "version": "3.8.7"
  },
  "widgets": {
   "application/vnd.jupyter.widget-state+json": {
    "state": {},
    "version_major": 2,
    "version_minor": 0
   }
  }
 },
 "nbformat": 4,
 "nbformat_minor": 5
}
