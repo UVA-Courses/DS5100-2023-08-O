{
 "cells": [
  {
   "cell_type": "markdown",
   "id": "d31b93a7-f221-4338-b044-734458a05492",
   "metadata": {
    "tags": []
   },
   "source": [
    "# Metadata\n",
    "\n",
    "```yaml\n",
    "Course:   DS 5100\n",
    "Term:     Fall 2023\n",
    "Module:   M02 Homework\n",
    "Author:   R.C. Alvarado\n",
    "Date:     19 August 2023 (revised)\n",
    "```"
   ]
  },
  {
   "cell_type": "markdown",
   "id": "91c2bea0-57b5-4e2d-b7c3-bae818c949cc",
   "metadata": {},
   "source": [
    "# Student Info\n",
    "\n",
    "* Name:\n",
    "* Net ID:\n",
    "* URL of this file in GitHub:"
   ]
  },
  {
   "cell_type": "markdown",
   "id": "cf3260a5-5781-4529-ba47-8b22f3ab9944",
   "metadata": {
    "tags": []
   },
   "source": [
    "# Instructions\n",
    "\n",
    "In your **private course repo on Rivanna**, write a Jupyter notebook running Python that performs the numbered tasks below. For each task, create a code block to perform the task.\n",
    "\n",
    "Save your notebook in the `M02` directory as `hw02.ipynb`. \n",
    "\n",
    "Add and commit these files to your repo. \n",
    "\n",
    "Then push your commits to your repo on GitHib.\n",
    "\n",
    "Be sure to fill out the **Student Info** block above.\n",
    "\n",
    "To submit your homework, save the notebook as a PDF and upload it to GradeScope, following the instructions.\n",
    "\n",
    "**10 Points**"
   ]
  },
  {
   "cell_type": "markdown",
   "id": "a784a66a-dedd-4ddb-997b-781d4a36129f",
   "metadata": {
    "tags": []
   },
   "source": [
    "# Data\n",
    "\n",
    "```\n",
    "Table 1: GRADES\n",
    "\n",
    "name    grade\n",
    "Jon     95\n",
    "Mike    84\n",
    "Jaime   99\n",
    "\n",
    "\n",
    "Table 2: TOUCHDOWNS\n",
    "\n",
    "name    touchdowns\n",
    "Alex    2\n",
    "Patrick 4\n",
    "Tom     1\n",
    "Joe     3\n",
    "Alex    1\n",
    "```"
   ]
  },
  {
   "cell_type": "markdown",
   "id": "d78a0b85-7e51-478e-8668-44208f3bbe93",
   "metadata": {
    "tags": []
   },
   "source": [
    "# Tasks"
   ]
  },
  {
   "cell_type": "markdown",
   "id": "31494f23-b4ba-441e-908b-2a05be5ab12f",
   "metadata": {
    "tags": []
   },
   "source": [
    "## Task 1\n",
    "\n",
    "Using the data in Table 1, create a dictionary called `gradebook` where the keys contain the names and the values are the associated grades. Print the dictionary.  (1 PT) "
   ]
  },
  {
   "cell_type": "code",
   "execution_count": 1,
   "id": "5a489efe-a6de-44da-8b56-92ad3742d5ad",
   "metadata": {
    "tags": []
   },
   "outputs": [],
   "source": [
    "# Put code here"
   ]
  },
  {
   "cell_type": "code",
   "execution_count": 2,
   "id": "24e5a023-a379-4f0e-a1bb-3015953c40c9",
   "metadata": {
    "tags": []
   },
   "outputs": [],
   "source": [
    "gradebook = {\n",
    "    'Jon': 95,\n",
    "    'Mike': 84,\n",
    "    'Jaime': 99\n",
    "}"
   ]
  },
  {
   "cell_type": "code",
   "execution_count": 3,
   "id": "f05d49a1-101e-48b6-a7c4-34b1187f24e4",
   "metadata": {
    "tags": []
   },
   "outputs": [
    {
     "name": "stdout",
     "output_type": "stream",
     "text": [
      "{'Jon': 95, 'Mike': 84, 'Jaime': 99}\n"
     ]
    }
   ],
   "source": [
    "print(gradebook)"
   ]
  },
  {
   "cell_type": "markdown",
   "id": "c82daae4-d392-41c2-b5ad-666c1d49b4ec",
   "metadata": {
    "tags": []
   },
   "source": [
    "## Task 2 \n",
    "\n",
    "Index into the gradebook to print Mike's grade. Do NOT use the `get()` method for this. (1 PT) "
   ]
  },
  {
   "cell_type": "code",
   "execution_count": 4,
   "id": "085a45f2-1cec-40f9-9ecb-c4f1cdfbe44e",
   "metadata": {
    "tags": []
   },
   "outputs": [],
   "source": [
    "# Put code here"
   ]
  },
  {
   "cell_type": "code",
   "execution_count": 5,
   "id": "97a9bfa8-5c9d-4f25-872d-cc6a49c4840a",
   "metadata": {
    "tags": []
   },
   "outputs": [
    {
     "name": "stdout",
     "output_type": "stream",
     "text": [
      "84\n"
     ]
    }
   ],
   "source": [
    "print(gradebook['Mike'])"
   ]
  },
  {
   "cell_type": "markdown",
   "id": "62c2f26c-a62f-4f9b-8438-fe04fff703ab",
   "metadata": {
    "tags": []
   },
   "source": [
    "## Task 3\n",
    "\n",
    "Attempt to index into gradebook to print Jeff's grade. Show the result. Do NOT use the `get()` method for this. (1 PT) "
   ]
  },
  {
   "cell_type": "code",
   "execution_count": 6,
   "id": "b762bb45-d99c-46d1-9087-42ae931e5336",
   "metadata": {
    "tags": []
   },
   "outputs": [],
   "source": [
    "# Put code here"
   ]
  },
  {
   "cell_type": "code",
   "execution_count": 7,
   "id": "854b2874-0cee-4af6-98c4-7b319af62af1",
   "metadata": {
    "tags": []
   },
   "outputs": [
    {
     "ename": "KeyError",
     "evalue": "'Jeff'",
     "output_type": "error",
     "traceback": [
      "\u001b[0;31m---------------------------------------------------------------------------\u001b[0m",
      "\u001b[0;31mKeyError\u001b[0m                                  Traceback (most recent call last)",
      "Cell \u001b[0;32mIn[7], line 1\u001b[0m\n\u001b[0;32m----> 1\u001b[0m \u001b[38;5;28mprint\u001b[39m(gradebook[\u001b[38;5;124m'\u001b[39m\u001b[38;5;124mJeff\u001b[39m\u001b[38;5;124m'\u001b[39m])\n",
      "\u001b[0;31mKeyError\u001b[0m: 'Jeff'"
     ]
    }
   ],
   "source": [
    "print(gradebook['Jeff'])"
   ]
  },
  {
   "cell_type": "markdown",
   "id": "c18a17ef-e807-417b-807b-fedc47d1d961",
   "metadata": {
    "tags": []
   },
   "source": [
    "## Task 4\n",
    "\n",
    "Using Table 2, build a list from the names called `names` and print it. (1 PT) "
   ]
  },
  {
   "cell_type": "code",
   "execution_count": 8,
   "id": "bc13167e-ae26-4852-b0a9-b8943da95b6f",
   "metadata": {
    "tags": []
   },
   "outputs": [],
   "source": [
    "# Put code here"
   ]
  },
  {
   "cell_type": "code",
   "execution_count": 9,
   "id": "09fecdee-4c7d-435a-a43c-136d672887db",
   "metadata": {
    "tags": []
   },
   "outputs": [],
   "source": [
    "names = ['Alex', 'Patrick', 'Tom', 'Joe', 'Alex']"
   ]
  },
  {
   "cell_type": "code",
   "execution_count": 10,
   "id": "f6fa067f-f0cc-43d4-86a2-f00702aa0789",
   "metadata": {
    "tags": []
   },
   "outputs": [
    {
     "name": "stdout",
     "output_type": "stream",
     "text": [
      "['Alex', 'Patrick', 'Tom', 'Joe', 'Alex']\n"
     ]
    }
   ],
   "source": [
    "print(names)"
   ]
  },
  {
   "cell_type": "markdown",
   "id": "608bfe76-c55b-4136-a118-eeb23bf2a521",
   "metadata": {
    "tags": []
   },
   "source": [
    "## Task 5\n",
    "\n",
    "Sort the list in ascending order and print it. (1 PT) "
   ]
  },
  {
   "cell_type": "code",
   "execution_count": 11,
   "id": "5be543cb-1433-4982-8719-49bf59a6ad39",
   "metadata": {
    "tags": []
   },
   "outputs": [],
   "source": [
    "# Put code here"
   ]
  },
  {
   "cell_type": "code",
   "execution_count": 12,
   "id": "38f4ce89-9329-405c-ad78-97088084f231",
   "metadata": {
    "tags": []
   },
   "outputs": [
    {
     "name": "stdout",
     "output_type": "stream",
     "text": [
      "['Alex', 'Alex', 'Joe', 'Patrick', 'Tom']\n"
     ]
    }
   ],
   "source": [
    "print(sorted(names))"
   ]
  },
  {
   "cell_type": "markdown",
   "id": "98596172-7f6d-43e0-b5af-ff3fe82a2191",
   "metadata": {
    "tags": []
   },
   "source": [
    "## Task 6 \n",
    "\n",
    "Build a set from the names in Table 2 and print it. (1 PT) "
   ]
  },
  {
   "cell_type": "code",
   "execution_count": 13,
   "id": "8af4b364-8338-4e21-ac47-41cd6e178f84",
   "metadata": {},
   "outputs": [],
   "source": [
    "# Put code here"
   ]
  },
  {
   "cell_type": "code",
   "execution_count": 14,
   "id": "d750ddc1-d5a5-414f-8606-9f6ad00d55f3",
   "metadata": {},
   "outputs": [
    {
     "name": "stdout",
     "output_type": "stream",
     "text": [
      "{'Alex', 'Patrick', 'Tom', 'Joe'}\n"
     ]
    }
   ],
   "source": [
    "print(set(names))"
   ]
  },
  {
   "cell_type": "markdown",
   "id": "3f4a50e8-6aa0-4c1d-a1f4-e78fa9c7341f",
   "metadata": {
    "tags": []
   },
   "source": [
    "## Task 7\n",
    "\n",
    "Build a dictionary from the touchdowns data, calling it `td`, and print it. Use lists to store the values. Remember that dictionary keys must be unique. (1 PT) "
   ]
  },
  {
   "cell_type": "code",
   "execution_count": 15,
   "id": "13025689-51ec-472c-a4aa-4a2bf1cefa3d",
   "metadata": {
    "tags": []
   },
   "outputs": [],
   "source": [
    "# Put code here"
   ]
  },
  {
   "cell_type": "code",
   "execution_count": 15,
   "id": "93998499-7fab-4108-9b35-f9c7c717445b",
   "metadata": {
    "tags": []
   },
   "outputs": [],
   "source": [
    "td = {\n",
    "    'Alex': [2, 1],\n",
    "    'Patrick': [4],\n",
    "    'Tom': [1],\n",
    "    'Joe': [3]\n",
    "}"
   ]
  },
  {
   "cell_type": "code",
   "execution_count": 16,
   "id": "e3293129-c3a8-4c2e-93f7-575141ac8b04",
   "metadata": {
    "tags": []
   },
   "outputs": [
    {
     "data": {
      "text/plain": [
       "{'Alex': [2, 1], 'Patrick': [4], 'Tom': [1], 'Joe': [3]}"
      ]
     },
     "execution_count": 16,
     "metadata": {},
     "output_type": "execute_result"
    }
   ],
   "source": [
    "td"
   ]
  },
  {
   "cell_type": "markdown",
   "id": "6ebe5b7e-bea9-4dad-8b09-6dd815af8178",
   "metadata": {},
   "source": [
    "Automatic population:"
   ]
  },
  {
   "cell_type": "code",
   "execution_count": 10,
   "id": "033b8541-d94c-443b-a635-cc80e26571f0",
   "metadata": {
    "tags": []
   },
   "outputs": [
    {
     "data": {
      "text/plain": [
       "['Alex    2', 'Patrick 4', 'Tom     1', 'Joe     3', 'Alex    1']"
      ]
     },
     "execution_count": 10,
     "metadata": {},
     "output_type": "execute_result"
    }
   ],
   "source": [
    "td_data = \"\"\"\n",
    "Alex    2\n",
    "Patrick 4\n",
    "Tom     1\n",
    "Joe     3\n",
    "Alex    1\n",
    "\"\"\".split(\"\\n\")[1:-1]\n",
    "td_data"
   ]
  },
  {
   "cell_type": "code",
   "execution_count": 17,
   "id": "9552367b-fbef-48f8-b19a-9940c9da9754",
   "metadata": {
    "tags": []
   },
   "outputs": [
    {
     "data": {
      "text/plain": [
       "{'Alex': [2, 1], 'Patrick': [4], 'Tom': [1], 'Joe': [3]}"
      ]
     },
     "execution_count": 17,
     "metadata": {},
     "output_type": "execute_result"
    }
   ],
   "source": [
    "td_dict = {}\n",
    "for row in td_data:\n",
    "    name, n = row.split()\n",
    "    if name not in td_dict.keys():\n",
    "        td_dict[name] = []\n",
    "    td_dict[name].append(int(n))\n",
    "td_dict"
   ]
  },
  {
   "cell_type": "markdown",
   "id": "baca83a6-b99e-4bab-9d8b-9f337faed873",
   "metadata": {
    "tags": []
   },
   "source": [
    "## Task 8\n",
    "\n",
    "Compute the sum of Alex's touchdowns using the appropriate built-in function."
   ]
  },
  {
   "cell_type": "code",
   "execution_count": 18,
   "id": "3f5399fb-bf65-4c0b-b213-39028fa97aab",
   "metadata": {
    "tags": []
   },
   "outputs": [],
   "source": [
    "# Put code here"
   ]
  },
  {
   "cell_type": "code",
   "execution_count": 19,
   "id": "1394819a-1953-4ccf-a3e7-fe26936c4d37",
   "metadata": {
    "tags": []
   },
   "outputs": [
    {
     "data": {
      "text/plain": [
       "3"
      ]
     },
     "execution_count": 19,
     "metadata": {},
     "output_type": "execute_result"
    }
   ],
   "source": [
    "sum(td['Alex'])"
   ]
  },
  {
   "cell_type": "markdown",
   "id": "e7464915-39e1-41f2-ae6b-619465279dfb",
   "metadata": {
    "tags": []
   },
   "source": [
    "## Task 9\n",
    "\n",
    "Get the keys from `td` and save them as a sorted list `list1`. Then get a set from `names` and save them as a sorted list called `list2`. Compare them with a boolean operator to see if they are equal. (2 PTS)"
   ]
  },
  {
   "cell_type": "code",
   "execution_count": 20,
   "id": "498341c5-2288-4c06-a6d7-5a690ef3444e",
   "metadata": {
    "tags": []
   },
   "outputs": [],
   "source": [
    "# Put code here"
   ]
  },
  {
   "cell_type": "code",
   "execution_count": 34,
   "id": "f7bd799f-00bf-4b63-8435-c2feca8117e4",
   "metadata": {
    "tags": []
   },
   "outputs": [],
   "source": [
    "list1 = sorted(list(td.keys()))\n",
    "list2 = sorted(list(set(names)))"
   ]
  },
  {
   "cell_type": "code",
   "execution_count": 40,
   "id": "e7f2af80-f54f-4950-b702-d330df36b6fa",
   "metadata": {
    "tags": []
   },
   "outputs": [],
   "source": [
    "# set(names), list(set(names)), sorted(list(set(names)))"
   ]
  },
  {
   "cell_type": "code",
   "execution_count": 35,
   "id": "9b888c6c-707c-4bfd-9991-c55f9f091048",
   "metadata": {
    "tags": []
   },
   "outputs": [
    {
     "data": {
      "text/plain": [
       "True"
      ]
     },
     "execution_count": 35,
     "metadata": {},
     "output_type": "execute_result"
    }
   ],
   "source": [
    "list1 == list2"
   ]
  },
  {
   "cell_type": "code",
   "execution_count": 23,
   "id": "ae00da7a-4011-4c2f-85b0-176baca39612",
   "metadata": {
    "tags": []
   },
   "outputs": [
    {
     "data": {
      "text/plain": [
       "['Alex', 'Joe', 'Patrick', 'Tom']"
      ]
     },
     "execution_count": 23,
     "metadata": {},
     "output_type": "execute_result"
    }
   ],
   "source": [
    "list1"
   ]
  },
  {
   "cell_type": "code",
   "execution_count": 24,
   "id": "d8e36b9b-b9e8-4242-835d-8b81ecf27536",
   "metadata": {
    "tags": []
   },
   "outputs": [],
   "source": [
    "list2 = set(names)"
   ]
  },
  {
   "cell_type": "code",
   "execution_count": 25,
   "id": "435ad362-94b7-4037-ac68-8fff29a43b8f",
   "metadata": {
    "tags": []
   },
   "outputs": [
    {
     "data": {
      "text/plain": [
       "{'Alex', 'Joe', 'Patrick', 'Tom'}"
      ]
     },
     "execution_count": 25,
     "metadata": {},
     "output_type": "execute_result"
    }
   ],
   "source": [
    "list2"
   ]
  },
  {
   "cell_type": "code",
   "execution_count": 26,
   "id": "234e50b1-d6ad-42a9-9330-a975b1d987bc",
   "metadata": {
    "tags": []
   },
   "outputs": [
    {
     "data": {
      "text/plain": [
       "set"
      ]
     },
     "execution_count": 26,
     "metadata": {},
     "output_type": "execute_result"
    }
   ],
   "source": [
    "type(list2)"
   ]
  },
  {
   "cell_type": "code",
   "execution_count": 27,
   "id": "32c5854f-1013-4566-a2c8-57e7bc91fccb",
   "metadata": {
    "tags": []
   },
   "outputs": [
    {
     "data": {
      "text/plain": [
       "False"
      ]
     },
     "execution_count": 27,
     "metadata": {},
     "output_type": "execute_result"
    }
   ],
   "source": [
    "list1 == list2"
   ]
  },
  {
   "cell_type": "code",
   "execution_count": 28,
   "id": "272c68c6-7b75-4e5d-b8e7-578091e09974",
   "metadata": {
    "tags": []
   },
   "outputs": [
    {
     "data": {
      "text/plain": [
       "True"
      ]
     },
     "execution_count": 28,
     "metadata": {},
     "output_type": "execute_result"
    }
   ],
   "source": [
    "list1 == sorted(list2)"
   ]
  },
  {
   "cell_type": "code",
   "execution_count": 29,
   "id": "4430fd03-2f5c-46dc-8804-2f713910edb7",
   "metadata": {
    "tags": []
   },
   "outputs": [
    {
     "data": {
      "text/plain": [
       "list"
      ]
     },
     "execution_count": 29,
     "metadata": {},
     "output_type": "execute_result"
    }
   ],
   "source": [
    "type(sorted(list2))"
   ]
  }
 ],
 "metadata": {
  "kernelspec": {
   "display_name": "Python 3 (ipykernel)",
   "language": "python",
   "name": "python3"
  },
  "language_info": {
   "codemirror_mode": {
    "name": "ipython",
    "version": 3
   },
   "file_extension": ".py",
   "mimetype": "text/x-python",
   "name": "python",
   "nbconvert_exporter": "python",
   "pygments_lexer": "ipython3",
   "version": "3.11.3"
  },
  "widgets": {
   "application/vnd.jupyter.widget-state+json": {
    "state": {},
    "version_major": 2,
    "version_minor": 0
   }
  }
 },
 "nbformat": 4,
 "nbformat_minor": 5
}
