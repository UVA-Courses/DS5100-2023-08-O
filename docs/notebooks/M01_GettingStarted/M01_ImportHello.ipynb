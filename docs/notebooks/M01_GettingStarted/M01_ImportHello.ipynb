{
 "cells": [
  {
   "cell_type": "code",
   "execution_count": 41,
   "id": "531ada01-a08c-4454-bd39-600ceebb86e3",
   "metadata": {
    "tags": []
   },
   "outputs": [],
   "source": [
    "import glob\n",
    "import pandas as pd\n",
    "\n",
    "data = []\n",
    "files = glob.glob(\"./hello/*_*.txt\")\n",
    "for i, file in enumerate(files):\n",
    "    sid = file.split(\"/\")[2].split(\"_\")[0]\n",
    "    line = open(file, 'r').read().strip()\n",
    "    row = (sid, line.replace('\\n', ' '))\n",
    "    data.append(row)"
   ]
  },
  {
   "cell_type": "code",
   "execution_count": 42,
   "id": "d639031b-10ed-47ad-a3fd-87ddc9c91d74",
   "metadata": {
    "tags": []
   },
   "outputs": [],
   "source": [
    "df = pd.DataFrame(data, columns=['user_id','comment'])"
   ]
  },
  {
   "cell_type": "code",
   "execution_count": 43,
   "id": "8c765132-ca6c-4f74-8203-13e338dde333",
   "metadata": {
    "tags": []
   },
   "outputs": [
    {
     "name": "stdout",
     "output_type": "stream",
     "text": [
      "0 | ssl6np | The most recent film I watched and enjoyed was The Martian\n",
      "\n",
      "1 | nrg6cb | I've been watching the 'Mayday Air Disaster' series recently - its been really interesting to learn about the ways in which accidents have improved the safety of the industry, and about how such a complex area is kept safe over long timeframes and high usage. Typed from Rivanna Shell Access so please excuse any spelling issues!\n",
      "\n",
      "2 | qqx3eh | \n",
      "\n",
      "3 | yhp7nq | The last movie I watched was The Other Guys.\n",
      "\n",
      "4 | waa4bq | Hello, my name is (Harold) Alfred Haugen and although the last movie I saw was Oppenheimer, I really enjoyed watching Air.\n",
      "\n",
      "5 | xuw9ap | This is Nathan Lyell and the most recent movie I watched and enjoyed was Oppenheimer\n",
      "\n",
      "6 | zh8war | Baki\n",
      "\n",
      "7 | csl5hw | The most recent film I enjoyed is Oppenheimer.\n",
      "\n",
      "8 | clotane | The most recent film I enjoyed is Oppenheimer.\n",
      "\n",
      "9 | aalbaran | I recently watched Jurassic Park.\n",
      "\n",
      "10 | atferentinos | What is the most recent film you watched and enjoyed?  Recently, I watched \"Pulp Fiction\" with my fiance. I have heard a lot about the film, but never got around to watching it.\n",
      "\n",
      "11 | aqsaxm | Hello my name is Aqsa and I recently watched Scream 5.\n",
      "\n",
      "12 | tds8tv | I recently watched and enjoyed Oppenheimer\n",
      "\n",
      "13 | rtt4fb | Taylor Tucker  The most recent movie I have watched and enjoyed is The Highwaymen on Netflix. It's about the two former Texas Rangers (Kevin Costner and Woody Harrelson) who hunted down Bonnie and Clyde.\n",
      "\n",
      "14 | rmd9ev | Hi, my name is Rachel! The most recent film I watched and enjoyed was Barbie. It had a powerful message, while also being lighthearted and funny.\n",
      "\n",
      "15 | bdj9wf | My name is Brendan and the most recent movie that I watched and enjoyed was Shawshank Redemption, I completely understand \\n why it is such a highly rated movie.\n",
      "\n",
      "16 | xxa4aa | Hello, my name is Aidan Herzig.  The movie I watched most recently (that I enjoyed) was Spiderman: Across the Spiderverse. I didn't love the way they handled the ending, but I thought it was hilarious and had very powerful moments thorughout the first 2 acts. First one is still my favorite movie though.\n",
      "\n",
      "17 | gshoriz | Most recent film I watched and enjoyed is One Piece Film: Red\n",
      "\n",
      "18 | haq3wm | {\\rtf1\\ansi\\ansicpg1252\\cocoartf2756 \\cocoatextscaling0\\cocoaplatform0{\\fonttbl\\f0\\fswiss\\fcharset0 Helvetica;} {\\colortbl;\\red255\\green255\\blue255;\\red42\\green44\\blue46;} {\\*\\expandedcolortbl;;\\cssrgb\\c21569\\c22745\\c23529;} \\margl1440\\margr1440\\vieww11520\\viewh8400\\viewkind0 \\deftab720 \\pard\\pardeftab720\\sa360\\partightenfactor0  \\f0\\fs36 \\cf2 \\expnd0\\expndtw0\\kerning0 What is the most recent film you watched and enjoyed?\\ The little things featuring Denzel Washington}\n",
      "\n",
      "19 | vvk6rd | The most recent film I watched and enjoyed is heart of stone\n",
      "\n",
      "20 | samajohnson | What is the most recent film you watched and enjoyed?  Knives Out\n",
      "\n",
      "21 | wfn8aj | My name is Aziza Aripova. I have recently watched the movie “Django Unchained” uncovering the story of the violence and inhumanity of white American people over the Afro-American population. The whites treated black people worse than slaves allowing themselves awful and cruel acts even killing them for no lawful reason.  The attitude of the non-slave was horrible and sickening, no man on earth deserved such treatment despite their race or skin color.  It was to such an extent that death was a blessing for the enslaved. Django got lucky that he was saved by a so-called dentist who was a bounty hunter.  Django was a very smart, brave, and loving person ready to do anything to save his wife.  He went through many challenges, but in the end, he managed to rescue his beloved one. However, he lost his dear friend Dr. Schultz in this fight.\n",
      "\n",
      "22 | qzx7av | Hello, my name is Karthika. The most recent film I watched was called Jailer.\n",
      "\n",
      "23 | krb3ym | Oppenheimer\n",
      "\n",
      "24 | uay3yb | What is the most recent film you watched and enjoyed? Harry Potter\n",
      "\n",
      "25 | dkr5ud | Star Trek (the 2009 release)\n",
      "\n",
      "26 | rn7ena | I just watched Avatar: Way of Water with my sister along with all of the \"behind the scenes\" extras on Disney+ and I thought it was really cool!\n",
      "\n",
      "27 | 141654114 | I'm Eric. I really like Oppenheimer.\n",
      "\n",
      "28 | sbv5dn | I recently re-watched the movie Red Notice on Netflix and it's a pretty funny movie.\n",
      "\n",
      "29 | mbf4ay | The most recent film I have watched and enjoyed is Oppenheimer.\n",
      "\n",
      "30 | dja8tx | Harry Potter and the Half-Blood Prince\n",
      "\n",
      "31 | aec4hr | The most recent film I watched and enjoyed was across the spiderverse.\n",
      "\n",
      "32 | hve2ku | Hello, I'm Justin.  I have seen Oppenheimer 3 and half times now (I snuck into the end of a showing after I saw Barbie). This is my new favorite movie. I can't stop telling people about how much it made me think and try to view the world through others' perspectives.\n",
      "\n",
      "33 | jrr4n | I recently re-watched the movie \"Yeh Jawaani Hai Deewani\" and I enjoyed it very much.\n",
      "\n"
     ]
    }
   ],
   "source": [
    "_ = df.apply(lambda x: print(x.name, x.user_id, x.comment, sep=' | ', end=\"\\n\\n\"), axis=1)"
   ]
  },
  {
   "cell_type": "markdown",
   "id": "26c7e1be-cab1-4ea8-b03e-7fbc98f041bd",
   "metadata": {},
   "source": [
    "# Extracted Titles\n",
    "\n",
    "| No. | Movie Title                           | Occurrences | Parenthetic Information            |\n",
    "|-----|---------------------------------------|-------------|-----------------------------------|\n",
    "| 19  | Avatar: Way of Water                  | 1           |                                   |\n",
    "| 5   | Air                                   | 1           |                                   |\n",
    "| 22  | Across the Spiderverse                | 1           |                                   |\n",
    "| 10  | Barbie                                | 2           |                                   |\n",
    "| 15  | Django Unchained                      | 1           |                                   |\n",
    "| 17  | Harry Potter                          | 1           |                                   |\n",
    "| 21  | Harry Potter and the Half-Blood Prince| 1           |                                   |\n",
    "| 14  | Heart of Stone                        | 1           |                                   |\n",
    "| 16  | Jailer                                | 1           |                                   |\n",
    "| 6   | Jurassic Park                         | 1           |                                   |\n",
    "| 2   | Mayday Air Disaster                  | 1           | This is a series, not a movie     |\n",
    "| 4   | Oppenheimer                           | 6           |                                   |\n",
    "| 12  | One Piece Film: Red                   | 1           |                                   |\n",
    "| 7   | Pulp Fiction                          | 1           |                                   |\n",
    "| 20  | Red Notice                            | 1           |                                   |\n",
    "| 11  | Shawshank Redemption                  | 1           |                                   |\n",
    "| 18  | Star Trek                             | 1           | 2009 release                       |\n",
    "| 1   | The Martian                           | 1           |                                   |\n",
    "| 9   | The Highwaymen                        | 1           |                                   |\n",
    "| 13  | The little things                     | 1           |                                   |\n",
    "| 3   | The Other Guys                       | 1           |                                   |\n",
    "| 8   | Scream 5                              | 1           |                                   |\n",
    "| 23  | Yeh Jawaani Hai Deewani               | 1           |                                   |"
   ]
  },
  {
   "cell_type": "markdown",
   "id": "452fbe14-cdf0-4eb1-bce6-37636833ef8e",
   "metadata": {},
   "source": [
    "# Student and Title\n",
    "\n",
    "| No. | User Code | Content                                                                                                          | Movie Title                           |\n",
    "|-----|-----------|------------------------------------------------------------------------------------------------------------------|---------------------------------------|\n",
    "| 00  | ssl6np    | The most recent film I watched and enjoyed was The Martian                                                        | The Martian                           |\n",
    "| 01  | nrg6cb    | ... 'Mayday Air Disaster' series recently ...                                                                      | Mayday Air Disaster                  |\n",
    "| 02  | qqx3eh    |                                                                                                                  |                                       |\n",
    "| 03  | yhp7nq    | The last movie I watched was The Other Guys.                                                                     | The Other Guys                       |\n",
    "| 04  | waa4bq    | ... last movie I saw was Oppenheimer, I really enjoyed watching Air.                                              | Oppenheimer, Air                      |\n",
    "| 05  | xuw9ap    | ... most recent movie I watched and enjoyed was Oppenheimer                                                       | Oppenheimer                           |\n",
    "| 06  | zh8war    | Baki                                                                                                             |                                       |\n",
    "| 07  | csl5hw    | The most recent film I enjoyed is Oppenheimer.                                                                   | Oppenheimer                           |\n",
    "| 08  | clotane   | The most recent film I enjoyed is Oppenheimer.                                                                   | Oppenheimer                           |\n",
    "| 09  | aalbaran  | I recently watched Jurassic Park.                                                                                | Jurassic Park                         |\n",
    "| 10  | atferentinos | ... Recently, I watched \"Pulp Fiction\" ...                                                                      | Pulp Fiction                          |\n",
    "| 11  | aqsaxm    | ... I recently watched Scream 5.                                                                                 | Scream 5                              |\n",
    "| 12  | tds8tv    | I recently watched and enjoyed Oppenheimer                                                                       | Oppenheimer                           |\n",
    "| 13  | rtt4fb    | ... The most recent movie I have watched and enjoyed is The Highwaymen ...                                       | The Highwaymen                        |\n",
    "| 14  | rmd9ev    | ... The most recent film I watched and enjoyed was Barbie. ...                                                   | Barbie                                |\n",
    "| 15  | bdj9wf    | ... most recent movie that I watched and enjoyed was Shawshank Redemption, ...                                   | Shawshank Redemption                  |\n",
    "| 16  | gshoriz   | Most recent film I watched and enjoyed is One Piece Film: Red                                                    | One Piece Film: Red                   |\n",
    "| 17  | haq3wm    | ... What is the most recent film you watched and enjoyed?\\ The little things featuring Denzel Washington         | The little things                     |\n",
    "| 18  | vvk6rd    | The most recent film I watched and enjoyed is heart of stone                                                     | Heart of Stone                        |\n",
    "| 19  | wfn8aj    | ... I have recently watched the movie “Django Unchained” ...                                                     | Django Unchained                      |\n",
    "| 20  | qzx7av    | ... The most recent film I watched was called Jailer.                                                            | Jailer                                |\n",
    "| 21  | krb3ym    | Oppenheimer                                                                                                      | Oppenheimer                           |\n",
    "| 22  | uay3yb    | ... most recent film you watched and enjoyed? Harry Potter                                                       | Harry Potter                          |\n",
    "| 23  | dkr5ud    | Star Trek (the 2009 release)                                                                                     | Star Trek                             |\n",
    "| 24  | rn7ena    | ... I just watched Avatar: Way of Water ...                                                                      | Avatar: Way of Water                  |\n",
    "| 25  | 141654114| I'm Eric. I really like Oppenheimer.                                                                             | Oppenheimer                           |\n",
    "| 26  | sbv5dn    | ... re-watched the movie Red Notice on Netflix ...                                                               | Red Notice                            |\n",
    "| 27  | mbf4ay    | ... The most recent film I have watched and enjoyed is Oppenheimer.                                              | Oppenheimer                           |\n",
    "| 28  | dja8tx    | Harry Potter and the Half-Blood Prince                                                                          | Harry Potter and the Half-Blood Prince|\n",
    "| 29  | aec4hr    | The most recent film I watched and enjoyed was across the spiderverse.                                           | Across the Spiderverse                |\n",
    "| 30  | hve2ku    | ... I have seen Oppenheimer 3 and half times now ...                                                             | Oppenheimer                           |\n",
    "| 31  | jrr4n     | ... re-watched the movie \"Yeh Jawaani Hai Deewani\" ...                                                           | Yeh Jawaani Hai Deewani               |"
   ]
  },
  {
   "cell_type": "code",
   "execution_count": null,
   "id": "b8e2341f-8061-455b-b08d-7b553c7359f8",
   "metadata": {},
   "outputs": [],
   "source": []
  }
 ],
 "metadata": {
  "kernelspec": {
   "display_name": "eta",
   "language": "python",
   "name": "eta"
  },
  "language_info": {
   "codemirror_mode": {
    "name": "ipython",
    "version": 3
   },
   "file_extension": ".py",
   "mimetype": "text/x-python",
   "name": "python",
   "nbconvert_exporter": "python",
   "pygments_lexer": "ipython3",
   "version": "3.11.3"
  },
  "widgets": {
   "application/vnd.jupyter.widget-state+json": {
    "state": {},
    "version_major": 2,
    "version_minor": 0
   }
  }
 },
 "nbformat": 4,
 "nbformat_minor": 5
}
