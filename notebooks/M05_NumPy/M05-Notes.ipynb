{
 "cells": [
  {
   "cell_type": "markdown",
   "id": "6b927b93-53cc-40a2-aacf-e1c46725aa5e",
   "metadata": {},
   "source": [
    "# M05 Notes"
   ]
  },
  {
   "cell_type": "markdown",
   "id": "525dbbea-0182-4a42-be49-eb23ca3aea7b",
   "metadata": {},
   "source": [
    "# Type Checking"
   ]
  },
  {
   "cell_type": "markdown",
   "id": "90531cd1-6021-455a-bbf1-ab7f9bdc328f",
   "metadata": {},
   "source": [
    "The function `type()` does not return a string value, so you can't test for a type in this way:"
   ]
  },
  {
   "cell_type": "code",
   "execution_count": 45,
   "id": "4dab22ed-490b-467d-a4cb-6dee2a027cf7",
   "metadata": {
    "tags": []
   },
   "outputs": [],
   "source": [
    "x = \"foo\""
   ]
  },
  {
   "cell_type": "code",
   "execution_count": 46,
   "id": "e17f4ca1-a56f-4651-94e6-f1d5fe874cbb",
   "metadata": {
    "tags": []
   },
   "outputs": [
    {
     "data": {
      "text/plain": [
       "False"
      ]
     },
     "execution_count": 46,
     "metadata": {},
     "output_type": "execute_result"
    }
   ],
   "source": [
    "type(x) == 'str'"
   ]
  },
  {
   "cell_type": "markdown",
   "id": "9938ac6d-8702-45f5-9769-57bb30b65a48",
   "metadata": {},
   "source": [
    "The return value of `type()` is not a string:"
   ]
  },
  {
   "cell_type": "code",
   "execution_count": 47,
   "id": "2ab5356e-e8e3-4770-9117-5db8e462b039",
   "metadata": {
    "tags": []
   },
   "outputs": [
    {
     "data": {
      "text/plain": [
       "str"
      ]
     },
     "execution_count": 47,
     "metadata": {},
     "output_type": "execute_result"
    }
   ],
   "source": [
    "type(x)"
   ]
  },
  {
   "cell_type": "markdown",
   "id": "525fbb39-1ab0-4f8e-82e9-e105669969dd",
   "metadata": {},
   "source": [
    "We can see that this is not a string by doing this:"
   ]
  },
  {
   "cell_type": "code",
   "execution_count": 48,
   "id": "9b9a7cd0-a4c4-4256-8a02-f3907735e093",
   "metadata": {
    "tags": []
   },
   "outputs": [
    {
     "data": {
      "text/plain": [
       "type"
      ]
     },
     "execution_count": 48,
     "metadata": {},
     "output_type": "execute_result"
    }
   ],
   "source": [
    "type(type(x))"
   ]
  },
  {
   "cell_type": "markdown",
   "id": "27e03bdc-8f1d-4f48-85ec-8e629d6f853d",
   "metadata": {},
   "source": [
    "So, you can compare the return value with one of Python's built-in data type objects:"
   ]
  },
  {
   "cell_type": "code",
   "execution_count": 49,
   "id": "c36b6c0c-e38c-48fe-a7b7-47d0461104d6",
   "metadata": {
    "tags": []
   },
   "outputs": [
    {
     "data": {
      "text/plain": [
       "True"
      ]
     },
     "execution_count": 49,
     "metadata": {},
     "output_type": "execute_result"
    }
   ],
   "source": [
    "type(x) == str"
   ]
  },
  {
   "cell_type": "markdown",
   "id": "2d1f73a1-2555-478b-9092-0c7043fef9d8",
   "metadata": {
    "tags": []
   },
   "source": [
    "Pythons built-in data types include `str`, `float`, `int`, and `bool`."
   ]
  },
  {
   "cell_type": "markdown",
   "id": "77fb45bd-2103-4d2c-a1b4-bdf718bf79e3",
   "metadata": {},
   "source": [
    "Why use `isinstance()`?"
   ]
  },
  {
   "cell_type": "markdown",
   "id": "13d3edb4-244c-4c86-81d4-10856f8d89bd",
   "metadata": {},
   "source": [
    "For one thing, you can compare a value to multiple data types at once:"
   ]
  },
  {
   "cell_type": "code",
   "execution_count": 33,
   "id": "2f9e290a-95f6-409f-8610-91e7a03151ea",
   "metadata": {
    "tags": []
   },
   "outputs": [
    {
     "data": {
      "text/plain": [
       "(False, True, True)"
      ]
     },
     "execution_count": 33,
     "metadata": {},
     "output_type": "execute_result"
    }
   ],
   "source": [
    "x1 = .1\n",
    "\n",
    "isinstance(x1, int), isinstance(x1, float), isinstance(x1, (float, int))"
   ]
  },
  {
   "cell_type": "markdown",
   "id": "5846af40",
   "metadata": {},
   "source": [
    "# Points\n",
    "\n",
    "- NumPy introduces a new data structure and new data types.\n",
    "- Pandas is built on top of NumPy.\n",
    "- NumPy is foundational to the Python data science toolbox -- SciPy, SciKit Learn, etc."
   ]
  },
  {
   "cell_type": "markdown",
   "id": "8816d2fc-5e43-4cfa-9b39-649b7ff950dd",
   "metadata": {},
   "source": [
    "# Shape"
   ]
  },
  {
   "cell_type": "code",
   "execution_count": 2,
   "id": "79ed0273-ad96-4feb-903f-25cdd31c8664",
   "metadata": {
    "tags": []
   },
   "outputs": [],
   "source": [
    "import numpy as np"
   ]
  },
  {
   "cell_type": "code",
   "execution_count": 36,
   "id": "5532c11e-24e4-40cb-a4fa-2f65433d3282",
   "metadata": {
    "tags": []
   },
   "outputs": [],
   "source": [
    "a = np.ones((4,4))"
   ]
  },
  {
   "cell_type": "code",
   "execution_count": 37,
   "id": "c286c544-78c3-4df3-a0bd-5907b9dfbc7f",
   "metadata": {
    "tags": []
   },
   "outputs": [
    {
     "data": {
      "text/plain": [
       "array([[1., 1., 1., 1.],\n",
       "       [1., 1., 1., 1.],\n",
       "       [1., 1., 1., 1.],\n",
       "       [1., 1., 1., 1.]])"
      ]
     },
     "execution_count": 37,
     "metadata": {},
     "output_type": "execute_result"
    }
   ],
   "source": [
    "a"
   ]
  },
  {
   "cell_type": "markdown",
   "id": "91fa6a87-ab98-498d-88ad-201f83a3067a",
   "metadata": {},
   "source": [
    "**One column matrix**"
   ]
  },
  {
   "cell_type": "code",
   "execution_count": 52,
   "id": "562c7f09-8e7a-4738-9364-3afa5cbccdbb",
   "metadata": {
    "tags": []
   },
   "outputs": [
    {
     "data": {
      "text/plain": [
       "array([[1., 1., 1., 1.]])"
      ]
     },
     "execution_count": 52,
     "metadata": {},
     "output_type": "execute_result"
    }
   ],
   "source": [
    "a[[0]]"
   ]
  },
  {
   "cell_type": "code",
   "execution_count": 51,
   "id": "b43d4214-2bbf-4bd6-917c-132ad5819d1b",
   "metadata": {
    "tags": []
   },
   "outputs": [
    {
     "data": {
      "text/plain": [
       "(1, 4)"
      ]
     },
     "execution_count": 51,
     "metadata": {},
     "output_type": "execute_result"
    }
   ],
   "source": [
    "a[[0]].shape"
   ]
  },
  {
   "cell_type": "markdown",
   "id": "2216b8b0-92bf-411c-9ebe-7a2a878e4950",
   "metadata": {},
   "source": [
    "**Vector**"
   ]
  },
  {
   "cell_type": "code",
   "execution_count": 42,
   "id": "142908fd-eabd-4f53-a229-f11974b17cff",
   "metadata": {
    "tags": []
   },
   "outputs": [
    {
     "data": {
      "text/plain": [
       "array([1., 1., 1., 1.])"
      ]
     },
     "execution_count": 42,
     "metadata": {},
     "output_type": "execute_result"
    }
   ],
   "source": [
    "a[0]"
   ]
  },
  {
   "cell_type": "code",
   "execution_count": 41,
   "id": "96aabc22-ac2c-457f-bf2e-4fded57f3b2a",
   "metadata": {
    "tags": []
   },
   "outputs": [
    {
     "data": {
      "text/plain": [
       "(4,)"
      ]
     },
     "execution_count": 41,
     "metadata": {},
     "output_type": "execute_result"
    }
   ],
   "source": [
    "a[0].shape"
   ]
  }
 ],
 "metadata": {
  "kernelspec": {
   "display_name": "Python 3 (ipykernel)",
   "language": "python",
   "name": "python3"
  },
  "language_info": {
   "codemirror_mode": {
    "name": "ipython",
    "version": 3
   },
   "file_extension": ".py",
   "mimetype": "text/x-python",
   "name": "python",
   "nbconvert_exporter": "python",
   "pygments_lexer": "ipython3",
   "version": "3.11.3"
  }
 },
 "nbformat": 4,
 "nbformat_minor": 5
}
