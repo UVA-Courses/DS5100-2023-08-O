{
 "cells": [
  {
   "cell_type": "code",
   "execution_count": 1,
   "metadata": {},
   "outputs": [],
   "source": [
    "import numpy as np"
   ]
  },
  {
   "cell_type": "code",
   "execution_count": 6,
   "metadata": {},
   "outputs": [
    {
     "name": "stdout",
     "output_type": "stream",
     "text": [
      "1695167333.4783502\n"
     ]
    }
   ],
   "source": [
    "from time import time\n",
    "t0 = time()\n",
    "mylist = []\n",
    "for i in range(1,100001):\n",
    "    if i % 2 == 1:\n",
    "        i *= -1\n",
    "    mylist.append(i)\n",
    "\n",
    "t1 = time()\n",
    "delta_t = t1-t0\n",
    "print(t0)\n"
   ]
  },
  {
   "cell_type": "code",
   "execution_count": 5,
   "metadata": {},
   "outputs": [
    {
     "name": "stdout",
     "output_type": "stream",
     "text": [
      "0.016796112060546875\n"
     ]
    }
   ],
   "source": [
    "t0 = time()\n",
    "mylist = [i *-1 if i % 2 == 1  else i for i in range(1,100001)]\n",
    "t1 = time()\n",
    "print(t1-t0)"
   ]
  },
  {
   "cell_type": "code",
   "execution_count": 12,
   "metadata": {},
   "outputs": [
    {
     "name": "stdout",
     "output_type": "stream",
     "text": [
      "5,6,4,1,6,3,1,6,1,6\n",
      "[5 4 1 1 2 1 6 6 6 1]\n"
     ]
    }
   ],
   "source": [
    "my_list = ','.join((np.random.randint(1,7,10)).astype(str))\n",
    "print(my_list)\n",
    "randos = np.random.randint(1,7,10)\n",
    "print(randos)\n"
   ]
  },
  {
   "cell_type": "code",
   "execution_count": 17,
   "metadata": {},
   "outputs": [
    {
     "name": "stdout",
     "output_type": "stream",
     "text": [
      "<class 'int'>\n",
      "<class 'numpy.ndarray'>\n"
     ]
    }
   ],
   "source": [
    "one_rand = np.random.randint(1)\n",
    "print(type(one_rand))\n",
    "\n",
    "mult_rand = np.random.randint(1,22,5)\n",
    "print(type(mult_rand))"
   ]
  },
  {
   "cell_type": "code",
   "execution_count": 19,
   "metadata": {},
   "outputs": [
    {
     "data": {
      "image/png": "[encoded data removed]",
      "text/plain": [
       "<Figure size 640x480 with 1 Axes>"
      ]
     },
     "metadata": {},
     "output_type": "display_data"
    }
   ],
   "source": [
    "from matplotlib.pyplot import hist\n",
    "hist(mult_rand);"
   ]
  },
  {
   "cell_type": "code",
   "execution_count": 21,
   "metadata": {},
   "outputs": [
    {
     "name": "stdout",
     "output_type": "stream",
     "text": [
      "[[ 0.6834964  -0.90352435  1.94443388]\n",
      " [ 0.71742596  0.32499968 -1.20802917]]\n"
     ]
    }
   ],
   "source": [
    "my_rand = np.random.randn(2,3)\n",
    "print(my_rand)"
   ]
  },
  {
   "cell_type": "code",
   "execution_count": 22,
   "metadata": {},
   "outputs": [
    {
     "name": "stdout",
     "output_type": "stream",
     "text": [
      "[[ 1.3669928  -1.8070487   3.88886775]\n",
      " [ 1.43485191  0.64999935 -2.41605835]]\n"
     ]
    }
   ],
   "source": [
    "print(my_rand * 2)"
   ]
  },
  {
   "cell_type": "code",
   "execution_count": 23,
   "metadata": {},
   "outputs": [
    {
     "name": "stdout",
     "output_type": "stream",
     "text": [
      "[[ 1.3669928  -1.8070487   3.88886775]\n",
      " [ 1.43485191  0.64999935 -2.41605835]]\n"
     ]
    }
   ],
   "source": [
    "print(my_rand + my_rand)"
   ]
  },
  {
   "cell_type": "code",
   "execution_count": 24,
   "metadata": {},
   "outputs": [
    {
     "name": "stdout",
     "output_type": "stream",
     "text": [
      "[[ 1.4630655  -1.10677703  0.51428851]\n",
      " [ 1.39387207  3.07692615 -0.82779458]]\n"
     ]
    }
   ],
   "source": [
    "print(1/my_rand)"
   ]
  },
  {
   "cell_type": "code",
   "execution_count": null,
   "metadata": {},
   "outputs": [],
   "source": [
    "list_one = np.random.randint(10)"
   ]
  },
  {
   "cell_type": "code",
   "execution_count": 25,
   "metadata": {},
   "outputs": [
    {
     "ename": "NameError",
     "evalue": "name 'identity' is not defined",
     "output_type": "error",
     "traceback": [
      "\u001b[0;31m---------------------------------------------------------------------------\u001b[0m",
      "\u001b[0;31mNameError\u001b[0m                                 Traceback (most recent call last)",
      "Cell \u001b[0;32mIn[25], line 1\u001b[0m\n\u001b[0;32m----> 1\u001b[0m identity(\u001b[39m4\u001b[39m)\n",
      "\u001b[0;31mNameError\u001b[0m: name 'identity' is not defined"
     ]
    }
   ],
   "source": [
    "identity(4)"
   ]
  }
 ],
 "metadata": {
  "kernelspec": {
   "display_name": "Python 3",
   "language": "python",
   "name": "python3"
  },
  "language_info": {
   "codemirror_mode": {
    "name": "ipython",
    "version": 3
   },
   "file_extension": ".py",
   "mimetype": "text/x-python",
   "name": "python",
   "nbconvert_exporter": "python",
   "pygments_lexer": "ipython3",
   "version": "3.8.7"
  },
  "orig_nbformat": 4
 },
 "nbformat": 4,
 "nbformat_minor": 2
}
