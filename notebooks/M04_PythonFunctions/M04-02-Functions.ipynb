{
 "cells": [
  {
   "cell_type": "markdown",
   "metadata": {},
   "source": [
    "# NB: Introduction to Functions\n",
    "\n",
    "**Objectives**\n",
    "- Explain the benefits of functions\n",
    "- Illustrate how to use built-in functions\n",
    "- Illustrate how to create and use your own (user-defined) functions\n",
    "- Demonstrate the scope and lifetime of a variable\n",
    "- Illustrate global and local nature of variables through functions\n",
    "- Demonstrate function parameter use\n",
    "- Provide recommendations on how to create and document functions\n",
    "- Show how to print and write docstrings\n",
    "\n",
    "**Concepts**\n",
    "- functions\n",
    "- built-in functions\n",
    "- user-defined functions\n",
    "- variable scope\n",
    "- global versus local variables\n",
    "- default arguments\n",
    "- *args\n",
    "- function call\n",
    "- docstring\n",
    "\n",
    "## Introduction\n",
    "\n",
    "A function is piece of source code, separate fom the larger program, that performs a specific task. \n",
    "\n",
    "This section of code is given a name and can be called from the main program. It is called by using its given name.\n",
    "\n",
    "Functions are the **verbs** of a programming language. They signify action, and take subjects and objects (as it were).\n",
    "\n",
    "Functions take **input** and produce **output**. \n",
    "\n",
    "- Function inputs are called both **parameters** and **arguments**.\n",
    "- Outputs are called **return** values\n",
    "\n",
    "Functions are always written with parentheses at the end of their names, e.g.\n",
    "\n",
    "`len(some_list)`\n",
    "\n",
    "Internally, they contain a block of code to do their work.  \n",
    "\n",
    "Often the producte a **transformation** ... from simple to complex.\n",
    "\n",
    "When you use a function, we say you **call** a function. Programmers speak of \"function calls\" and \"callbacks\".\n",
    "\n",
    "## Benefits\n",
    "\n",
    "Reduce complex tasks into simpler tasks.\n",
    "\n",
    "Eliminate duplicate code -- no need to re-write, reuse function as needed.\n",
    "\n",
    "Code reuse. Once function is written, you can reuse it in any other program.\n",
    "\n",
    "Distribute tasks to multiple programmers. For example, each function can be written by someone.\n",
    "\n",
    "Hide implementation details, i.e. abstraction. \n",
    "\n",
    "Increase code readability.\n",
    "\n",
    "Improve debugging by improving traceability. Things are easier to follow; you can jump from function to function.\n",
    "\n",
    "## Built-in Functions\n",
    "\n",
    "Python provides many **built-in** functions. See [Python built-in functions](https://docs.python.org/3/library/functions.html).\n",
    "\n",
    "We've looked at many of these already.\n",
    "\n",
    "These are functions that are available to use any time your are running Python.\n",
    "\n",
    "To take one simple example, this is a built-in function: `bool()`. \n",
    "\n",
    "Takes an argument $x$ and returns a boolean value, i.e. `True` or `False`.  "
   ]
  },
  {
   "cell_type": "code",
   "execution_count": null,
   "metadata": {},
   "outputs": [],
   "source": [
    "bool(0), bool(500)"
   ]
  },
  {
   "cell_type": "markdown",
   "metadata": {},
   "source": [
    "## Imported Functions\n",
    "\n",
    "Python is meant to be a highly modular language. \\\n",
    "It is not designed to have a lot of special purpose functions built into it. \\\n",
    "These keeps it light and highly customizable.\n",
    "\n",
    "Many functions (and other stuff) can be imported into a program to add to the functions that you can call in a script.\n",
    "\n",
    "There are also many **packages** to bring in additional functions.\n",
    "\n",
    "Packages and Libraries\n",
    "\n",
    "## User-Defined Functions\n",
    "\n",
    "Python makes it easy for you to write your own functions. These are called **user-defined** functions.\n",
    "\n",
    "Let's write a function to compare the list against a threshold."
   ]
  },
  {
   "cell_type": "code",
   "execution_count": 2,
   "metadata": {},
   "outputs": [],
   "source": [
    "def vals_greater_than_or_equal_to_threshold(vals, thresh):\n",
    "    '''\n",
    "    This is the \"docstring\" of a function. It is optional but expected. It describes it's \n",
    "    purpose and the nature of the input and return values, as well as a sense of what it does.\n",
    "    More elaborate information should appear in external documentation packages with the function.\n",
    "    \n",
    "    PURPOSE: Given a list of values, compare each value against a threshold\n",
    "    \n",
    "    INPUTS\n",
    "    vals    list of ints or floats\n",
    "    thresh  int or float\n",
    "    \n",
    "    OUTPUT\n",
    "    bools  list of booleans\n",
    "    '''\n",
    "    \n",
    "    bools = [val >= thresh for val in vals]\n",
    "    \n",
    "    return bools"
   ]
  },
  {
   "cell_type": "markdown",
   "metadata": {},
   "source": [
    "**Let's break down the components**\n",
    "\n",
    "The function definition starts with `def`, followed by name, one or more arguments in parenthesis, and then a colon.\n",
    "\n",
    "Next comes a **docstring** to provide information to users about how and why to use the function.\n",
    "\n",
    "The function **body** follows.\n",
    "\n",
    ":astly is a `return` statement\n",
    "\n",
    "The **function call** allows for the function to be used. \\\n",
    "It consists of function name and required arguments:\n",
    "\n",
    "`vals_greater_than_or_equal_to_threshold(arg1, arg2)` where `arg1`, `arg2` are arbitrary names.\n",
    "\n",
    "### About the docstring\n",
    "\n",
    "A **docstring** m occurs as first statement in module, function, class, or method definition\n",
    "\n",
    "Internally, it is saved in `__doc__` attribute of the function object.\n",
    "\n",
    "It needs to be indented. \n",
    "\n",
    "It can be a single line or a multi-line string.\n",
    "\n",
    "### Let's test our function\n",
    "\n",
    "The function body used a `list comprehension` for the compare:\n",
    "\n",
    "`[val >= thresh for val in vals]` "
   ]
  },
  {
   "cell_type": "code",
   "execution_count": 7,
   "metadata": {},
   "outputs": [
    {
     "data": {
      "text/plain": [
       "[False, True]"
      ]
     },
     "execution_count": 7,
     "metadata": {},
     "output_type": "execute_result"
    }
   ],
   "source": [
    "## validate that it works for ints\n",
    "\n",
    "x = [3, 4]\n",
    "thr = 4\n",
    "\n",
    "vals_greater_than_or_equal_to_threshold(x, thr)"
   ]
  },
  {
   "cell_type": "code",
   "execution_count": null,
   "metadata": {},
   "outputs": [],
   "source": [
    "## validate that it works for floats\n",
    "\n",
    "x = [3.0, 4.2]\n",
    "thr = 4.2\n",
    "\n",
    "vals_greater_than_or_equal_to_threshold(x, thr)"
   ]
  },
  {
   "cell_type": "code",
   "execution_count": null,
   "metadata": {},
   "outputs": [],
   "source": [
    "## vals_greater_than_or_equal_to_threshold(\"foo\", \"bar\")"
   ]
  },
  {
   "cell_type": "markdown",
   "metadata": {},
   "source": [
    "This gives correct results and does exactly what we want.  \n",
    "\n",
    "### Users can print the docstring"
   ]
  },
  {
   "cell_type": "code",
   "execution_count": null,
   "metadata": {},
   "outputs": [],
   "source": [
    "print(vals_greater_than_or_equal_to_threshold.__doc__)"
   ]
  },
  {
   "cell_type": "markdown",
   "metadata": {},
   "source": [
    "print the help"
   ]
  },
  {
   "cell_type": "code",
   "execution_count": null,
   "metadata": {},
   "outputs": [],
   "source": [
    "help(vals_greater_than_or_equal_to_threshold)"
   ]
  },
  {
   "cell_type": "code",
   "execution_count": null,
   "metadata": {},
   "outputs": [],
   "source": [
    "?vals_greater_than_or_equal_to_threshold"
   ]
  },
  {
   "cell_type": "markdown",
   "metadata": {},
   "source": [
    "**Let's test our function**\n",
    "\n",
    "The function body used a `list comprehension` for the comparison:\n",
    "\n",
    "`[val >= thresh for val in vals]` "
   ]
  },
  {
   "cell_type": "code",
   "execution_count": null,
   "metadata": {},
   "outputs": [],
   "source": [
    "## validate that it works for ints\n",
    "\n",
    "x = [3, 4]\n",
    "thr = 4\n",
    "\n",
    "vals_greater_than_or_equal_to_threshold(x, thr)"
   ]
  },
  {
   "cell_type": "code",
   "execution_count": null,
   "metadata": {},
   "outputs": [],
   "source": [
    "## validate that it works for floats\n",
    "\n",
    "x = [3.0, 4.2]\n",
    "thr = 4.2\n",
    "\n",
    "vals_greater_than_or_equal_to_threshold(x, thr)"
   ]
  },
  {
   "cell_type": "markdown",
   "metadata": {},
   "source": [
    "This gives correct results and does exactly what we want.  \n",
    "\n",
    "Print the docstring"
   ]
  },
  {
   "cell_type": "code",
   "execution_count": null,
   "metadata": {},
   "outputs": [],
   "source": [
    "print(vals_greater_than_or_equal_to_threshold.__doc__)"
   ]
  },
  {
   "cell_type": "markdown",
   "metadata": {},
   "source": [
    "Print the help"
   ]
  },
  {
   "cell_type": "code",
   "execution_count": null,
   "metadata": {},
   "outputs": [],
   "source": [
    "help(vals_greater_than_or_equal_to_threshold)"
   ]
  },
  {
   "cell_type": "markdown",
   "metadata": {},
   "source": [
    "Use the `?` prefix ..."
   ]
  },
  {
   "cell_type": "code",
   "execution_count": null,
   "metadata": {},
   "outputs": [],
   "source": [
    "?vals_greater_than_or_equal_to_threshold"
   ]
  },
  {
   "cell_type": "markdown",
   "metadata": {},
   "source": [
    "## Passing Parameters\n",
    "\n",
    "Functions need to be called with correct number of parameters.\n",
    "\n",
    "This function requires two params, but the function call includes only one param."
   ]
  },
  {
   "cell_type": "code",
   "execution_count": 8,
   "metadata": {},
   "outputs": [],
   "source": [
    "def fcn_bad_args(x, y):\n",
    "    return x + y"
   ]
  },
  {
   "cell_type": "code",
   "execution_count": 9,
   "metadata": {},
   "outputs": [
    {
     "ename": "TypeError",
     "evalue": "fcn_bad_args() missing 1 required positional argument: 'y'",
     "output_type": "error",
     "traceback": [
      "\u001b[0;31m---------------------------------------------------------------------------\u001b[0m",
      "\u001b[0;31mTypeError\u001b[0m                                 Traceback (most recent call last)",
      "\u001b[0;32m<ipython-input-9-a5e3eeaa83b8>\u001b[0m in \u001b[0;36m<module>\u001b[0;34m\u001b[0m\n\u001b[0;32m----> 1\u001b[0;31m \u001b[0mfcn_bad_args\u001b[0m\u001b[0;34m(\u001b[0m\u001b[0;36m10\u001b[0m\u001b[0;34m)\u001b[0m\u001b[0;34m\u001b[0m\u001b[0;34m\u001b[0m\u001b[0m\n\u001b[0m",
      "\u001b[0;31mTypeError\u001b[0m: fcn_bad_args() missing 1 required positional argument: 'y'"
     ]
    }
   ],
   "source": [
    "fcn_bad_args(10)"
   ]
  },
  {
   "cell_type": "markdown",
   "metadata": {},
   "source": [
    "### Parameter Order\n",
    "\n",
    "When calling a function, **parameter order matters**."
   ]
  },
  {
   "cell_type": "code",
   "execution_count": 10,
   "metadata": {},
   "outputs": [],
   "source": [
    "def fcn_swapped_args(x, y):\n",
    "    out = 5 * x + y\n",
    "    return out"
   ]
  },
  {
   "cell_type": "code",
   "execution_count": 11,
   "metadata": {},
   "outputs": [],
   "source": [
    "x = 1\n",
    "y = 2"
   ]
  },
  {
   "cell_type": "code",
   "execution_count": 12,
   "metadata": {},
   "outputs": [
    {
     "data": {
      "text/plain": [
       "7"
      ]
     },
     "execution_count": 12,
     "metadata": {},
     "output_type": "execute_result"
    }
   ],
   "source": [
    "fcn_swapped_args(x, y)"
   ]
  },
  {
   "cell_type": "code",
   "execution_count": 13,
   "metadata": {},
   "outputs": [
    {
     "data": {
      "text/plain": [
       "11"
      ]
     },
     "execution_count": 13,
     "metadata": {},
     "output_type": "execute_result"
    }
   ],
   "source": [
    "fcn_swapped_args(y, x)"
   ]
  },
  {
   "cell_type": "markdown",
   "metadata": {},
   "source": [
    "Generally it's best to keep parameters in order.  \n",
    "\n",
    "You can swap the order by putting the parameter names in the function call."
   ]
  },
  {
   "cell_type": "code",
   "execution_count": null,
   "metadata": {},
   "outputs": [],
   "source": [
    "fcn_swapped_args(y=y, x=x)"
   ]
  },
  {
   "cell_type": "markdown",
   "metadata": {},
   "source": [
    "### Weirdness Alert\n",
    "\n",
    "Note that the same name can be used for the parameter names and the variables passed to them. \n",
    "\n",
    "The names themselves have nothng to do with each other! \n",
    "\n",
    "In other words, just because a function names an argument `foo`, \\\n",
    "the variables passed to it don't have to name `foo` or anything like it. \\\n",
    "They can even be named the same thing -- it does not matter.\n",
    "\n",
    "## Unpacking List-likes with `*args`\n",
    "\n",
    "The `*` prefix operator can be passed to avoid specifying the arguments individually."
   ]
  },
  {
   "cell_type": "code",
   "execution_count": 14,
   "metadata": {},
   "outputs": [],
   "source": [
    "def show_arg_expansion(*models):\n",
    "    \n",
    "    print(\"models          :\", models)\n",
    "    print(\"input arg type  :\",  type(models))\n",
    "    print(\"input arg length:\", len(models))\n",
    "    print(\"-----------------------------\")\n",
    "    \n",
    "    for mod in models:\n",
    "        print(mod)    "
   ]
  },
  {
   "cell_type": "markdown",
   "metadata": {},
   "source": [
    "We can pass a tuple of values to the function ..."
   ]
  },
  {
   "cell_type": "code",
   "execution_count": 15,
   "metadata": {},
   "outputs": [
    {
     "name": "stdout",
     "output_type": "stream",
     "text": [
      "models          : ('logreg', 'naive_bayes', 'gbm')\n",
      "input arg type  : <class 'tuple'>\n",
      "input arg length: 3\n",
      "-----------------------------\n",
      "logreg\n",
      "naive_bayes\n",
      "gbm\n"
     ]
    }
   ],
   "source": [
    "show_arg_expansion(\"logreg\", \"naive_bayes\", \"gbm\")"
   ]
  },
  {
   "cell_type": "markdown",
   "metadata": {},
   "source": [
    "You can also pass a list to the function. \n",
    "\n",
    "If you want the elements unpacked, put `*` before the list."
   ]
  },
  {
   "cell_type": "code",
   "execution_count": 16,
   "metadata": {},
   "outputs": [
    {
     "name": "stdout",
     "output_type": "stream",
     "text": [
      "models          : ('logreg', 'naive_bayes', 'gbm')\n",
      "input arg type  : <class 'tuple'>\n",
      "input arg length: 3\n",
      "-----------------------------\n",
      "logreg\n",
      "naive_bayes\n",
      "gbm\n"
     ]
    }
   ],
   "source": [
    "models = [\"logreg\", \"naive_bayes\", \"gbm\"]\n",
    "show_arg_expansion(*models)"
   ]
  },
  {
   "cell_type": "markdown",
   "metadata": {},
   "source": [
    "This approach allows your function to accept an arbitrary number of arguments."
   ]
  },
  {
   "cell_type": "code",
   "execution_count": null,
   "metadata": {},
   "outputs": [],
   "source": [
    "show_arg_expansion('a b c d e f g'.split())"
   ]
  },
  {
   "cell_type": "markdown",
   "metadata": {},
   "source": [
    "**The reverse is true, too.**\n",
    "\n",
    "You can use the `*` prefix to pass list-like objects to a function that specifies its arguments."
   ]
  },
  {
   "cell_type": "code",
   "execution_count": null,
   "metadata": {},
   "outputs": [],
   "source": [
    "def arg_expansion_example(x, y):\n",
    "    return x**y"
   ]
  },
  {
   "cell_type": "code",
   "execution_count": null,
   "metadata": {},
   "outputs": [],
   "source": [
    "my_args = [2, 8]\n",
    "arg_expansion_example(*my_args)"
   ]
  },
  {
   "cell_type": "markdown",
   "metadata": {},
   "source": [
    "But, the passed object must be the right length."
   ]
  },
  {
   "cell_type": "code",
   "execution_count": null,
   "metadata": {},
   "outputs": [],
   "source": [
    "my_args2 = [2, 8, 5]\n",
    "arg_expansion_example(*my_args2)"
   ]
  },
  {
   "cell_type": "code",
   "execution_count": null,
   "metadata": {},
   "outputs": [],
   "source": [
    "## **my_dict"
   ]
  },
  {
   "cell_type": "markdown",
   "metadata": {},
   "source": [
    "## Default Arguments\n",
    "\n",
    "Use default arguments to set the value of arguments when left unspecified."
   ]
  },
  {
   "cell_type": "code",
   "execution_count": 17,
   "metadata": {},
   "outputs": [],
   "source": [
    "def show_results(precision, printing=True):\n",
    "    precision = round(precision, 2)\n",
    "    if printing:\n",
    "      print('precision =', precision)\n",
    "    return precision"
   ]
  },
  {
   "cell_type": "code",
   "execution_count": 18,
   "metadata": {},
   "outputs": [
    {
     "name": "stdout",
     "output_type": "stream",
     "text": [
      "precision = 0.91\n"
     ]
    }
   ],
   "source": [
    "pr = 0.912\n",
    "res = show_results(pr)"
   ]
  },
  {
   "cell_type": "markdown",
   "metadata": {},
   "source": [
    "The function call didn't specify `printing`, so it defaulted to True.\n",
    "\n",
    "**NOTE:** Default arguments must follow non-default arguments. This causes trouble:"
   ]
  },
  {
   "cell_type": "code",
   "execution_count": 19,
   "metadata": {},
   "outputs": [
    {
     "ename": "SyntaxError",
     "evalue": "non-default argument follows default argument (<ipython-input-19-29f5905a75a5>, line 1)",
     "output_type": "error",
     "traceback": [
      "\u001b[0;36m  File \u001b[0;32m\"<ipython-input-19-29f5905a75a5>\"\u001b[0;36m, line \u001b[0;32m1\u001b[0m\n\u001b[0;31m    def show_results(precision, printing=True, uhoh):\u001b[0m\n\u001b[0m                     ^\u001b[0m\n\u001b[0;31mSyntaxError\u001b[0m\u001b[0;31m:\u001b[0m non-default argument follows default argument\n"
     ]
    }
   ],
   "source": [
    "def show_results(precision, printing=True, uhoh):\n",
    "    precision = round(precision, 2)\n",
    "    if printing:\n",
    "      print('precision =', precision)\n",
    "    return precision"
   ]
  },
  {
   "cell_type": "markdown",
   "metadata": {},
   "source": [
    "## Returning Values\n",
    "\n",
    "Functions are not required to have return statement.\n",
    "\n",
    "If there is no return statement, a function returns `None`.  \n",
    "\n",
    "Functions can return no value (`None`), one value, or many.  \n",
    "\n",
    "Many values are returned as a tuple.\n",
    "\n",
    "Any Python object can be returned.  "
   ]
  },
  {
   "cell_type": "code",
   "execution_count": 20,
   "metadata": {},
   "outputs": [],
   "source": [
    "## returns None, and prints.\n",
    "\n",
    "def fcn_nothing_to_return(x, y):\n",
    "    out = 'nothing to see here!'\n",
    "    print(out)"
   ]
  },
  {
   "cell_type": "code",
   "execution_count": 21,
   "metadata": {},
   "outputs": [
    {
     "name": "stdout",
     "output_type": "stream",
     "text": [
      "nothing to see here!\n"
     ]
    }
   ],
   "source": [
    "fcn_nothing_to_return(x, y)"
   ]
  },
  {
   "cell_type": "code",
   "execution_count": 22,
   "metadata": {},
   "outputs": [
    {
     "name": "stdout",
     "output_type": "stream",
     "text": [
      "nothing to see here!\n",
      "None\n"
     ]
    }
   ],
   "source": [
    "r = fcn_nothing_to_return(1, 1)\n",
    "print(r)"
   ]
  },
  {
   "cell_type": "code",
   "execution_count": 23,
   "metadata": {},
   "outputs": [],
   "source": [
    "## returns three values\n",
    "\n",
    "def negate_coords(x, y, z):\n",
    "    return -x, -y, -z "
   ]
  },
  {
   "cell_type": "code",
   "execution_count": 24,
   "metadata": {},
   "outputs": [
    {
     "name": "stdout",
     "output_type": "stream",
     "text": [
      "a = -10\n",
      "b = -20\n",
      "c = -30\n"
     ]
    }
   ],
   "source": [
    "a, b, c = negate_coords(10, 20, 30)\n",
    "print('a =', a)\n",
    "print('b =', b)\n",
    "print('c =', c)"
   ]
  },
  {
   "cell_type": "code",
   "execution_count": 25,
   "metadata": {},
   "outputs": [],
   "source": [
    "foo = negate_coords(10, 20, 30)"
   ]
  },
  {
   "cell_type": "code",
   "execution_count": 27,
   "metadata": {},
   "outputs": [
    {
     "data": {
      "text/plain": [
       "((-10, -20, -30), 3)"
      ]
     },
     "execution_count": 27,
     "metadata": {},
     "output_type": "execute_result"
    }
   ],
   "source": [
    "foo, len(foo)"
   ]
  },
  {
   "cell_type": "markdown",
   "metadata": {},
   "source": [
    "**If you don't need an output, use the dummy variable `_`**"
   ]
  },
  {
   "cell_type": "code",
   "execution_count": null,
   "metadata": {},
   "outputs": [],
   "source": [
    "d, e, _ = negate_coords(10,20,30)\n",
    "print('d =', d)\n",
    "print('e =', e)"
   ]
  },
  {
   "cell_type": "markdown",
   "metadata": {},
   "source": [
    "**Note:** It's generally a good idea to include return statements, even if not returning a value.  \n",
    "\n",
    "This shows that you did not forget to consider the return value.\n",
    "\n",
    "You can use `return` or `return None`.\n",
    "\n",
    "**Functions can contain multiple return statements**.\n",
    "\n",
    "These may be used under different logical conditions."
   ]
  },
  {
   "cell_type": "code",
   "execution_count": null,
   "metadata": {},
   "outputs": [],
   "source": [
    "def absolute_value(num):\n",
    "    if num >= 0:\n",
    "        return num\n",
    "    return -num"
   ]
  },
  {
   "cell_type": "code",
   "execution_count": null,
   "metadata": {},
   "outputs": [],
   "source": [
    "absolute_value(-4)"
   ]
  },
  {
   "cell_type": "code",
   "execution_count": null,
   "metadata": {},
   "outputs": [],
   "source": [
    "absolute_value(4)"
   ]
  },
  {
   "cell_type": "markdown",
   "metadata": {},
   "source": [
    "For non-negative values, the first `return` is reached.  \n",
    "For negative values, the second `return` is reached.\n",
    "\n",
    "## Function Design\n",
    "\n",
    "A function is not just a bag of code!\n",
    "\n",
    "Some good practices for creating and using functions:\n",
    "\n",
    "- design a function to do one thing\n",
    "\n",
    "Make them as simple as possible, which makes them: \n",
    "\n",
    "- more comprehensible\n",
    "- easier to maintain\n",
    "- reusable\n",
    "\n",
    "This helps avoid situations where a team has 20 variations of similar functions.\n",
    "\n",
    "Give your function a good name. \n",
    "\n",
    "- It should reflect the action it performs. \n",
    "- Be consistent in your naming conventions.\n",
    "- A name like `compute_variances_sort_save_print` suggests the function is overworked!\n",
    "\n",
    "If the function `compute_variances` also produces plots and updates variables, it will cause confusion.  \n",
    "\n",
    "Always give your function a docstring\n",
    "- Particularly important since indicating data types is not required.  \n",
    "- As a side note, you can include this information by using **type annotation**.\n",
    "\n",
    "Finally, at some point you may be interested to learn some of the formatting languages that have been developed to write docstrings. See [Lutz 2019](https://learning.oreilly.com/library/view/learning-python-5th/9781449355722/ch15.html) and this web page about [Documenting Python Code](https://realpython.com/documenting-python-code/) for more info.\n"
   ]
  }
 ],
 "metadata": {
  "kernelspec": {
   "display_name": "Python 3 (ipykernel)",
   "language": "python",
   "name": "python3"
  },
  "language_info": {
   "codemirror_mode": {
    "name": "ipython",
    "version": 3
   },
   "file_extension": ".py",
   "mimetype": "text/x-python",
   "name": "python",
   "nbconvert_exporter": "python",
   "pygments_lexer": "ipython3",
   "version": "3.11.3"
  }
 },
 "nbformat": 4,
 "nbformat_minor": 4
}
