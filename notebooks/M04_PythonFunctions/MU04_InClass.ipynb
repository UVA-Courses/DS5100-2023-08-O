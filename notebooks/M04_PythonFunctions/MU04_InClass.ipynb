{
 "cells": [
  {
   "cell_type": "code",
   "execution_count": 1,
   "metadata": {},
   "outputs": [
    {
     "name": "stdout",
     "output_type": "stream",
     "text": [
      "2\n"
     ]
    }
   ],
   "source": [
    "x = 2\n",
    "print(x)"
   ]
  },
  {
   "cell_type": "code",
   "execution_count": 3,
   "metadata": {},
   "outputs": [
    {
     "name": "stdout",
     "output_type": "stream",
     "text": [
      "True\n"
     ]
    }
   ],
   "source": [
    "def check_length(a, b):\n",
    "    \"\"\"\n",
    "    Purpose: check if the length of text is equal to a value\n",
    "    \n",
    "    Inputs: \n",
    "    text  str\n",
    "    val   integer\n",
    "    \"\"\"\n",
    "    return len(a)==b\n",
    "\n",
    "print(check_length(\"is this text the right length?\",30))"
   ]
  },
  {
   "cell_type": "code",
   "execution_count": 9,
   "metadata": {},
   "outputs": [
    {
     "name": "stdout",
     "output_type": "stream",
     "text": [
      "49\n",
      "144\n",
      "196\n",
      "4\n",
      "25\n",
      "100\n"
     ]
    }
   ],
   "source": [
    "def square(*a):\n",
    "    for item in a:\n",
    "        print(item**2)\n",
    "    return None\n",
    "    \n",
    "square(7,12,14)\n",
    "my_list = [2,5,10]\n",
    "square(*my_list)"
   ]
  },
  {
   "cell_type": "code",
   "execution_count": 13,
   "metadata": {},
   "outputs": [
    {
     "name": "stdout",
     "output_type": "stream",
     "text": [
      "T14D\n"
     ]
    }
   ],
   "source": [
    "def word_shortener(my_str):\n",
    "    \"\"\"\n",
    "    PURPOSE: shorten a word to include first and last character and display number of characters in betweeen\n",
    "    \"\"\"\n",
    "    if not isinstance(my_str,str):\n",
    "        print(f\"{my_str} is a {type(my_str)}, not a string! Please input a string\")\n",
    "    elif(len(my_str)<=4):\n",
    "        print(\"please input longer string\")\n",
    "    else:\n",
    "        first = my_str[0].upper()\n",
    "        last = my_str[-1].upper()\n",
    "        middle_num = len(my_str[1:-1])\n",
    "        word = first + str(middle_num) + last\n",
    "        return word\n",
    "\n",
    "print(word_shortener(\"thisisprettyhard\"))"
   ]
  },
  {
   "cell_type": "code",
   "execution_count": 14,
   "metadata": {},
   "outputs": [
    {
     "data": {
      "text/plain": [
       "'T14D'"
      ]
     },
     "execution_count": 14,
     "metadata": {},
     "output_type": "execute_result"
    }
   ],
   "source": [
    "get_short = lambda x: f\"{x[0]}{len(x[1:-1])}{x[-1]}\".upper()\n",
    "get_short(\"thisisprettyhard\")"
   ]
  },
  {
   "cell_type": "code",
   "execution_count": 17,
   "metadata": {},
   "outputs": [
    {
     "name": "stdout",
     "output_type": "stream",
     "text": [
      "1\n",
      "0\n"
     ]
    }
   ],
   "source": [
    "def minus_5(val):\n",
    "    diff = val - 5\n",
    "    if(diff >= 0):\n",
    "        return 1\n",
    "    return 0\n",
    "    \n",
    "print(minus_5(27))\n",
    "print(minus_5(3))"
   ]
  },
  {
   "cell_type": "code",
   "execution_count": 22,
   "metadata": {},
   "outputs": [
    {
     "ename": "NameError",
     "evalue": "name 'secret' is not defined",
     "output_type": "error",
     "traceback": [
      "\u001b[0;31m---------------------------------------------------------------------------\u001b[0m",
      "\u001b[0;31mNameError\u001b[0m                                 Traceback (most recent call last)",
      "Cell \u001b[0;32mIn[22], line 4\u001b[0m\n\u001b[1;32m      2\u001b[0m     secret \u001b[39m=\u001b[39m \u001b[39m2\u001b[39m\n\u001b[1;32m      3\u001b[0m foo()\n\u001b[0;32m----> 4\u001b[0m \u001b[39mprint\u001b[39m(secret)\n",
      "\u001b[0;31mNameError\u001b[0m: name 'secret' is not defined"
     ]
    }
   ],
   "source": [
    "def foo():\n",
    "    secret = 2\n",
    "foo()\n",
    "print(secret)"
   ]
  },
  {
   "cell_type": "code",
   "execution_count": 25,
   "metadata": {},
   "outputs": [
    {
     "name": "stdout",
     "output_type": "stream",
     "text": [
      "True\n",
      "False\n"
     ]
    }
   ],
   "source": [
    "check_range = lambda x: x>=10 and x<20\n",
    "print(check_range(12))\n",
    "print(check_range(5))\n"
   ]
  },
  {
   "cell_type": "code",
   "execution_count": 29,
   "metadata": {},
   "outputs": [
    {
     "name": "stdout",
     "output_type": "stream",
     "text": [
      "113\n"
     ]
    }
   ],
   "source": [
    "c2f = lambda x: x*1.8 + 32\n",
    "f2c = lambda x: (x-32)/1.8\n",
    "targets = {\n",
    "    'f': c2f,\n",
    "    'c': f2c\n",
    "}\n",
    "\n",
    "t2t = lambda tval, target: round(targets[target](tval))\n",
    "f = t2t(45,'f')\n",
    "print(f)\n"
   ]
  }
 ],
 "metadata": {
  "kernelspec": {
   "display_name": "Python 3",
   "language": "python",
   "name": "python3"
  },
  "language_info": {
   "codemirror_mode": {
    "name": "ipython",
    "version": 3
   },
   "file_extension": ".py",
   "mimetype": "text/x-python",
   "name": "python",
   "nbconvert_exporter": "python",
   "pygments_lexer": "ipython3",
   "version": "3.8.7"
  },
  "orig_nbformat": 4
 },
 "nbformat": 4,
 "nbformat_minor": 2
}
