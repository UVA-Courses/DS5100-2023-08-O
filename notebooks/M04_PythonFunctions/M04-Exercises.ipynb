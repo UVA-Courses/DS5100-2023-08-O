{
 "cells": [
  {
   "cell_type": "markdown",
   "id": "2d0e877d",
   "metadata": {
    "slideshow": {
     "slide_type": "slide"
    }
   },
   "source": [
    "# M04 Exercises\n",
    "\n",
    "DS 5100 | Fall 2023 | Online"
   ]
  },
  {
   "cell_type": "markdown",
   "id": "cb720b08",
   "metadata": {
    "slideshow": {
     "slide_type": "slide"
    }
   },
   "source": [
    "# Functions"
   ]
  },
  {
   "cell_type": "markdown",
   "id": "11fb4b7c",
   "metadata": {
    "slideshow": {
     "slide_type": "slide"
    }
   },
   "source": [
    "# Exercise 4.1\n",
    "\n",
    "Write a function with these requirements:\n",
    "- has a sensible name\n",
    "- contains a docstring\n",
    "- takes two inputs: a string and an integer\n",
    "- returns `True` if the string length is equal to the integer, else `False`\n",
    "\n",
    "Call the function, passing inputs:  \n",
    "- `\"is this text the right length?\"` for the string\n",
    "- `30` for the integer\n",
    "\n",
    "Verify the output is `True`.  Try other combinations."
   ]
  },
  {
   "cell_type": "code",
   "execution_count": 1,
   "id": "b4a6fe75",
   "metadata": {
    "slideshow": {
     "slide_type": "subslide"
    },
    "tags": []
   },
   "outputs": [],
   "source": [
    "def verify_string_length(text, val):\n",
    "    \"\"\"\n",
    "    PURPOSE: check if the length of text is equal to a value\n",
    "    \n",
    "    INPUTS:\n",
    "    text   str\n",
    "    val    integer\n",
    "    \n",
    "    OUTPUTS:\n",
    "    check  bool\n",
    "    \"\"\"\n",
    "    \n",
    "#     check = len(text) == val\n",
    "#     return check\n",
    "    return len(text) == val # Could just do this"
   ]
  },
  {
   "cell_type": "code",
   "execution_count": 72,
   "id": "1fe8a3d6",
   "metadata": {
    "slideshow": {
     "slide_type": "subslide"
    },
    "tags": []
   },
   "outputs": [
    {
     "data": {
      "text/plain": [
       "True"
      ]
     },
     "execution_count": 72,
     "metadata": {},
     "output_type": "execute_result"
    }
   ],
   "source": [
    "txt = \"is this text the right length?\"\n",
    "val = 30\n",
    "out = verify_string_length(txt, val)\n",
    "out"
   ]
  },
  {
   "cell_type": "code",
   "execution_count": 2,
   "id": "e21caf47",
   "metadata": {
    "scrolled": true,
    "slideshow": {
     "slide_type": "subslide"
    },
    "tags": []
   },
   "outputs": [
    {
     "data": {
      "text/plain": [
       "False"
      ]
     },
     "execution_count": 2,
     "metadata": {},
     "output_type": "execute_result"
    }
   ],
   "source": [
    "verify_string_length(\"The foul occurred after the buzzer.\", 10)"
   ]
  },
  {
   "cell_type": "markdown",
   "id": "8331927c",
   "metadata": {
    "slideshow": {
     "slide_type": "slide"
    }
   },
   "source": [
    "# Exercise 4.2\n",
    "\n",
    "Write a function with these requirements:\n",
    "- takes `*args` for the input argument\n",
    "- squares each argument, printing the value. You can use a `for` loop.\n",
    "- returns `None`\n",
    "\n",
    "Call the function, passing at least two integers."
   ]
  },
  {
   "cell_type": "code",
   "execution_count": 4,
   "id": "8fa3af92",
   "metadata": {
    "slideshow": {
     "slide_type": "subslide"
    }
   },
   "outputs": [],
   "source": [
    "def square_args(*vars):\n",
    "    for var in vars:\n",
    "        print(var**2)\n",
    "    return None"
   ]
  },
  {
   "cell_type": "code",
   "execution_count": 5,
   "id": "78d95e10",
   "metadata": {
    "scrolled": true,
    "slideshow": {
     "slide_type": "fragment"
    }
   },
   "outputs": [
    {
     "name": "stdout",
     "output_type": "stream",
     "text": [
      "4\n",
      "9\n",
      "64\n"
     ]
    }
   ],
   "source": [
    "square_args(2,3,8)"
   ]
  },
  {
   "cell_type": "code",
   "execution_count": 77,
   "id": "5a64ec92",
   "metadata": {
    "slideshow": {
     "slide_type": "fragment"
    }
   },
   "outputs": [
    {
     "name": "stdout",
     "output_type": "stream",
     "text": [
      "100\n",
      "10000\n",
      "25\n",
      "3844\n",
      "1764\n"
     ]
    }
   ],
   "source": [
    "list_o_nums = [10, 100, 5, 62, 42]\n",
    "square_args(*list_o_nums)"
   ]
  },
  {
   "cell_type": "code",
   "execution_count": 160,
   "id": "375ceeb3",
   "metadata": {
    "slideshow": {
     "slide_type": "-"
    }
   },
   "outputs": [
    {
     "name": "stdout",
     "output_type": "stream",
     "text": [
      "100\n",
      "10000\n",
      "25\n",
      "3844\n",
      "1764\n"
     ]
    }
   ],
   "source": [
    "square_args(10, 100, 5, 62, 42)"
   ]
  },
  {
   "cell_type": "markdown",
   "id": "286197c6",
   "metadata": {
    "slideshow": {
     "slide_type": "slide"
    }
   },
   "source": [
    "# Exercise 4.3\n",
    "\n",
    "Write a function called `word_shortener()` that takes a long word and replaces it \n",
    "with a string that has the same first and last letters capitalized, \n",
    "and replaces the middle letters with the number of middle letters.\n",
    "\n",
    "For example, \"internationalization\" would be returned as \"I18N\".\n",
    "\n",
    "Make sure it only accepts strings, and of a minimum length.\n",
    "\n",
    "Include a short docstring.\n",
    "\n",
    "Hint: You can use `isinstance()` to check the variable type."
   ]
  },
  {
   "cell_type": "code",
   "execution_count": 6,
   "id": "8920d8e9",
   "metadata": {
    "slideshow": {
     "slide_type": "subslide"
    }
   },
   "outputs": [],
   "source": [
    "def word_shortener(long_word, min_len=5):\n",
    "    \"Converts a long word into word with internal letters replace by their count.\"\n",
    "    \n",
    "    # Validate the input\n",
    "    if not isinstance(long_word, str):\n",
    "        print(f\"{long_word} is a {type(long_word)}, not a string!\")\n",
    "        return False\n",
    "    elif len(long_word) < min_len:\n",
    "        print(f\"{long_word} is too short. Put in a word at least {min_len} letters long.\")\n",
    "        return False\n",
    "    else:\n",
    "        # Do the work ...\n",
    "        first_letter = long_word[0].upper()\n",
    "        last_letter = long_word[-1].upper()\n",
    "        middle_number = len(long_word[1:-1])\n",
    "        new_word = first_letter + str(middle_number) + last_letter\n",
    "        return new_word\n",
    "    "
   ]
  },
  {
   "cell_type": "code",
   "execution_count": 7,
   "id": "9bd424d4",
   "metadata": {},
   "outputs": [
    {
     "data": {
      "text/plain": [
       "'L10N'"
      ]
     },
     "execution_count": 7,
     "metadata": {},
     "output_type": "execute_result"
    }
   ],
   "source": [
    "word_shortener('localization')"
   ]
  },
  {
   "cell_type": "code",
   "execution_count": 8,
   "id": "a0f5b039",
   "metadata": {
    "slideshow": {
     "slide_type": "fragment"
    }
   },
   "outputs": [],
   "source": [
    "get_shorty = lambda x: f\"{x[0]}{len(x[1:-1])}{x[-1]}\".upper()"
   ]
  },
  {
   "cell_type": "code",
   "execution_count": 81,
   "id": "a5120565",
   "metadata": {},
   "outputs": [
    {
     "data": {
      "text/plain": [
       "'O16N'"
      ]
     },
     "execution_count": 81,
     "metadata": {},
     "output_type": "execute_result"
    }
   ],
   "source": [
    "get_shorty(\"operationalization\")"
   ]
  },
  {
   "cell_type": "markdown",
   "id": "65f2a501",
   "metadata": {
    "slideshow": {
     "slide_type": "slide"
    }
   },
   "source": [
    "# Exercise 4.4\n",
    "\n",
    "Define a function with these requirements:\n",
    "- take one numeric value as input\n",
    "- subtract 5 from the value\n",
    "- return 1 if the difference is nonnegative, else return 0\n",
    "\n",
    "Call the function on different values to test it."
   ]
  },
  {
   "cell_type": "code",
   "execution_count": 5,
   "id": "e87b7ae3",
   "metadata": {
    "slideshow": {
     "slide_type": "subslide"
    }
   },
   "outputs": [],
   "source": [
    "def step(x):\n",
    "    diff = x - 5\n",
    "    if diff >= 0:\n",
    "        return 1\n",
    "    return 0"
   ]
  },
  {
   "cell_type": "code",
   "execution_count": 6,
   "id": "a6b04136",
   "metadata": {},
   "outputs": [],
   "source": [
    "def step2(x):\n",
    "    return 1 if x - 5 >= 0 else 0"
   ]
  },
  {
   "cell_type": "code",
   "execution_count": 8,
   "id": "7a6d36ad",
   "metadata": {},
   "outputs": [],
   "source": [
    "def step3(x):\n",
    "    return int(x - 5 >= 0)"
   ]
  },
  {
   "cell_type": "code",
   "execution_count": 9,
   "id": "86e6301a",
   "metadata": {},
   "outputs": [
    {
     "data": {
      "text/plain": [
       "1"
      ]
     },
     "execution_count": 9,
     "metadata": {},
     "output_type": "execute_result"
    }
   ],
   "source": [
    "step3(6.5)"
   ]
  },
  {
   "cell_type": "code",
   "execution_count": 23,
   "id": "133519f5",
   "metadata": {},
   "outputs": [
    {
     "data": {
      "text/plain": [
       "0"
      ]
     },
     "execution_count": 23,
     "metadata": {},
     "output_type": "execute_result"
    }
   ],
   "source": [
    "step(4)"
   ]
  },
  {
   "cell_type": "markdown",
   "id": "1de783a7",
   "metadata": {
    "slideshow": {
     "slide_type": "slide"
    }
   },
   "source": [
    "# Scope"
   ]
  },
  {
   "cell_type": "markdown",
   "id": "048e5ce4",
   "metadata": {
    "slideshow": {
     "slide_type": "slide"
    }
   },
   "source": [
    "# Exercise 4.5 \n",
    "\n",
    "Define a function that defines and prints a variable.  \n",
    "\n",
    "Show that calling this variable outside the function produces an error."
   ]
  },
  {
   "cell_type": "code",
   "execution_count": 163,
   "id": "6dfeceae",
   "metadata": {
    "slideshow": {
     "slide_type": "subslide"
    }
   },
   "outputs": [],
   "source": [
    "def myfunct():\n",
    "    secret_x = 5\n",
    "    print(secret_x)"
   ]
  },
  {
   "cell_type": "code",
   "execution_count": 164,
   "id": "7b1ba09f",
   "metadata": {},
   "outputs": [
    {
     "name": "stdout",
     "output_type": "stream",
     "text": [
      "5\n"
     ]
    }
   ],
   "source": [
    "myfunct()"
   ]
  },
  {
   "cell_type": "code",
   "execution_count": 165,
   "id": "3120c67f",
   "metadata": {},
   "outputs": [
    {
     "ename": "NameError",
     "evalue": "name 'secret_x' is not defined",
     "output_type": "error",
     "traceback": [
      "\u001b[0;31m---------------------------------------------------------------------------\u001b[0m",
      "\u001b[0;31mNameError\u001b[0m                                 Traceback (most recent call last)",
      "Cell \u001b[0;32mIn[165], line 1\u001b[0m\n\u001b[0;32m----> 1\u001b[0m \u001b[38;5;28mprint\u001b[39m(\u001b[43msecret_x\u001b[49m)\n",
      "\u001b[0;31mNameError\u001b[0m: name 'secret_x' is not defined"
     ]
    }
   ],
   "source": [
    "print(secret_x)"
   ]
  },
  {
   "cell_type": "markdown",
   "id": "b576bfdc",
   "metadata": {
    "slideshow": {
     "slide_type": "slide"
    }
   },
   "source": [
    "# Exercise 4.6\n",
    "\n",
    "Read the following code blocks (to be displayed). \n",
    "\n",
    "For each block predict what the output will be. \n"
   ]
  },
  {
   "cell_type": "markdown",
   "id": "9e44cd0e",
   "metadata": {
    "slideshow": {
     "slide_type": "subslide"
    }
   },
   "source": [
    "```python\n",
    "def print_me():\n",
    "    print(x1)\n",
    "\n",
    "print_me()\n",
    "```"
   ]
  },
  {
   "cell_type": "code",
   "execution_count": 86,
   "id": "a8219a2e",
   "metadata": {
    "slideshow": {
     "slide_type": "fragment"
    }
   },
   "outputs": [
    {
     "ename": "NameError",
     "evalue": "name 'x1' is not defined",
     "output_type": "error",
     "traceback": [
      "\u001b[0;31m---------------------------------------------------------------------------\u001b[0m",
      "\u001b[0;31mNameError\u001b[0m                                 Traceback (most recent call last)",
      "Cell \u001b[0;32mIn[86], line 4\u001b[0m\n\u001b[1;32m      1\u001b[0m \u001b[38;5;28;01mdef\u001b[39;00m \u001b[38;5;21mprint_me\u001b[39m():\n\u001b[1;32m      2\u001b[0m     \u001b[38;5;28mprint\u001b[39m(x1)\n\u001b[0;32m----> 4\u001b[0m \u001b[43mprint_me\u001b[49m\u001b[43m(\u001b[49m\u001b[43m)\u001b[49m\n",
      "Cell \u001b[0;32mIn[86], line 2\u001b[0m, in \u001b[0;36mprint_me\u001b[0;34m()\u001b[0m\n\u001b[1;32m      1\u001b[0m \u001b[38;5;28;01mdef\u001b[39;00m \u001b[38;5;21mprint_me\u001b[39m():\n\u001b[0;32m----> 2\u001b[0m     \u001b[38;5;28mprint\u001b[39m(\u001b[43mx1\u001b[49m)\n",
      "\u001b[0;31mNameError\u001b[0m: name 'x1' is not defined"
     ]
    }
   ],
   "source": [
    "def print_me():\n",
    "    print(x1)\n",
    "\n",
    "print_me()"
   ]
  },
  {
   "cell_type": "markdown",
   "id": "1ad51234",
   "metadata": {
    "slideshow": {
     "slide_type": "subslide"
    }
   },
   "source": [
    "```python\n",
    "def print_me2():\n",
    "    x2 = 5\n",
    "    print(x2)\n",
    "    \n",
    "print_me2()\n",
    "```"
   ]
  },
  {
   "cell_type": "code",
   "execution_count": 29,
   "id": "052a1c23",
   "metadata": {
    "slideshow": {
     "slide_type": "fragment"
    }
   },
   "outputs": [
    {
     "name": "stdout",
     "output_type": "stream",
     "text": [
      "5\n"
     ]
    }
   ],
   "source": [
    "def print_me2():\n",
    "    x2 = 5\n",
    "    print(x2)\n",
    "    \n",
    "print_me2()"
   ]
  },
  {
   "cell_type": "markdown",
   "id": "e3bb7b46",
   "metadata": {
    "slideshow": {
     "slide_type": "subslide"
    }
   },
   "source": [
    "```python\n",
    "x2 = 7\n",
    "print_me2()\n",
    "```"
   ]
  },
  {
   "cell_type": "code",
   "execution_count": 30,
   "id": "d343dd5e",
   "metadata": {
    "slideshow": {
     "slide_type": "fragment"
    }
   },
   "outputs": [
    {
     "name": "stdout",
     "output_type": "stream",
     "text": [
      "5\n"
     ]
    }
   ],
   "source": [
    "x2 = 7\n",
    "print_me2()"
   ]
  },
  {
   "cell_type": "markdown",
   "id": "94162d12",
   "metadata": {
    "slideshow": {
     "slide_type": "subslide"
    }
   },
   "source": [
    "```python\n",
    "x2 = 7\n",
    "print_me2()\n",
    "print(x2)\n",
    "```"
   ]
  },
  {
   "cell_type": "code",
   "execution_count": 31,
   "id": "7dad12ab",
   "metadata": {
    "scrolled": true,
    "slideshow": {
     "slide_type": "fragment"
    }
   },
   "outputs": [
    {
     "name": "stdout",
     "output_type": "stream",
     "text": [
      "5\n",
      "7\n"
     ]
    }
   ],
   "source": [
    "x2 = 7\n",
    "print_me2()\n",
    "print(x2)"
   ]
  },
  {
   "cell_type": "markdown",
   "id": "4fc6f34f",
   "metadata": {
    "slideshow": {
     "slide_type": "subslide"
    }
   },
   "source": [
    "```python\n",
    "def print_me3(x3):\n",
    "    print(x3)\n",
    "    \n",
    "x3 = 9\n",
    "print_me3()\n",
    "print_me3(x3)\n",
    "print_me3()\n",
    "print(x3)\n",
    "```"
   ]
  },
  {
   "cell_type": "code",
   "execution_count": 32,
   "id": "0a99ddbe",
   "metadata": {
    "slideshow": {
     "slide_type": "fragment"
    }
   },
   "outputs": [
    {
     "ename": "TypeError",
     "evalue": "print_me3() missing 1 required positional argument: 'x3'",
     "output_type": "error",
     "traceback": [
      "\u001b[0;31m---------------------------------------------------------------------------\u001b[0m",
      "\u001b[0;31mTypeError\u001b[0m                                 Traceback (most recent call last)",
      "Cell \u001b[0;32mIn[32], line 5\u001b[0m\n\u001b[1;32m      2\u001b[0m     \u001b[38;5;28mprint\u001b[39m(x3)\n\u001b[1;32m      4\u001b[0m x3 \u001b[38;5;241m=\u001b[39m \u001b[38;5;241m9\u001b[39m\n\u001b[0;32m----> 5\u001b[0m \u001b[43mprint_me3\u001b[49m\u001b[43m(\u001b[49m\u001b[43m)\u001b[49m\n\u001b[1;32m      6\u001b[0m print_me3(x3)\n\u001b[1;32m      7\u001b[0m print_me3()\n",
      "\u001b[0;31mTypeError\u001b[0m: print_me3() missing 1 required positional argument: 'x3'"
     ]
    }
   ],
   "source": [
    "def print_me3(x3):\n",
    "    print(x3)\n",
    "    \n",
    "x3 = 9\n",
    "print_me3()\n",
    "print_me3(x3)\n",
    "print_me3()\n",
    "print(x)"
   ]
  },
  {
   "cell_type": "markdown",
   "id": "c3bf7e4e",
   "metadata": {
    "slideshow": {
     "slide_type": "subslide"
    }
   },
   "source": [
    "```python\n",
    "def print_me4(x4=5):\n",
    "    print(x4)\n",
    "    \n",
    "x4 = 9\n",
    "print_me4()\n",
    "print_me4(x4)\n",
    "print_me4()\n",
    "print(x4)\n",
    "```"
   ]
  },
  {
   "cell_type": "code",
   "execution_count": 33,
   "id": "1e61e1d3",
   "metadata": {
    "slideshow": {
     "slide_type": "fragment"
    }
   },
   "outputs": [
    {
     "name": "stdout",
     "output_type": "stream",
     "text": [
      "5\n",
      "9\n",
      "5\n",
      "9\n"
     ]
    }
   ],
   "source": [
    "def print_me4(x4=5):\n",
    "    print(x4)\n",
    "    \n",
    "x4 = 9\n",
    "print_me4()\n",
    "print_me4(x4)\n",
    "print_me4()\n",
    "print(x4)"
   ]
  },
  {
   "cell_type": "markdown",
   "id": "d508db61",
   "metadata": {
    "slideshow": {
     "slide_type": "slide"
    }
   },
   "source": [
    "# Lambda Functions"
   ]
  },
  {
   "cell_type": "markdown",
   "id": "8a455607",
   "metadata": {
    "slideshow": {
     "slide_type": "slide"
    }
   },
   "source": [
    "# Exercise 4.6\n",
    "\n",
    "Write a function that uses a lambda function to check if a value is in a range: $x >= 10$ and $x <= 20$  \n",
    "   \n",
    "Call the function with different values to verify it works."
   ]
  },
  {
   "cell_type": "code",
   "execution_count": 36,
   "id": "0ca5938d",
   "metadata": {
    "slideshow": {
     "slide_type": "subslide"
    },
    "tags": []
   },
   "outputs": [],
   "source": [
    "in_range = lambda x: x >= 10 and x <= 25"
   ]
  },
  {
   "cell_type": "code",
   "execution_count": 37,
   "id": "2094884b",
   "metadata": {
    "slideshow": {
     "slide_type": "-"
    },
    "tags": []
   },
   "outputs": [
    {
     "data": {
      "text/plain": [
       "True"
      ]
     },
     "execution_count": 37,
     "metadata": {},
     "output_type": "execute_result"
    }
   ],
   "source": [
    "in_range(15)"
   ]
  },
  {
   "cell_type": "code",
   "execution_count": 38,
   "id": "d9dc7452",
   "metadata": {
    "slideshow": {
     "slide_type": "-"
    },
    "tags": []
   },
   "outputs": [
    {
     "data": {
      "text/plain": [
       "False"
      ]
     },
     "execution_count": 38,
     "metadata": {},
     "output_type": "execute_result"
    }
   ],
   "source": [
    "in_range(0)"
   ]
  },
  {
   "cell_type": "markdown",
   "id": "fdeb06b1",
   "metadata": {
    "slideshow": {
     "slide_type": "slide"
    }
   },
   "source": [
    "# Exercise 4.7\n",
    "\n",
    "Modify the lambda function called `in_range` to take three inputs `x`, `a`, `b` which are the value, lower bound, and upper bound, respectively.  \n",
    "\n",
    "Call the function with different `x`, `a`, `b` to verify it works."
   ]
  },
  {
   "cell_type": "code",
   "execution_count": 87,
   "id": "148247a9",
   "metadata": {
    "slideshow": {
     "slide_type": "subslide"
    },
    "tags": []
   },
   "outputs": [],
   "source": [
    "in_range_general = lambda x, a, b: x >= a and x <= b"
   ]
  },
  {
   "cell_type": "code",
   "execution_count": 88,
   "id": "bd948aca",
   "metadata": {
    "slideshow": {
     "slide_type": "-"
    },
    "tags": []
   },
   "outputs": [
    {
     "data": {
      "text/plain": [
       "False"
      ]
     },
     "execution_count": 88,
     "metadata": {},
     "output_type": "execute_result"
    }
   ],
   "source": [
    "in_range_general(0, 1, 10)"
   ]
  },
  {
   "cell_type": "code",
   "execution_count": 89,
   "id": "783358aa",
   "metadata": {
    "slideshow": {
     "slide_type": "-"
    },
    "tags": []
   },
   "outputs": [
    {
     "data": {
      "text/plain": [
       "True"
      ]
     },
     "execution_count": 89,
     "metadata": {},
     "output_type": "execute_result"
    }
   ],
   "source": [
    "in_range_general(0, -1, 100)"
   ]
  },
  {
   "cell_type": "markdown",
   "id": "9ede55aa",
   "metadata": {
    "slideshow": {
     "slide_type": "slide"
    }
   },
   "source": [
    "# Exercise 4.8\n",
    "\n",
    "Following the earlier example, write a lambda function called `str_test` that checks if a given string is found in another string, returning `True` if found, otherwise `False`.  \n",
    "\n",
    "In other words, check on a string is a substring of another.\n",
    "\n",
    "Call the function with different inputs to verify it works."
   ]
  },
  {
   "cell_type": "code",
   "execution_count": 43,
   "id": "5c7070c1",
   "metadata": {
    "slideshow": {
     "slide_type": "subslide"
    }
   },
   "outputs": [],
   "source": [
    "str_test = lambda s1, s2: s2 in s1 "
   ]
  },
  {
   "cell_type": "code",
   "execution_count": 44,
   "id": "3f9d6803",
   "metadata": {
    "slideshow": {
     "slide_type": "-"
    }
   },
   "outputs": [
    {
     "data": {
      "text/plain": [
       "True"
      ]
     },
     "execution_count": 44,
     "metadata": {},
     "output_type": "execute_result"
    }
   ],
   "source": [
    "str_test(\"Opera is fun\", \"is\")"
   ]
  },
  {
   "cell_type": "code",
   "execution_count": 45,
   "id": "a3b423d6",
   "metadata": {
    "slideshow": {
     "slide_type": "-"
    }
   },
   "outputs": [
    {
     "data": {
      "text/plain": [
       "False"
      ]
     },
     "execution_count": 45,
     "metadata": {},
     "output_type": "execute_result"
    }
   ],
   "source": [
    "str_test(\"Opera is fun\", \"gasket\")"
   ]
  },
  {
   "cell_type": "markdown",
   "id": "6c87498d",
   "metadata": {
    "slideshow": {
     "slide_type": "slide"
    }
   },
   "source": [
    "# Exercise 4.9\n",
    "\n",
    "* Write three lambda functions:\n",
    "  * `c2f` that converts a Celsius (C) value to Farenheit (F), given $F = 1.8C + 32$.\n",
    "  * `f2c` that converts an F value to C, given $C = (F - 32)/1.8$\n",
    "  * `t2t` that combines the two previous functions and takes two arguments:\n",
    "    * an integer representing the temperature in either F or C.\n",
    "    * a character representing the temparture scale to convert *to*, either 'f' or 'c'.\n",
    "* In addition:\n",
    "  * Have `t2t` return the converted temperature as an integer by rounding the result.\n",
    "  * **AND** instead of using an `if` statement in `t2t`, have it use a dictionary that contains elements for the two converter functions, i.e. `c2f` and `f2c`.\n",
    "\n",
    "For example, if have a temperature of $45$ C and want to know what this is in F, it should work like this:\n",
    "```python\n",
    ">>> f = t2t(45, 'f')\n",
    ">>> print(f)\n",
    ">>> 113\n",
    "```"
   ]
  },
  {
   "cell_type": "code",
   "execution_count": 90,
   "id": "4654efe0",
   "metadata": {
    "slideshow": {
     "slide_type": "subslide"
    }
   },
   "outputs": [],
   "source": [
    "c2f = lambda cval: 1.8 * cval + 32"
   ]
  },
  {
   "cell_type": "code",
   "execution_count": 92,
   "id": "905bd7a5",
   "metadata": {
    "scrolled": true
   },
   "outputs": [
    {
     "data": {
      "text/plain": [
       "113.0"
      ]
     },
     "execution_count": 92,
     "metadata": {},
     "output_type": "execute_result"
    }
   ],
   "source": [
    "c2f(45)"
   ]
  },
  {
   "cell_type": "code",
   "execution_count": 93,
   "id": "e108a3b7",
   "metadata": {
    "slideshow": {
     "slide_type": "fragment"
    }
   },
   "outputs": [],
   "source": [
    "f2c = lambda fval: (fval - 32) / 1.8"
   ]
  },
  {
   "cell_type": "code",
   "execution_count": 94,
   "id": "8a98fa38",
   "metadata": {},
   "outputs": [
    {
     "data": {
      "text/plain": [
       "45.0"
      ]
     },
     "execution_count": 94,
     "metadata": {},
     "output_type": "execute_result"
    }
   ],
   "source": [
    "f2c(113)"
   ]
  },
  {
   "cell_type": "code",
   "execution_count": 95,
   "id": "68969fb7",
   "metadata": {
    "slideshow": {
     "slide_type": "fragment"
    }
   },
   "outputs": [],
   "source": [
    "targets = {\n",
    "    'f': c2f,\n",
    "    'c': f2c\n",
    "}"
   ]
  },
  {
   "cell_type": "code",
   "execution_count": 96,
   "id": "f6cb0a75",
   "metadata": {
    "slideshow": {
     "slide_type": "fragment"
    }
   },
   "outputs": [],
   "source": [
    "t2t = lambda tval, target: round(targets[target](tval))"
   ]
  },
  {
   "cell_type": "code",
   "execution_count": 97,
   "id": "8c3dcbec",
   "metadata": {},
   "outputs": [],
   "source": [
    "f = t2t(45, 'f')"
   ]
  },
  {
   "cell_type": "code",
   "execution_count": 98,
   "id": "6627e25b",
   "metadata": {},
   "outputs": [
    {
     "name": "stdout",
     "output_type": "stream",
     "text": [
      "113\n"
     ]
    }
   ],
   "source": [
    "print(f)"
   ]
  },
  {
   "cell_type": "markdown",
   "id": "1bf78a27",
   "metadata": {
    "slideshow": {
     "slide_type": "subslide"
    }
   },
   "source": [
    "**Or, more compactly:**"
   ]
  },
  {
   "cell_type": "code",
   "execution_count": 54,
   "id": "837ccafb",
   "metadata": {
    "slideshow": {
     "slide_type": "-"
    }
   },
   "outputs": [],
   "source": [
    "targets = {\n",
    "    'f': lambda cval: 1.8 * cval + 32,\n",
    "    'c': lambda fval: (fval - 32) / 1.8\n",
    "}\n",
    "t2t = lambda tval, target: round(targets[target](tval))"
   ]
  },
  {
   "cell_type": "code",
   "execution_count": 55,
   "id": "7f663045",
   "metadata": {},
   "outputs": [
    {
     "data": {
      "text/plain": [
       "113"
      ]
     },
     "execution_count": 55,
     "metadata": {},
     "output_type": "execute_result"
    }
   ],
   "source": [
    "t2t(45, 'f')"
   ]
  },
  {
   "cell_type": "markdown",
   "id": "a17cdb7e",
   "metadata": {
    "slideshow": {
     "slide_type": "subslide"
    }
   },
   "source": [
    "**The most compact**"
   ]
  },
  {
   "cell_type": "code",
   "execution_count": 9,
   "id": "b922847d",
   "metadata": {},
   "outputs": [
    {
     "data": {
      "text/plain": [
       "113"
      ]
     },
     "execution_count": 9,
     "metadata": {},
     "output_type": "execute_result"
    }
   ],
   "source": [
    "(lambda tval, target: round({'f': lambda cval: 1.8 * cval + 32, 'c': lambda fval: (fval - 32) / 1.8}[target](tval)))(45, 'f')"
   ]
  },
  {
   "cell_type": "markdown",
   "id": "327b4959",
   "metadata": {
    "slideshow": {
     "slide_type": "slide"
    },
    "tags": []
   },
   "source": [
    "# Recursion"
   ]
  },
  {
   "cell_type": "markdown",
   "id": "06b03876",
   "metadata": {
    "slideshow": {
     "slide_type": "slide"
    }
   },
   "source": [
    "# Exercise 4.10\n",
    "\n",
    "Use this pattern to generate the next 4 terms (by hand)\n",
    "\n",
    "```python\n",
    "Fib(2) = Fib(1) + Fib(0) = 1 + 0 = 1 \n",
    "Fib(3) = Fib(2) + Fib(1) = 1 + 1 = 2  \n",
    "Fib(4) = Fib(3) + Fib(2) = 2 + 1 = 3  \n",
    "Fib(5) = Fib(4) + Fib(3) = 3 + 2 = 5\n",
    "```"
   ]
  },
  {
   "cell_type": "markdown",
   "id": "ea73b497",
   "metadata": {
    "slideshow": {
     "slide_type": "fragment"
    }
   },
   "source": [
    "Now, write a Python function `fibonacci()` to return the **nth** term in the sequence. \n",
    "\n",
    "Specifically, write the function with these requirements:\n",
    "- takes an integer `n` as input\n",
    "- includes the rules that defines the sequence\n",
    "- computes the **nth** term in the sequence, using recursion (the function will call itself)\n",
    "- returns the computed term\n",
    "\n",
    "Call `fibonacci(n)` for $n = 0, 1, 2, 3, 4, 5$ and verify it works properly."
   ]
  },
  {
   "cell_type": "code",
   "execution_count": 138,
   "id": "c259625d",
   "metadata": {
    "slideshow": {
     "slide_type": "subslide"
    },
    "tags": []
   },
   "outputs": [],
   "source": [
    "def fibonacci(n):\n",
    "    if n == 0:\n",
    "        return 0\n",
    "    elif n == 1:\n",
    "        return 1\n",
    "    else:\n",
    "        return fibonacci(n-1) + fibonacci(n-2)"
   ]
  },
  {
   "cell_type": "code",
   "execution_count": 139,
   "id": "cc81998f",
   "metadata": {
    "slideshow": {
     "slide_type": "-"
    },
    "tags": []
   },
   "outputs": [
    {
     "name": "stdout",
     "output_type": "stream",
     "text": [
      "0\n",
      "1\n",
      "1\n",
      "2\n",
      "3\n",
      "5\n"
     ]
    }
   ],
   "source": [
    "print(fibonacci(0))\n",
    "print(fibonacci(1))\n",
    "print(fibonacci(2))\n",
    "print(fibonacci(3))\n",
    "print(fibonacci(4))\n",
    "print(fibonacci(5))"
   ]
  },
  {
   "cell_type": "code",
   "execution_count": 140,
   "id": "38206a82",
   "metadata": {},
   "outputs": [
    {
     "name": "stdout",
     "output_type": "stream",
     "text": [
      "0\n",
      "1\n",
      "1\n",
      "2\n",
      "3\n",
      "5\n"
     ]
    }
   ],
   "source": [
    "for n in range(6): print(fibonacci(n))"
   ]
  },
  {
   "cell_type": "markdown",
   "id": "3d9e3c3a",
   "metadata": {
    "slideshow": {
     "slide_type": "subslide"
    }
   },
   "source": [
    "Think about how this works ... it's very cool!  \n",
    "\n",
    "If you call `fibonacci(2)`, \n",
    "- flow goes to the else statement,\n",
    "- which calls fibonacci(1) and fibonacci(0),\n",
    "- so those need to get computed,  \n",
    "  - fibonacci(1) goes to the `elif`, returning 1\n",
    "  - fibonacci(0) goes to the `if`, returning 0   \n",
    "  - back in the else statement, fibonacci(1) and fibonacci(0) => 1 + 0 = 1\n",
    "  \n",
    " If you call `fibonacci(3)`, a similar pattern occurs, with even more computes taking place.  \n",
    " \n",
    " How many times will `fibonacci` get called?"
   ]
  },
  {
   "cell_type": "code",
   "execution_count": 1,
   "id": "63f0785e",
   "metadata": {},
   "outputs": [],
   "source": [
    "calls = 0\n",
    "def fibonacci_test(n):\n",
    "    global calls\n",
    "    calls += 1\n",
    "    print('call:', calls, 'n:', n)\n",
    "    if n == 0:\n",
    "        return 0\n",
    "    elif n == 1:\n",
    "        return 1\n",
    "    else:\n",
    "        return fibonacci_test(n-1) + fibonacci_test(n-2)"
   ]
  },
  {
   "cell_type": "code",
   "execution_count": 3,
   "id": "9aff17cc",
   "metadata": {},
   "outputs": [
    {
     "name": "stdout",
     "output_type": "stream",
     "text": [
      "call: 6 n: 3\n",
      "call: 7 n: 2\n",
      "call: 8 n: 1\n",
      "call: 9 n: 0\n",
      "call: 10 n: 1\n"
     ]
    },
    {
     "data": {
      "text/plain": [
       "2"
      ]
     },
     "execution_count": 3,
     "metadata": {},
     "output_type": "execute_result"
    }
   ],
   "source": [
    "fibonacci_test(3)"
   ]
  },
  {
   "cell_type": "code",
   "execution_count": 4,
   "id": "7bf5b21e",
   "metadata": {
    "slideshow": {
     "slide_type": "fragment"
    },
    "tags": []
   },
   "outputs": [
    {
     "ename": "NameError",
     "evalue": "name 'fibonacci' is not defined",
     "output_type": "error",
     "traceback": [
      "\u001b[0;31m---------------------------------------------------------------------------\u001b[0m",
      "\u001b[0;31mNameError\u001b[0m                                 Traceback (most recent call last)",
      "Cell \u001b[0;32mIn[4], line 1\u001b[0m\n\u001b[0;32m----> 1\u001b[0m fibonacci(\u001b[39m5.1\u001b[39m)\n",
      "\u001b[0;31mNameError\u001b[0m: name 'fibonacci' is not defined"
     ]
    }
   ],
   "source": [
    "fibonacci(5.1)"
   ]
  },
  {
   "cell_type": "code",
   "execution_count": 150,
   "id": "f489764d",
   "metadata": {
    "slideshow": {
     "slide_type": "subslide"
    }
   },
   "outputs": [
    {
     "ename": "RecursionError",
     "evalue": "maximum recursion depth exceeded in comparison",
     "output_type": "error",
     "traceback": [
      "\u001b[0;31m---------------------------------------------------------------------------\u001b[0m",
      "\u001b[0;31mRecursionError\u001b[0m                            Traceback (most recent call last)",
      "Cell \u001b[0;32mIn[150], line 1\u001b[0m\n\u001b[0;32m----> 1\u001b[0m \u001b[43mfibonacci\u001b[49m\u001b[43m(\u001b[49m\u001b[38;5;241;43m-\u001b[39;49m\u001b[38;5;241;43m1\u001b[39;49m\u001b[43m)\u001b[49m\n",
      "Cell \u001b[0;32mIn[138], line 7\u001b[0m, in \u001b[0;36mfibonacci\u001b[0;34m(n)\u001b[0m\n\u001b[1;32m      5\u001b[0m     \u001b[38;5;28;01mreturn\u001b[39;00m \u001b[38;5;241m1\u001b[39m\n\u001b[1;32m      6\u001b[0m \u001b[38;5;28;01melse\u001b[39;00m:\n\u001b[0;32m----> 7\u001b[0m     \u001b[38;5;28;01mreturn\u001b[39;00m \u001b[43mfibonacci\u001b[49m\u001b[43m(\u001b[49m\u001b[43mn\u001b[49m\u001b[38;5;241;43m-\u001b[39;49m\u001b[38;5;241;43m1\u001b[39;49m\u001b[43m)\u001b[49m \u001b[38;5;241m+\u001b[39m fibonacci(n\u001b[38;5;241m-\u001b[39m\u001b[38;5;241m2\u001b[39m)\n",
      "Cell \u001b[0;32mIn[138], line 7\u001b[0m, in \u001b[0;36mfibonacci\u001b[0;34m(n)\u001b[0m\n\u001b[1;32m      5\u001b[0m     \u001b[38;5;28;01mreturn\u001b[39;00m \u001b[38;5;241m1\u001b[39m\n\u001b[1;32m      6\u001b[0m \u001b[38;5;28;01melse\u001b[39;00m:\n\u001b[0;32m----> 7\u001b[0m     \u001b[38;5;28;01mreturn\u001b[39;00m \u001b[43mfibonacci\u001b[49m\u001b[43m(\u001b[49m\u001b[43mn\u001b[49m\u001b[38;5;241;43m-\u001b[39;49m\u001b[38;5;241;43m1\u001b[39;49m\u001b[43m)\u001b[49m \u001b[38;5;241m+\u001b[39m fibonacci(n\u001b[38;5;241m-\u001b[39m\u001b[38;5;241m2\u001b[39m)\n",
      "    \u001b[0;31m[... skipping similar frames: fibonacci at line 7 (2969 times)]\u001b[0m\n",
      "Cell \u001b[0;32mIn[138], line 7\u001b[0m, in \u001b[0;36mfibonacci\u001b[0;34m(n)\u001b[0m\n\u001b[1;32m      5\u001b[0m     \u001b[38;5;28;01mreturn\u001b[39;00m \u001b[38;5;241m1\u001b[39m\n\u001b[1;32m      6\u001b[0m \u001b[38;5;28;01melse\u001b[39;00m:\n\u001b[0;32m----> 7\u001b[0m     \u001b[38;5;28;01mreturn\u001b[39;00m \u001b[43mfibonacci\u001b[49m\u001b[43m(\u001b[49m\u001b[43mn\u001b[49m\u001b[38;5;241;43m-\u001b[39;49m\u001b[38;5;241;43m1\u001b[39;49m\u001b[43m)\u001b[49m \u001b[38;5;241m+\u001b[39m fibonacci(n\u001b[38;5;241m-\u001b[39m\u001b[38;5;241m2\u001b[39m)\n",
      "Cell \u001b[0;32mIn[138], line 2\u001b[0m, in \u001b[0;36mfibonacci\u001b[0;34m(n)\u001b[0m\n\u001b[1;32m      1\u001b[0m \u001b[38;5;28;01mdef\u001b[39;00m \u001b[38;5;21mfibonacci\u001b[39m(n):\n\u001b[0;32m----> 2\u001b[0m     \u001b[38;5;28;01mif\u001b[39;00m \u001b[43mn\u001b[49m\u001b[43m \u001b[49m\u001b[38;5;241;43m==\u001b[39;49m\u001b[43m \u001b[49m\u001b[38;5;241;43m0\u001b[39;49m:\n\u001b[1;32m      3\u001b[0m         \u001b[38;5;28;01mreturn\u001b[39;00m \u001b[38;5;241m0\u001b[39m\n\u001b[1;32m      4\u001b[0m     \u001b[38;5;28;01melif\u001b[39;00m n \u001b[38;5;241m==\u001b[39m \u001b[38;5;241m1\u001b[39m:\n",
      "\u001b[0;31mRecursionError\u001b[0m: maximum recursion depth exceeded in comparison"
     ]
    }
   ],
   "source": [
    "fibonacci(-1)"
   ]
  },
  {
   "cell_type": "markdown",
   "id": "b1fea113",
   "metadata": {
    "slideshow": {
     "slide_type": "subslide"
    }
   },
   "source": [
    "If it worked properly, excellent!  \n",
    "\n",
    "If not, you might want to rewrite your function below to handle such edge cases.  \n",
    "\n",
    "Specifically, have the function return the value -1 for invalid *n*.\n",
    "\n",
    "Reminder: the sequence is defined for whole numbers (0, 1, 2, ...)  \n",
    "\n",
    "Call the function again, and verify the cases work properly."
   ]
  },
  {
   "cell_type": "code",
   "execution_count": 5,
   "id": "35f750bf",
   "metadata": {
    "slideshow": {
     "slide_type": "subslide"
    },
    "tags": []
   },
   "outputs": [],
   "source": [
    "def fibonacci_robust(n):\n",
    "    \n",
    "    if (not isinstance(n, int)) or (n < 0):\n",
    "        return -1\n",
    "    \n",
    "    if n == 0:\n",
    "        return 0\n",
    "    elif n == 1:\n",
    "        return 1\n",
    "    else:\n",
    "        return fibonacci_robust(n-1) + fibonacci_robust(n-2)"
   ]
  },
  {
   "cell_type": "code",
   "execution_count": 6,
   "id": "664881a9",
   "metadata": {
    "tags": []
   },
   "outputs": [
    {
     "name": "stdout",
     "output_type": "stream",
     "text": [
      "-1\n",
      "-1\n",
      "0\n",
      "1\n",
      "1\n",
      "2\n",
      "3\n",
      "5\n"
     ]
    }
   ],
   "source": [
    "# edge cases\n",
    "print(fibonacci_robust(5.1))\n",
    "print(fibonacci_robust(-1))\n",
    "\n",
    "# valid cases\n",
    "print(fibonacci_robust(0))\n",
    "print(fibonacci_robust(1))\n",
    "print(fibonacci_robust(2))\n",
    "print(fibonacci_robust(3))\n",
    "print(fibonacci_robust(4))\n",
    "print(fibonacci_robust(5))"
   ]
  },
  {
   "cell_type": "markdown",
   "id": "5dabc4a2",
   "metadata": {
    "slideshow": {
     "slide_type": "slide"
    }
   },
   "source": [
    "# Extra"
   ]
  },
  {
   "cell_type": "markdown",
   "id": "f0ccb2ab",
   "metadata": {
    "slideshow": {
     "slide_type": "slide"
    },
    "tags": []
   },
   "source": [
    "# Exercise 4.11\n",
    "\n",
    "Demonstration of variable interpolation\n",
    "\n",
    "Write a Python program that allows users to play the MadLibs® game, using the example story sheet provided. \n",
    "\n",
    "Capture the values for each blank by using the `input()` function.\n",
    "\n",
    "About MadLibs®: In this game, a player is prompted to supply a series of parts of speech (noun, adjective, past tense noun, etc.)\n",
    "while a second player adds these to a story sheet that \n",
    "contains blanks for each response. The story is not visible to the player supplying the words.\n",
    "Once all the blanks are filled, the second player reads the story aloud, which is often \n",
    "funny because of the random way the words are assigned to the story.\n",
    "\n",
    "This is an example of  MadLib story sheet: \n",
    "```\n",
    "Today I went to the zoo. I saw a(n) ___________(adjective)\n",
    "_____________(Noun) jumping up and down in its tree.\n",
    "He _____________(verb, past tense) __________(adverb)\n",
    "through the large tunnel that led to its _______(adjective)\n",
    "__________(noun). I got some peanuts and passed\n",
    "them through the cage to a gigantic gray _______(noun)\n",
    "towering above my head. Feeding that animal made\n",
    "me hungry. I went to get a __________(adjective) scoop\n",
    "of ice cream. It filled my stomach. Afterwards I had to\n",
    "__________(verb) __________ (adverb) to catch our bus.\n",
    "When I got home I __________(verb, past tense) my\n",
    "mom for a __________(adjective) day at the zoo.\n",
    "```"
   ]
  },
  {
   "cell_type": "code",
   "execution_count": 7,
   "id": "c62701f1",
   "metadata": {
    "slideshow": {
     "slide_type": "subslide"
    }
   },
   "outputs": [
    {
     "name": "stdout",
     "output_type": "stream",
     "text": [
      "Today I went to the zoo.\n",
      "I saw a(n) dfsdf sdf jumping up and down in its tree.\n",
      "He sdafsd fasd through the large tunnel that led to its fsad fasd.\n",
      "I got some peanuts and passed them through the cage to a gigantic gray f towering above my head.\n",
      "Feeding that animal made me hungry.\n",
      "I went to get a asdf scoop of ice cream.\n",
      "It filled my stomach.\n",
      "Afterwards I had to sda f to catch our bus.\n",
      "When I got home I sadf my mom for a ads day at the zoo.\n"
     ]
    }
   ],
   "source": [
    "def madlibs1():\n",
    "    \n",
    "    words = dict(adjective1 = '', \n",
    "                 noun1 = '', \n",
    "                 verb_past_tense1 = '', \n",
    "                 adverb1 = '',\n",
    "                 adjective2 = '', \n",
    "                 noun2 = '', \n",
    "                 noun3 = '', \n",
    "                 adjective3 = '', \n",
    "                 verb1 = '', \n",
    "                 adverb2 = '', \n",
    "                 verb_past_tense2 = '', \n",
    "                 adjective4 = '')\n",
    "    \n",
    "    for pos in words:\n",
    "        prompt = pos.replace('_', ' ')[:-1] # Assumes single digit suffix\n",
    "        words[pos] = input(f\"Enter a(n) {prompt}: \")\n",
    "    \n",
    "    text = f\"Today I went to the zoo.\\nI saw a(n) {words['adjective1']} \\\n",
    "{words['noun1']} jumping up and down in its tree.\\n\\\n",
    "He {words['verb_past_tense1']} {words['adverb1']} through the large tunnel \\\n",
    "that led to its {words['adjective2']} {words['noun2']}.\\nI got some peanuts and passed \\\n",
    "them through the cage to a gigantic gray {words['noun3']} \\\n",
    "towering above my head.\\nFeeding that animal made \\\n",
    "me hungry.\\nI went to get a {words['adjective3']} scoop \\\n",
    "of ice cream.\\nIt filled my stomach.\\nAfterwards I had to \\\n",
    "{words['verb1']} {words['adverb2']} to catch our bus.\\n\\\n",
    "When I got home I {words['verb_past_tense2']} my \\\n",
    "mom for a {words['adjective4']} day at the zoo.\"\n",
    "    \n",
    "    print(text)\n",
    "\n",
    "madlibs1()"
   ]
  }
 ],
 "metadata": {
  "celltoolbar": "Slideshow",
  "kernelspec": {
   "display_name": "eta",
   "language": "python",
   "name": "eta"
  },
  "language_info": {
   "codemirror_mode": {
    "name": "ipython",
    "version": 3
   },
   "file_extension": ".py",
   "mimetype": "text/x-python",
   "name": "python",
   "nbconvert_exporter": "python",
   "pygments_lexer": "ipython3",
   "version": "3.11.3"
  },
  "latex_envs": {
   "LaTeX_envs_menu_present": true,
   "autoclose": false,
   "autocomplete": true,
   "bibliofile": "biblio.bib",
   "cite_by": "apalike",
   "current_citInitial": 1,
   "eqLabelWithNumbers": true,
   "eqNumInitial": 1,
   "hotkeys": {
    "equation": "Ctrl-E",
    "itemize": "Ctrl-I"
   },
   "labels_anchors": false,
   "latex_user_defs": false,
   "report_style_numbering": false,
   "user_envs_cfg": false
  },
  "toc": {
   "base_numbering": 1,
   "nav_menu": {},
   "number_sections": false,
   "sideBar": true,
   "skip_h1_title": false,
   "title_cell": "Table of Contents",
   "title_sidebar": "Contents",
   "toc_cell": false,
   "toc_position": {},
   "toc_section_display": true,
   "toc_window_display": false
  },
  "toc-autonumbering": false,
  "toc-showcode": false,
  "toc-showtags": false,
  "varInspector": {
   "cols": {
    "lenName": 16,
    "lenType": 16,
    "lenVar": 40
   },
   "kernels_config": {
    "python": {
     "delete_cmd_postfix": "",
     "delete_cmd_prefix": "del ",
     "library": "var_list.py",
     "varRefreshCmd": "print(var_dic_list())"
    },
    "r": {
     "delete_cmd_postfix": ") ",
     "delete_cmd_prefix": "rm(",
     "library": "var_list.r",
     "varRefreshCmd": "cat(var_dic_list()) "
    }
   },
   "types_to_exclude": [
    "module",
    "function",
    "builtin_function_or_method",
    "instance",
    "_Feature"
   ],
   "window_display": false
  },
  "vscode": {
   "interpreter": {
    "hash": "c3b963de08c47c3b6758389c5e0978ad73698a111eb508d4e16b558edb8f4cbf"
   }
  },
  "widgets": {
   "application/vnd.jupyter.widget-state+json": {
    "state": {},
    "version_major": 2,
    "version_minor": 0
   }
  }
 },
 "nbformat": 4,
 "nbformat_minor": 5
}
