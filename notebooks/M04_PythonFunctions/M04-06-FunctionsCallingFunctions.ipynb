{
 "cells": [
  {
   "cell_type": "markdown",
   "metadata": {},
   "source": [
    "# NB: Functions Calling Functions\n",
    "\n",
    "**Purpose**:\n",
    "* Illustrate concept of function design\n",
    "* Demonstrate how functions can break down a process into simple components\n",
    "* Demonstrate how component functions build on each other\n",
    "* Introduce idea of functional groups\n",
    "* Motivate use of classes (to be introduced later)\n",
    "\n",
    "## Basic Insight\n",
    "\n",
    "Functions contain any code, so they can contain functions.\n",
    "* Functions can call other functions\n",
    "* Functions can define new functions\n",
    "\n",
    "We create functions that call functions in order to break a complex process into components.\n",
    "* Some functions focus on simple component processes\n",
    "* Other functions combine these into higher order processes\n",
    "* Some functions may be focused on computation, while others may be focused on interacting with users or data sources\n",
    "* We can think of this a division of labor, or \"separation of concerns,\" among functions\n",
    "\n",
    "When you create groups of functions, they often form natural groups that associated with a common process or task.\n",
    "* These function groups often share variables in addition to calling each ohter\n",
    "\n",
    "Let's look at some examples to illustrate these points.\n",
    "\n",
    "## Example 1: Converting Temperatures\n",
    "\n",
    "Here are three functions that work together to make a temperature converter.\n",
    "\n",
    "Notice how the last function integrates the first two."
   ]
  },
  {
   "cell_type": "code",
   "execution_count": 1,
   "metadata": {},
   "outputs": [],
   "source": [
    "def f_to_c(temp):  \n",
    "    \"\"\"\n",
    "    Converts F to C and returns a rounded result.\n",
    "    Expects an integer and returns an integer.\n",
    "    \"\"\"\n",
    "    return round((temp - 32) * (5/9))\n",
    "    \n",
    "def c_to_f(temp):  \n",
    "    \"\"\"\n",
    "    Converts C to F and returns a rounded result.\n",
    "    Expects an integer and returns an integer.\n",
    "    \"\"\"\n",
    "    return round(temp * (9/5) + 32)\n",
    "    \n",
    "def convert(temp, scale): \n",
    "    \"\"\"\n",
    "    Combines conversion functions into a two-way converter.\n",
    "    Expects a souce temp (int) and a target scale ('f' or 'c').\n",
    "    \"\"\"\n",
    "    if scale.lower() == \"c\":\n",
    "        return f_to_c(temp)  # function call to f_to_c\n",
    "    else:\n",
    "        return c_to_f(temp)  # function call to c_to_f"
   ]
  },
  {
   "cell_type": "markdown",
   "metadata": {},
   "source": [
    "Now, here is function that combines the above functions into a **user-facing interface** to the other functions."
   ]
  },
  {
   "cell_type": "code",
   "execution_count": 2,
   "metadata": {},
   "outputs": [],
   "source": [
    "##| tags: []\n",
    "def convert_app():\n",
    "    \"\"\"\n",
    "    Provides a user-interface to the the conversion functions.\n",
    "    \"\"\"\n",
    "    \n",
    "    # Get user input\n",
    "    temp = int(input(\"Enter a temperature: \"))                \n",
    "    scale = input(\"Enter the scale to convert to: (c or f) \")[0].lower()\n",
    "    \n",
    "    # Infer source scale, to be used in the output message\n",
    "    if scale == 'c':\n",
    "        current_scale = 'f'\n",
    "    else:\n",
    "        current_scale = 'c'\n",
    "    \n",
    "    # Do the conversion\n",
    "    converted = convert(temp, scale)\n",
    "    \n",
    "    # Print results for user\n",
    "    print(f\"{temp}{current_scale.upper()} is equal to {converted}{scale.upper()}.\")"
   ]
  },
  {
   "cell_type": "code",
   "execution_count": 3,
   "metadata": {},
   "outputs": [
    {
     "name": "stdin",
     "output_type": "stream",
     "text": [
      "Enter a temperature:  45\n",
      "Enter the scale to convert to: (c or f)  f\n"
     ]
    },
    {
     "name": "stdout",
     "output_type": "stream",
     "text": [
      "45C is equal to 113F.\n"
     ]
    }
   ],
   "source": [
    "convert_app()"
   ]
  },
  {
   "cell_type": "markdown",
   "metadata": {},
   "source": [
    "### A More Pythonic Solution\n",
    "\n",
    "We replace if/then statements with dictionary logic."
   ]
  },
  {
   "cell_type": "code",
   "execution_count": null,
   "metadata": {},
   "outputs": [],
   "source": [
    "## Put your logic in the data structure\n",
    "converters = {\n",
    "    'c': lambda t: (t - 32) * (5/9),\n",
    "    'f': lambda t: t * (9/5) + 32\n",
    "}"
   ]
  },
  {
   "cell_type": "code",
   "execution_count": null,
   "metadata": {},
   "outputs": [],
   "source": [
    "def convert_app2():\n",
    "    \n",
    "    # Input from user\n",
    "    source_temp  = int(input(\"Enter a temperature: \"))                \n",
    "    target_scale = input(\"Enter the scale to convert to: (c or f) \")\n",
    "    \n",
    "    # Internal computations\n",
    "    target_temp  = converters[target_scale](source_temp)\n",
    "    # source_scale = list(set(converters.keys()) - set(target_scale))[0]\n",
    "    source_scale = (set(converters.keys()) - set(target_scale)).pop()\n",
    "    \n",
    "    # Output to user\n",
    "    print(source_temp, source_scale, \"converted becomes:\" , round(target_temp), target_scale)"
   ]
  },
  {
   "cell_type": "code",
   "execution_count": null,
   "metadata": {},
   "outputs": [],
   "source": [
    "convert_app2()"
   ]
  },
  {
   "cell_type": "markdown",
   "metadata": {},
   "source": [
    "## Example 2: Counting Vowels"
   ]
  },
  {
   "cell_type": "code",
   "execution_count": null,
   "metadata": {},
   "outputs": [],
   "source": [
    "## Predicate functions - often used as helper functions that return True or False\n",
    "\n",
    "def is_vowel(l):\n",
    "    if l == \"a\" or l == \"e\" or l == \"i\" or l == \"o\" or l == \"u\":\n",
    "        return True  # if the letter is a vowel, return True\n",
    "    else:\n",
    "        return False # else, return False\n",
    "        \n",
    "def num_vowels(my_string):\n",
    "    my_string = my_string.lower()\n",
    "    count = 0\n",
    "    for i in range(len(my_string)): # for each character\n",
    "        if is_vowel(my_string[i]):  # call function above\n",
    "            count += 1              # increment count if true\n",
    "    return count\n",
    "    \n",
    "def vcounter():\n",
    "    my_str = input(\"Enter a string: \")\n",
    "    vcount = num_vowels(my_str)\n",
    "    print(f\"There are {vcount} vowels in the string.\")"
   ]
  },
  {
   "cell_type": "code",
   "execution_count": null,
   "metadata": {},
   "outputs": [],
   "source": [
    "vcounter()"
   ]
  },
  {
   "cell_type": "markdown",
   "metadata": {},
   "source": [
    "### A More Pythonic Solution\n",
    "\n",
    "We can use a lambda function with a comprehension to replace the fisrt two functions above."
   ]
  },
  {
   "cell_type": "code",
   "execution_count": null,
   "metadata": {},
   "outputs": [],
   "source": [
    "vowel_count = lambda x: len([char for char in x.lower() if char in \"aeiou\"])"
   ]
  },
  {
   "cell_type": "code",
   "execution_count": null,
   "metadata": {},
   "outputs": [],
   "source": [
    "test_str = \"Whatever it is, it is what it is.\""
   ]
  },
  {
   "cell_type": "code",
   "execution_count": null,
   "metadata": {},
   "outputs": [],
   "source": [
    "vowel_count(test_str)"
   ]
  },
  {
   "cell_type": "markdown",
   "metadata": {},
   "source": [
    "## Example 3: Calculating Tax\n",
    "\n",
    "We write two related functions:\n",
    "* One to compute the **tax** based on a **gross pay** and a **tax rate**.\n",
    "* One to compute the **net pay** using the previous function.\n",
    "\n",
    "In addition, we want to write some functions that use these functions to interact with a user.\n",
    "* One to get the input value of the gross pay and print the tax.\n",
    "* One to print the net pay based on the previous function.\n",
    "\n",
    "Note the division of labor, or \"separation of concerns\", in these functions:\n",
    "* Some do calculative work\n",
    "* Some do interactive work\n",
    "\n",
    "To compute tax, we have these data:\n",
    "```\n",
    "gross_pay    tax_rate\n",
    "---------------------\n",
    "0   - 240    0%\n",
    "241 - 480    15%\n",
    "481 - more   28% \n",
    "```\n",
    "\n",
    "----\n",
    "This time, we want to create a group of functions that expect some global variables to exist and use these instead of return statements.\n",
    "\n",
    "In the code below, we globalize any variables that are assigned in our functions. \n",
    "\n",
    "This allows them to be shared by all the other functions. \n",
    "\n",
    "Note that this is effective when our global environment -- the containing script -- contains only these functions. \n",
    "\n",
    "Later in this course, we will look at mechanisms to segment our code in this way.\n",
    "\n",
    "----"
   ]
  },
  {
   "cell_type": "code",
   "execution_count": null,
   "metadata": {},
   "outputs": [],
   "source": [
    "def compute_tax():\n",
    "    \"\"\"\n",
    "    Computes tax rate and applies to gross pay to get tax.\n",
    "    Expects gross_apy to be defined globally.\n",
    "    Adds tax_rate and tax to globals for use by other functins.\n",
    "    \"\"\"\n",
    "\n",
    "    global tax_rate, tax\n",
    "\n",
    "    # Get rate by lower bound\n",
    "    if gross_pay > 480:\n",
    "        tax_rate = .28\n",
    "    elif gross_pay > 240:\n",
    "        tax_rate = .15\n",
    "    else:\n",
    "        tax_rate = 0\n",
    "        \n",
    "    tax = gross_pay * tax_rate\n",
    "            \n",
    "def compute_net_pay():\n",
    "    \"\"\"\n",
    "    Computes net pay based on globals produced by compute_tax().\n",
    "    Expects gross_pay and tax to be defined globally.\n",
    "    Adds net_pay to to globals.\n",
    "    \"\"\"\n",
    "    \n",
    "    global net_pay\n",
    "    \n",
    "    net_pay = gross_pay - tax\n",
    "\n",
    "def get_tax():   \n",
    "    \"\"\"\n",
    "    Computes and prints tax based on user input.\n",
    "    Essentially a wrapper around compute_tax().\n",
    "    Adds gross_pay to globals.\n",
    "    \"\"\"\n",
    "    \n",
    "    global gross_pay\n",
    "    \n",
    "    gross_pay = int(input(\"Enter your gross pay in dollars: \"))                            \n",
    "    \n",
    "    compute_tax()\n",
    "    \n",
    "    print(f\"Based on a tax rate of {round(tax_rate * 100)}%, the tax you owe on ${gross_pay} is ${round(tax)}.\")\n",
    "    \n",
    "def get_net_pay():\n",
    "    \"\"\"\n",
    "    Computes and prints net pay based on globals.\n",
    "    \"\"\"\n",
    "    \n",
    "    compute_net_pay()\n",
    "    \n",
    "    print(f\"Your take home (net) pay is ${round(net_pay)}.\")\n",
    "    \n",
    "def do_all():\n",
    "    \"Runs both user-facing functions.\"\n",
    "    get_tax()\n",
    "    get_net_pay()"
   ]
  },
  {
   "cell_type": "code",
   "execution_count": null,
   "metadata": {},
   "outputs": [],
   "source": [
    "get_tax()"
   ]
  },
  {
   "cell_type": "code",
   "execution_count": null,
   "metadata": {},
   "outputs": [],
   "source": [
    "get_net_pay()"
   ]
  },
  {
   "cell_type": "code",
   "execution_count": null,
   "metadata": {},
   "outputs": [],
   "source": [
    "do_all()"
   ]
  },
  {
   "cell_type": "markdown",
   "metadata": {},
   "source": [
    "## Concluding Observations\n",
    "\n",
    "* Notice how each example has functions that build on each other.\n",
    "* These functions share both data and a general goal.\n",
    "* The fact that data and functions go together is the motivation for creating classes.\n"
   ]
  }
 ],
 "metadata": {
  "kernelspec": {
   "display_name": "Python 3 (ipykernel)",
   "language": "python",
   "name": "python3"
  },
  "language_info": {
   "codemirror_mode": {
    "name": "ipython",
    "version": 3
   },
   "file_extension": ".py",
   "mimetype": "text/x-python",
   "name": "python",
   "nbconvert_exporter": "python",
   "pygments_lexer": "ipython3",
   "version": "3.11.3"
  }
 },
 "nbformat": 4,
 "nbformat_minor": 4
}
