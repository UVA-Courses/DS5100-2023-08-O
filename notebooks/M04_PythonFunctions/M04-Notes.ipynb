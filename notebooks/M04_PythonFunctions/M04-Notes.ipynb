{
 "cells": [
  {
   "cell_type": "markdown",
   "id": "00769ffe-1611-4f41-861b-9cd3b6ceb4f6",
   "metadata": {},
   "source": [
    "# M04 Notes"
   ]
  },
  {
   "cell_type": "markdown",
   "id": "d04941f8-5707-447e-b26e-b957e3c428c6",
   "metadata": {},
   "source": [
    "# In-Place Operations\n",
    "\n",
    "Lutz goes into the difference between the += and the + in [Ch 11 pages 360-363](https://learning.oreilly.com/library/view/learning-python-5th/9781449355722/ch11.html#augmented_assignments).\n",
    "\n",
    "**In-place operations**\n",
    "\n",
    "`a += b` is the same as `operator.iadd(a, b)`"
   ]
  },
  {
   "cell_type": "code",
   "execution_count": 1,
   "id": "dbba5953-3598-4eb2-999e-9c1abfd23c37",
   "metadata": {
    "tags": []
   },
   "outputs": [],
   "source": [
    "import operator"
   ]
  },
  {
   "cell_type": "code",
   "execution_count": 2,
   "id": "59bb1cfc-9272-4718-b548-266b07a57ff1",
   "metadata": {
    "tags": []
   },
   "outputs": [],
   "source": [
    "a = [1,2,3]\n",
    "b = [4,5,6]"
   ]
  },
  {
   "cell_type": "code",
   "execution_count": 3,
   "id": "8679a5f3-1363-489f-a944-2c2bfa8781b2",
   "metadata": {
    "tags": []
   },
   "outputs": [
    {
     "data": {
      "text/plain": [
       "[1, 2, 3, 4, 5, 6]"
      ]
     },
     "execution_count": 3,
     "metadata": {},
     "output_type": "execute_result"
    }
   ],
   "source": [
    "operator.iadd(a, b)"
   ]
  },
  {
   "cell_type": "code",
   "execution_count": 4,
   "id": "2b31bf4c-2e06-4882-bd08-62b54d2d7fb1",
   "metadata": {
    "tags": []
   },
   "outputs": [
    {
     "data": {
      "text/plain": [
       "([1, 2, 3, 4, 5, 6], [4, 5, 6])"
      ]
     },
     "execution_count": 4,
     "metadata": {},
     "output_type": "execute_result"
    }
   ],
   "source": [
    "a, b"
   ]
  },
  {
   "cell_type": "code",
   "execution_count": 5,
   "id": "4a664900-d7cb-4887-aec0-0017e4642b7f",
   "metadata": {
    "tags": []
   },
   "outputs": [
    {
     "data": {
      "text/plain": [
       "[1, 2, 3, 4, 5, 6, 1, 2, 3, 4, 5, 6]"
      ]
     },
     "execution_count": 5,
     "metadata": {},
     "output_type": "execute_result"
    }
   ],
   "source": [
    "operator.imul(a, 2)"
   ]
  },
  {
   "cell_type": "code",
   "execution_count": 6,
   "id": "6fc1358b-de5c-42ce-a6d1-c0a8e1756842",
   "metadata": {
    "tags": []
   },
   "outputs": [
    {
     "data": {
      "text/plain": [
       "[1, 2, 3, 4, 5, 6, 1, 2, 3, 4, 5, 6]"
      ]
     },
     "execution_count": 6,
     "metadata": {},
     "output_type": "execute_result"
    }
   ],
   "source": [
    "a"
   ]
  },
  {
   "cell_type": "markdown",
   "id": "29143b67-6169-44a9-a221-e4524197b406",
   "metadata": {},
   "source": [
    "**In-place functions**\n",
    "\n",
    "Sometimes functions and methods perform in-place operations. \n",
    "\n",
    "For example, these list methods perform in-place operations:\n"
   ]
  },
  {
   "cell_type": "code",
   "execution_count": 7,
   "id": "c50e13ec-9e5a-44f8-8671-6cdc69a91508",
   "metadata": {
    "tags": []
   },
   "outputs": [
    {
     "data": {
      "text/plain": [
       "[1, 2, 3, 4, 5, 6, 1, 2, 3, 4, 5, 6]"
      ]
     },
     "execution_count": 7,
     "metadata": {},
     "output_type": "execute_result"
    }
   ],
   "source": [
    "a"
   ]
  },
  {
   "cell_type": "code",
   "execution_count": 8,
   "id": "798503da-0fbc-4f87-8601-e28544338209",
   "metadata": {
    "tags": []
   },
   "outputs": [
    {
     "data": {
      "text/plain": [
       "6"
      ]
     },
     "execution_count": 8,
     "metadata": {},
     "output_type": "execute_result"
    }
   ],
   "source": [
    "a.pop()"
   ]
  },
  {
   "cell_type": "code",
   "execution_count": 9,
   "id": "6225394e-fbd4-406d-8e65-027c1a6a860d",
   "metadata": {
    "tags": []
   },
   "outputs": [
    {
     "data": {
      "text/plain": [
       "[1, 2, 3, 4, 5, 6, 1, 2, 3, 4, 5]"
      ]
     },
     "execution_count": 9,
     "metadata": {},
     "output_type": "execute_result"
    }
   ],
   "source": [
    "a"
   ]
  },
  {
   "cell_type": "code",
   "execution_count": 10,
   "id": "023079e9-4ac6-450c-9304-b3475d38b6e9",
   "metadata": {
    "tags": []
   },
   "outputs": [],
   "source": [
    "a.insert(0, 10)"
   ]
  },
  {
   "cell_type": "code",
   "execution_count": 11,
   "id": "68490629-dd62-49fa-9d44-d7f6e99b851d",
   "metadata": {
    "tags": []
   },
   "outputs": [
    {
     "data": {
      "text/plain": [
       "[10, 1, 2, 3, 4, 5, 6, 1, 2, 3, 4, 5]"
      ]
     },
     "execution_count": 11,
     "metadata": {},
     "output_type": "execute_result"
    }
   ],
   "source": [
    "a"
   ]
  },
  {
   "cell_type": "code",
   "execution_count": 12,
   "id": "b131f9bf-2ab9-4376-bdf4-f6ff4b5f7413",
   "metadata": {
    "tags": []
   },
   "outputs": [],
   "source": [
    "a.append(50)"
   ]
  },
  {
   "cell_type": "code",
   "execution_count": 13,
   "id": "108536a7-4da0-4648-9573-bc93fb1c3ee7",
   "metadata": {
    "tags": []
   },
   "outputs": [
    {
     "data": {
      "text/plain": [
       "[10, 1, 2, 3, 4, 5, 6, 1, 2, 3, 4, 5, 50]"
      ]
     },
     "execution_count": 13,
     "metadata": {},
     "output_type": "execute_result"
    }
   ],
   "source": [
    "a"
   ]
  },
  {
   "cell_type": "code",
   "execution_count": 14,
   "id": "06e372c0-ce69-4b53-b82f-d4ed5db19ff5",
   "metadata": {
    "tags": []
   },
   "outputs": [],
   "source": [
    "a.reverse()"
   ]
  },
  {
   "cell_type": "code",
   "execution_count": 15,
   "id": "a913d261-1610-4c3b-9d7a-fb55defe4059",
   "metadata": {
    "tags": []
   },
   "outputs": [
    {
     "data": {
      "text/plain": [
       "[50, 5, 4, 3, 2, 1, 6, 5, 4, 3, 2, 1, 10]"
      ]
     },
     "execution_count": 15,
     "metadata": {},
     "output_type": "execute_result"
    }
   ],
   "source": [
    "a"
   ]
  },
  {
   "cell_type": "markdown",
   "id": "bd6d90bc-3981-4fd5-8e87-40efc9269e0a",
   "metadata": {},
   "source": [
    "These functions do not perform in-place operations:"
   ]
  },
  {
   "cell_type": "code",
   "execution_count": 20,
   "id": "a2a2ed60-e95a-46ca-9aee-05c84c8b20db",
   "metadata": {
    "tags": []
   },
   "outputs": [
    {
     "data": {
      "text/plain": [
       "[1, 1, 2, 2, 3, 3, 4, 4, 5, 5, 6, 10, 50]"
      ]
     },
     "execution_count": 20,
     "metadata": {},
     "output_type": "execute_result"
    }
   ],
   "source": [
    "sorted(a)"
   ]
  },
  {
   "cell_type": "code",
   "execution_count": 21,
   "id": "f921e186-495b-4073-9377-8094a856c463",
   "metadata": {
    "tags": []
   },
   "outputs": [
    {
     "data": {
      "text/plain": [
       "[50, 5, 4, 3, 2, 1, 6, 5, 4, 3, 2, 1, 10]"
      ]
     },
     "execution_count": 21,
     "metadata": {},
     "output_type": "execute_result"
    }
   ],
   "source": [
    "a"
   ]
  },
  {
   "cell_type": "code",
   "execution_count": 22,
   "id": "f286cb15-1bfe-4e20-bf7d-def3cd9f2847",
   "metadata": {
    "tags": []
   },
   "outputs": [
    {
     "data": {
      "text/plain": [
       "[10, 1, 2, 3, 4, 5, 6, 1, 2, 3, 4, 5, 50]"
      ]
     },
     "execution_count": 22,
     "metadata": {},
     "output_type": "execute_result"
    }
   ],
   "source": [
    "list(reversed(a))"
   ]
  },
  {
   "cell_type": "code",
   "execution_count": 23,
   "id": "ea6c00df-2107-4bc2-82b1-47b46fecf69e",
   "metadata": {
    "tags": []
   },
   "outputs": [
    {
     "data": {
      "text/plain": [
       "[50, 5, 4, 3, 2, 1, 6, 5, 4, 3, 2, 1, 10]"
      ]
     },
     "execution_count": 23,
     "metadata": {},
     "output_type": "execute_result"
    }
   ],
   "source": [
    "a"
   ]
  }
 ],
 "metadata": {
  "kernelspec": {
   "display_name": "Python 3 (ipykernel)",
   "language": "python",
   "name": "python3"
  },
  "language_info": {
   "codemirror_mode": {
    "name": "ipython",
    "version": 3
   },
   "file_extension": ".py",
   "mimetype": "text/x-python",
   "name": "python",
   "nbconvert_exporter": "python",
   "pygments_lexer": "ipython3",
   "version": "3.11.3"
  }
 },
 "nbformat": 4,
 "nbformat_minor": 5
}
