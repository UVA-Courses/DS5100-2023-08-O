{
 "cells": [
  {
   "cell_type": "markdown",
   "id": "7a39eabb-1c32-4a6c-858c-a1b105938315",
   "metadata": {},
   "source": [
    "# Hello Exercise\n",
    "\n",
    "Students fork and clone the course repo, then create a file in a specified directory of their local repo.\n",
    "\n",
    "After that they push it to the remote and then initiate a pull request.\n",
    "\n",
    "These requests are merged and then pulled locally here. \n",
    "\n",
    "The results are aggregated and printed below."
   ]
  },
  {
   "cell_type": "code",
   "execution_count": 2,
   "id": "aaaaa06a-7fd7-483b-8707-0fd4b3231363",
   "metadata": {
    "tags": []
   },
   "outputs": [],
   "source": [
    "import glob\n",
    "import pandas as pd"
   ]
  },
  {
   "cell_type": "code",
   "execution_count": null,
   "id": "c74a6f8c-6006-4d05-b8b6-dab3d1afd0f0",
   "metadata": {
    "tags": []
   },
   "outputs": [],
   "source": [
    "data = []\n",
    "files = glob.glob(\"./hello/*_*.txt\")\n",
    "for i, file in enumerate(files):\n",
    "    sid = file.split(\"/\")[2].split(\"_\")[0]\n",
    "    line = open(file, 'r').read().strip()\n",
    "    row = (sid, line.replace('\\n', ' '))\n",
    "    data.append(row)"
   ]
  },
  {
   "cell_type": "code",
   "execution_count": null,
   "id": "d639031b-10ed-47ad-a3fd-87ddc9c91d74",
   "metadata": {
    "tags": []
   },
   "outputs": [],
   "source": [
    "df = pd.DataFrame(data, columns=['user_id','comment'])"
   ]
  },
  {
   "cell_type": "code",
   "execution_count": null,
   "id": "9ec8280b-a44b-4cfa-bd40-9188012fa5a2",
   "metadata": {
    "tags": []
   },
   "outputs": [],
   "source": [
    "for i, r in enumerate(df.user_id + ' | ' + df.comment):\n",
    "    print(str(i).zfill(2), \"| \" + r + \"\\n\")"
   ]
  },
  {
   "cell_type": "markdown",
   "id": "26c7e1be-cab1-4ea8-b03e-7fbc98f041bd",
   "metadata": {},
   "source": [
    "# Extracted Titles\n",
    "\n",
    "This and the following table were extracted by ChatGPT.\n",
    "\n",
    "| No. | Movie Title                           | Occurrences | Parenthetic Information            |\n",
    "|-----|---------------------------------------|-------------|-----------------------------------|\n",
    "| 19  | Avatar: Way of Water                  | 1           |                                   |\n",
    "| 5   | Air                                   | 1           |                                   |\n",
    "| 22  | Across the Spiderverse                | 1           |                                   |\n",
    "| 10  | Barbie                                | 2           |                                   |\n",
    "| 15  | Django Unchained                      | 1           |                                   |\n",
    "| 17  | Harry Potter                          | 1           |                                   |\n",
    "| 21  | Harry Potter and the Half-Blood Prince| 1           |                                   |\n",
    "| 14  | Heart of Stone                        | 1           |                                   |\n",
    "| 16  | Jailer                                | 1           |                                   |\n",
    "| 6   | Jurassic Park                         | 1           |                                   |\n",
    "| 2   | Mayday Air Disaster                  | 1           | This is a series, not a movie     |\n",
    "| 4   | Oppenheimer                           | 6           |                                   |\n",
    "| 12  | One Piece Film: Red                   | 1           |                                   |\n",
    "| 7   | Pulp Fiction                          | 1           |                                   |\n",
    "| 20  | Red Notice                            | 1           |                                   |\n",
    "| 11  | Shawshank Redemption                  | 1           |                                   |\n",
    "| 18  | Star Trek                             | 1           | 2009 release                       |\n",
    "| 1   | The Martian                           | 1           |                                   |\n",
    "| 9   | The Highwaymen                        | 1           |                                   |\n",
    "| 13  | The little things                     | 1           |                                   |\n",
    "| 3   | The Other Guys                       | 1           |                                   |\n",
    "| 8   | Scream 5                              | 1           |                                   |\n",
    "| 23  | Yeh Jawaani Hai Deewani               | 1           |                                   |"
   ]
  },
  {
   "cell_type": "markdown",
   "id": "452fbe14-cdf0-4eb1-bce6-37636833ef8e",
   "metadata": {},
   "source": [
    "# Student and Title\n",
    "\n",
    "| No. | User Code | Content                                                                                                          | Movie Title                           |\n",
    "|-----|-----------|------------------------------------------------------------------------------------------------------------------|---------------------------------------|\n",
    "| 00  | ssl6np    | The most recent film I watched and enjoyed was The Martian                                                        | The Martian                           |\n",
    "| 01  | nrg6cb    | ... 'Mayday Air Disaster' series recently ...                                                                      | Mayday Air Disaster                  |\n",
    "| 02  | qqx3eh    |                                                                                                                  |                                       |\n",
    "| 03  | yhp7nq    | The last movie I watched was The Other Guys.                                                                     | The Other Guys                       |\n",
    "| 04  | waa4bq    | ... last movie I saw was Oppenheimer, I really enjoyed watching Air.                                              | Oppenheimer, Air                      |\n",
    "| 05  | xuw9ap    | ... most recent movie I watched and enjoyed was Oppenheimer                                                       | Oppenheimer                           |\n",
    "| 06  | zh8war    | Baki                                                                                                             |                                       |\n",
    "| 07  | csl5hw    | The most recent film I enjoyed is Oppenheimer.                                                                   | Oppenheimer                           |\n",
    "| 08  | clotane   | The most recent film I enjoyed is Oppenheimer.                                                                   | Oppenheimer                           |\n",
    "| 09  | aalbaran  | I recently watched Jurassic Park.                                                                                | Jurassic Park                         |\n",
    "| 10  | atferentinos | ... Recently, I watched \"Pulp Fiction\" ...                                                                      | Pulp Fiction                          |\n",
    "| 11  | aqsaxm    | ... I recently watched Scream 5.                                                                                 | Scream 5                              |\n",
    "| 12  | tds8tv    | I recently watched and enjoyed Oppenheimer                                                                       | Oppenheimer                           |\n",
    "| 13  | rtt4fb    | ... The most recent movie I have watched and enjoyed is The Highwaymen ...                                       | The Highwaymen                        |\n",
    "| 14  | rmd9ev    | ... The most recent film I watched and enjoyed was Barbie. ...                                                   | Barbie                                |\n",
    "| 15  | bdj9wf    | ... most recent movie that I watched and enjoyed was Shawshank Redemption, ...                                   | Shawshank Redemption                  |\n",
    "| 16  | gshoriz   | Most recent film I watched and enjoyed is One Piece Film: Red                                                    | One Piece Film: Red                   |\n",
    "| 17  | haq3wm    | ... What is the most recent film you watched and enjoyed?\\ The little things featuring Denzel Washington         | The little things                     |\n",
    "| 18  | vvk6rd    | The most recent film I watched and enjoyed is heart of stone                                                     | Heart of Stone                        |\n",
    "| 19  | wfn8aj    | ... I have recently watched the movie “Django Unchained” ...                                                     | Django Unchained                      |\n",
    "| 20  | qzx7av    | ... The most recent film I watched was called Jailer.                                                            | Jailer                                |\n",
    "| 21  | krb3ym    | Oppenheimer                                                                                                      | Oppenheimer                           |\n",
    "| 22  | uay3yb    | ... most recent film you watched and enjoyed? Harry Potter                                                       | Harry Potter                          |\n",
    "| 23  | dkr5ud    | Star Trek (the 2009 release)                                                                                     | Star Trek                             |\n",
    "| 24  | rn7ena    | ... I just watched Avatar: Way of Water ...                                                                      | Avatar: Way of Water                  |\n",
    "| 25  | 141654114| I'm Eric. I really like Oppenheimer.                                                                             | Oppenheimer                           |\n",
    "| 26  | sbv5dn    | ... re-watched the movie Red Notice on Netflix ...                                                               | Red Notice                            |\n",
    "| 27  | mbf4ay    | ... The most recent film I have watched and enjoyed is Oppenheimer.                                              | Oppenheimer                           |\n",
    "| 28  | dja8tx    | Harry Potter and the Half-Blood Prince                                                                          | Harry Potter and the Half-Blood Prince|\n",
    "| 29  | aec4hr    | The most recent film I watched and enjoyed was across the spiderverse.                                           | Across the Spiderverse                |\n",
    "| 30  | hve2ku    | ... I have seen Oppenheimer 3 and half times now ...                                                             | Oppenheimer                           |\n",
    "| 31  | jrr4n     | ... re-watched the movie \"Yeh Jawaani Hai Deewani\" ...                                                           | Yeh Jawaani Hai Deewani               |"
   ]
  },
  {
   "cell_type": "code",
   "execution_count": null,
   "id": "b8e2341f-8061-455b-b08d-7b553c7359f8",
   "metadata": {},
   "outputs": [],
   "source": []
  }
 ],
 "metadata": {
  "kernelspec": {
   "display_name": "eta",
   "language": "python",
   "name": "eta"
  },
  "language_info": {
   "codemirror_mode": {
    "name": "ipython",
    "version": 3
   },
   "file_extension": ".py",
   "mimetype": "text/x-python",
   "name": "python",
   "nbconvert_exporter": "python",
   "pygments_lexer": "ipython3",
   "version": "3.11.3"
  },
  "widgets": {
   "application/vnd.jupyter.widget-state+json": {
    "state": {},
    "version_major": 2,
    "version_minor": 0
   }
  }
 },
 "nbformat": 4,
 "nbformat_minor": 5
}
