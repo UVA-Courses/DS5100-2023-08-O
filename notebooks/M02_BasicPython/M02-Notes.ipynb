{
 "cells": [
  {
   "cell_type": "markdown",
   "id": "48c25cbe-e05e-4912-90eb-a03fc2f639c1",
   "metadata": {},
   "source": [
    "# M02 Notes"
   ]
  },
  {
   "cell_type": "code",
   "execution_count": 2,
   "id": "584b4c10-5da6-4517-b239-598119a3408e",
   "metadata": {
    "tags": []
   },
   "outputs": [],
   "source": [
    "import pandas as pd\n",
    "import numpy as np"
   ]
  },
  {
   "cell_type": "code",
   "execution_count": 81,
   "id": "dbfdea52-8935-4759-80e4-716d8a3254c2",
   "metadata": {
    "tags": []
   },
   "outputs": [
    {
     "data": {
      "text/html": [
       "<style>\n",
       "table {float: left; clear: right;}\n",
       "td, th {text-align:right;}\n",
       "</style>\n"
      ],
      "text/plain": [
       "<IPython.core.display.HTML object>"
      ]
     },
     "metadata": {},
     "output_type": "display_data"
    }
   ],
   "source": [
    "%%html\n",
    "<style>\n",
    "table {float: left; clear: right;}\n",
    "td, th {text-align:right;}\n",
    "</style>"
   ]
  },
  {
   "cell_type": "markdown",
   "id": "f26108c1-d3b5-41d5-ba22-e06a9873e296",
   "metadata": {
    "tags": []
   },
   "source": [
    "# Review Assignment\n",
    "\n",
    "See [M01 Notebook](../M01_GettingStarted/M01_ImportHello.ipynb) for results."
   ]
  },
  {
   "cell_type": "markdown",
   "id": "96347db0-233a-4e22-b928-04afea4f6f92",
   "metadata": {
    "tags": []
   },
   "source": [
    "# Concepts\n",
    "\n",
    "## Data / Code\n",
    "\n",
    "Data vs algorithm (code). How are they related?\n",
    "\n",
    "## Data types and structures\n",
    "\n",
    "Data types and data structures. What are the differences?\n",
    "\n",
    "Data types are atomic; they don't contain other data types.\n",
    "\n",
    "A data structure contains data types organized in a certain way.\n",
    "\n",
    "## Strings\n",
    "\n",
    "Strings are data types, but internally they are like data structures.\n",
    "\n",
    "However, unlike the data structures considered here, strings can't contain any of the data types specified by Python.\n",
    "\n",
    "Internally, a string is a sequence of Unicode code points, which are not exposed as data types (as they are in some other languages).\n",
    "\n",
    "- A code point is a numerical value that maps to a specific character.\n",
    "- Unicode is an international standard of code points that map onto the alphabets of many languages.\n",
    "\n",
    "Each character is an element in an immutable list-like structure.\n",
    "\n",
    "You can access it's elements as if it were a tuple of characters:"
   ]
  },
  {
   "cell_type": "code",
   "execution_count": 9,
   "id": "c1d702fc-62b2-4ee6-900e-4c602c4bfd5d",
   "metadata": {
    "tags": []
   },
   "outputs": [
    {
     "name": "stdout",
     "output_type": "stream",
     "text": [
      "T\n",
      "g\n",
      "his is a strin\n",
      "his\n",
      "his is a st\n",
      "\n"
     ]
    }
   ],
   "source": [
    "my_string = \"This is a string\"\n",
    "print(my_string[0])\n",
    "print(my_string[-1])\n",
    "print(my_string[1:-1])\n",
    "print(my_string[1:4])\n",
    "print(my_string[1:-4])\n",
    "print(my_string[-4:1])"
   ]
  },
  {
   "cell_type": "markdown",
   "id": "ff8aa19a-8cb9-4cca-ba5c-438a3b1e593b",
   "metadata": {},
   "source": [
    "But also like a tuple, you can't change its values:"
   ]
  },
  {
   "cell_type": "code",
   "execution_count": 10,
   "id": "e2f9c7a3-6739-4787-9cc8-23e5d276de8e",
   "metadata": {
    "tags": []
   },
   "outputs": [
    {
     "ename": "TypeError",
     "evalue": "'str' object does not support item assignment",
     "output_type": "error",
     "traceback": [
      "\u001b[0;31m---------------------------------------------------------------------------\u001b[0m",
      "\u001b[0;31mTypeError\u001b[0m                                 Traceback (most recent call last)",
      "Cell \u001b[0;32mIn[10], line 1\u001b[0m\n\u001b[0;32m----> 1\u001b[0m my_string[\u001b[38;5;241m2\u001b[39m] \u001b[38;5;241m=\u001b[39m \u001b[38;5;124m'\u001b[39m\u001b[38;5;124ma\u001b[39m\u001b[38;5;124m'\u001b[39m\n\u001b[1;32m      2\u001b[0m my_string[\u001b[38;5;241m3\u001b[39m] \u001b[38;5;241m=\u001b[39m \u001b[38;5;124m'\u001b[39m\u001b[38;5;124mt\u001b[39m\u001b[38;5;124m'\u001b[39m\n",
      "\u001b[0;31mTypeError\u001b[0m: 'str' object does not support item assignment"
     ]
    }
   ],
   "source": [
    "my_string[2] = 'a'\n",
    "my_string[3] = 't'"
   ]
  },
  {
   "cell_type": "markdown",
   "id": "7d0bc7b3-1bb6-423d-96ab-3ef8f9a2fcfa",
   "metadata": {},
   "source": [
    "Note that some languages, like Java, have a data type for individual characters, e.g. `A`."
   ]
  },
  {
   "cell_type": "markdown",
   "id": "fcb03af7-5f1f-4ad1-b2d7-dd1f8ead0901",
   "metadata": {},
   "source": [
    "## String indexing\n",
    "\n",
    "Note that strings can be accessed via indexes, since they are list-like sequences.\n",
    "\n",
    "One thing to understand about indexing elements and slices is that slices are always \\\n",
    "from left to right, even if using negative numbers, which move backwards, as it were.\n",
    "\n",
    "Also, every positive number has a corresponding negative number, and these may be \\\n",
    "substituted freely and using indexes and slices.\n",
    "\n",
    "The following example illustrates these points."
   ]
  },
  {
   "cell_type": "code",
   "execution_count": 80,
   "id": "d1a638dd-0835-4112-aad0-f14093f20328",
   "metadata": {
    "tags": []
   },
   "outputs": [],
   "source": [
    "my_string2 = \"I AM A STRING\""
   ]
  },
  {
   "cell_type": "markdown",
   "id": "d2d55201-8e91-4164-a2bb-361b14d89483",
   "metadata": {},
   "source": [
    "The above string can represented in the following way:\n",
    "\n",
    "|I| |A|M| |A| |S|T|R|I|N|G|\n",
    "|-|-|-|-|-|-|-|-|-|-|-|-|-|\n",
    "| 0| 1| 2| 3| 4| 5| 6| 7| 8| 9| 10| 11| 12|\n",
    "|-13|-12|-11|-10|-9|-8|-7|-6|-5|-4|-3|-2|-1|"
   ]
  },
  {
   "cell_type": "markdown",
   "id": "e594a6cc-0a14-4d91-8b44-09e2931b0fd6",
   "metadata": {},
   "source": [
    "Note that the second and third rows of this table represent two functionally \\\n",
    "equivalent ways of accessing elements of the string sequence.\n",
    "\n",
    "Also note that positive and negative numbers are subsitutible."
   ]
  },
  {
   "cell_type": "code",
   "execution_count": 82,
   "id": "d5df4cd8-fb20-46df-b547-4b861fe53d96",
   "metadata": {
    "tags": []
   },
   "outputs": [
    {
     "name": "stdout",
     "output_type": "stream",
     "text": [
      "G == G\n"
     ]
    }
   ],
   "source": [
    "print(my_string2[12], '==', my_string2[-1])"
   ]
  },
  {
   "cell_type": "code",
   "execution_count": 83,
   "id": "702d0451-4b1a-416d-bff7-375f3e0d698d",
   "metadata": {
    "tags": []
   },
   "outputs": [
    {
     "data": {
      "text/plain": [
       "'AM A'"
      ]
     },
     "execution_count": 83,
     "metadata": {},
     "output_type": "execute_result"
    }
   ],
   "source": [
    "my_string2[2:6]"
   ]
  },
  {
   "cell_type": "code",
   "execution_count": 84,
   "id": "ce12e089-951c-4eea-8d8c-68a46d42f2db",
   "metadata": {
    "tags": []
   },
   "outputs": [
    {
     "data": {
      "text/plain": [
       "'AM A'"
      ]
     },
     "execution_count": 84,
     "metadata": {},
     "output_type": "execute_result"
    }
   ],
   "source": [
    "my_string2[2:-7]"
   ]
  },
  {
   "cell_type": "code",
   "execution_count": 85,
   "id": "481e6454-698f-4352-9840-14399fa386aa",
   "metadata": {
    "tags": []
   },
   "outputs": [
    {
     "data": {
      "text/plain": [
       "'AM A'"
      ]
     },
     "execution_count": 85,
     "metadata": {},
     "output_type": "execute_result"
    }
   ],
   "source": [
    "my_string2[-11:-7]"
   ]
  },
  {
   "cell_type": "code",
   "execution_count": 86,
   "id": "1a51915d-c879-4063-8c37-260b3b74dfbf",
   "metadata": {
    "tags": []
   },
   "outputs": [
    {
     "data": {
      "text/plain": [
       "'AM A'"
      ]
     },
     "execution_count": 86,
     "metadata": {},
     "output_type": "execute_result"
    }
   ],
   "source": [
    "my_string2[-11:6]"
   ]
  },
  {
   "cell_type": "markdown",
   "id": "ca3d2495-0db5-448e-b0a3-bd2b268c4f4b",
   "metadata": {
    "tags": []
   },
   "source": [
    "## Mutability\n",
    "\n",
    "A mutable object is one whose internal value can be changed. \n",
    "\n",
    "This property applies to data structures.\n",
    "\n",
    "Tuples are immutable, lists are not."
   ]
  },
  {
   "cell_type": "markdown",
   "id": "044fcb19-fd62-4062-9058-4dd066f5551a",
   "metadata": {},
   "source": [
    "**Demonstration**"
   ]
  },
  {
   "cell_type": "markdown",
   "id": "5efd7b93-5b58-43d4-a3d8-a81bb200089a",
   "metadata": {},
   "source": [
    "Here, we mutate a list by appending a value to it."
   ]
  },
  {
   "cell_type": "code",
   "execution_count": 2,
   "id": "3c8e1f43-0e5a-4077-aae8-529a2d6f59fe",
   "metadata": {
    "tags": []
   },
   "outputs": [
    {
     "name": "stdout",
     "output_type": "stream",
     "text": [
      "[1, 2, 3, 4, 5, 10]\n"
     ]
    }
   ],
   "source": [
    "a = [1,2,3,4,5]\n",
    "a.append(10)\n",
    "print(a)"
   ]
  },
  {
   "cell_type": "code",
   "execution_count": 3,
   "id": "492b95ea-7aac-4e6b-a3ce-01dfad500436",
   "metadata": {
    "tags": []
   },
   "outputs": [
    {
     "name": "stdout",
     "output_type": "stream",
     "text": [
      "[5, 2, 3, 4, 5, 10]\n"
     ]
    }
   ],
   "source": [
    "a[0] = 5\n",
    "print(a)"
   ]
  },
  {
   "cell_type": "markdown",
   "id": "24e9ced7-9bd6-47e7-94fb-5435f9b92c21",
   "metadata": {},
   "source": [
    "If we try the same things with a tuple, we get an error."
   ]
  },
  {
   "cell_type": "code",
   "execution_count": 4,
   "id": "28060b50-c8e3-49eb-aba7-ed785754c344",
   "metadata": {
    "tags": []
   },
   "outputs": [
    {
     "ename": "AttributeError",
     "evalue": "'tuple' object has no attribute 'append'",
     "output_type": "error",
     "traceback": [
      "\u001b[0;31m---------------------------------------------------------------------------\u001b[0m",
      "\u001b[0;31mAttributeError\u001b[0m                            Traceback (most recent call last)",
      "Cell \u001b[0;32mIn[4], line 2\u001b[0m\n\u001b[1;32m      1\u001b[0m b \u001b[38;5;241m=\u001b[39m (\u001b[38;5;241m1\u001b[39m,\u001b[38;5;241m2\u001b[39m,\u001b[38;5;241m3\u001b[39m,\u001b[38;5;241m4\u001b[39m,\u001b[38;5;241m5\u001b[39m)\n\u001b[0;32m----> 2\u001b[0m b\u001b[38;5;241m.\u001b[39mappend(\u001b[38;5;241m10\u001b[39m)\n\u001b[1;32m      3\u001b[0m \u001b[38;5;28mprint\u001b[39m(b)\n",
      "\u001b[0;31mAttributeError\u001b[0m: 'tuple' object has no attribute 'append'"
     ]
    }
   ],
   "source": [
    "b = (1,2,3,4,5)\n",
    "b.append(10)\n",
    "print(b)"
   ]
  },
  {
   "cell_type": "code",
   "execution_count": 5,
   "id": "c36fd9e7-092a-47c1-b6e9-22b653728417",
   "metadata": {
    "tags": []
   },
   "outputs": [
    {
     "ename": "TypeError",
     "evalue": "'tuple' object does not support item assignment",
     "output_type": "error",
     "traceback": [
      "\u001b[0;31m---------------------------------------------------------------------------\u001b[0m",
      "\u001b[0;31mTypeError\u001b[0m                                 Traceback (most recent call last)",
      "Cell \u001b[0;32mIn[5], line 1\u001b[0m\n\u001b[0;32m----> 1\u001b[0m b[\u001b[38;5;241m0\u001b[39m] \u001b[38;5;241m=\u001b[39m \u001b[38;5;241m5\u001b[39m\n\u001b[1;32m      2\u001b[0m \u001b[38;5;28mprint\u001b[39m(b)\n",
      "\u001b[0;31mTypeError\u001b[0m: 'tuple' object does not support item assignment"
     ]
    }
   ],
   "source": [
    "b[0] = 5\n",
    "print(b)"
   ]
  },
  {
   "cell_type": "markdown",
   "id": "d429ce17-74c3-4890-8a98-598f3ccce721",
   "metadata": {},
   "source": [
    "This, on the other hand, is not mutation:"
   ]
  },
  {
   "cell_type": "code",
   "execution_count": 6,
   "id": "e40665c5-c3ac-41b2-a6f9-ebab6aac1452",
   "metadata": {
    "tags": []
   },
   "outputs": [
    {
     "name": "stdout",
     "output_type": "stream",
     "text": [
      "[1, 2, 3, 4, 5, 10]\n",
      "(1, 2, 3, 4, 5, 10)\n"
     ]
    }
   ],
   "source": [
    "a = [1,2,3,4,5,10] # A list\n",
    "b = (1,2,3,4,5,10) # A tuple\n",
    "print(a)\n",
    "print(b)"
   ]
  },
  {
   "cell_type": "markdown",
   "id": "b5886217-4ed6-45be-8934-cdee1fe8e610",
   "metadata": {},
   "source": [
    "We are just **re-assigning** a new value to the variable. \n",
    "\n",
    "The new value just **replaces** the old one.\n",
    "\n",
    "In mutation, the same data structure remains in place and its contents are changed."
   ]
  },
  {
   "cell_type": "markdown",
   "id": "80c6a228-fe94-4488-b3c1-d0c2736c1fac",
   "metadata": {},
   "source": [
    "Note, however, that this works with tuples:"
   ]
  },
  {
   "cell_type": "code",
   "execution_count": 7,
   "id": "ac41655c-8207-449f-914f-0a873c7a2019",
   "metadata": {
    "tags": []
   },
   "outputs": [
    {
     "name": "stdout",
     "output_type": "stream",
     "text": [
      "(1, 2, 3, 4, 5, 10, 11)\n"
     ]
    }
   ],
   "source": [
    "b += (11,)\n",
    "print(b)"
   ]
  },
  {
   "cell_type": "markdown",
   "id": "907449fb-7fe5-49ba-8d33-e84480c4be59",
   "metadata": {},
   "source": [
    "It looks like mutation, but it's not.\n",
    "\n",
    "This is because we are replacing `b` with a new tuple value.\n",
    "\n",
    "> Notice that we write a single valued tuple with a comma. Why?"
   ]
  },
  {
   "cell_type": "markdown",
   "id": "dd62dd44-2285-4034-882b-d71fc9a9087a",
   "metadata": {},
   "source": [
    "**Behavior**\n",
    "\n",
    "> View the [video for this section](https://canvas.its.virginia.edu/courses/75059/modules/items/851334) on Canvas.\n",
    "                                    \n",
    "Relatedly, mutable and immutable objects behave differently.\n",
    "\n",
    "For example, when you assign a variable to another variable of a \\\n",
    "mutable datatype, any changes to the data are reflected by both variables. \n",
    "\n",
    "The new variable is just an alias for the old variable. \n",
    "\n",
    "This is only true for mutable datatypes. "
   ]
  },
  {
   "cell_type": "markdown",
   "id": "26701ea2-1b8a-4f83-a27d-b7b058181edc",
   "metadata": {},
   "source": [
    "Lets explore how `+` operator behaves differently."
   ]
  },
  {
   "cell_type": "markdown",
   "id": "5df5dac8-ac6a-4065-aced-9f39d82614c3",
   "metadata": {},
   "source": [
    "First, let's create a function that will allow us\\\n",
    "to compare the objects as we modify them."
   ]
  },
  {
   "cell_type": "code",
   "execution_count": 56,
   "id": "a142a5c2-f465-4a35-ba34-c6e70c5efb9a",
   "metadata": {
    "tags": []
   },
   "outputs": [],
   "source": [
    "def compare_objects(trial:int, obj1:str, obj2:str):\n",
    "    o1 = eval(obj1)\n",
    "    o2 = eval(obj2)\n",
    "    print(f\"t{trial} {obj1} {o1} {id(o1)}\")\n",
    "    print(f\"t{trial} {obj2} {o2} {id(o2)}\")\n",
    "    print(f\"{obj1} == {obj2}:\", o1 == o2)"
   ]
  },
  {
   "cell_type": "markdown",
   "id": "59832880-3384-4106-824c-89d2b799dd56",
   "metadata": {
    "jp-MarkdownHeadingCollapsed": true,
    "tags": []
   },
   "source": [
    "**List t1**\n",
    "\n",
    "We initialize a list and make a copy of it.\\\n",
    "Note that the two variables share the same `id`."
   ]
  },
  {
   "cell_type": "code",
   "execution_count": 57,
   "id": "02b100de-265c-4d9d-a46f-eb38d57ac84a",
   "metadata": {
    "tags": []
   },
   "outputs": [
    {
     "name": "stdout",
     "output_type": "stream",
     "text": [
      "t1 a0 [1, 2, 3, 4, 5] 4534811776\n",
      "t1 a1 [1, 2, 3, 4, 5] 4534811776\n",
      "a0 == a1: True\n"
     ]
    }
   ],
   "source": [
    "a0 = [1,2,3,4,5]\n",
    "a1 = a0 # Make a copy of a list\n",
    "compare_objects(1, 'a0', 'a1')"
   ]
  },
  {
   "cell_type": "markdown",
   "id": "ead9e0f7-47d9-4dca-9649-69e2a058b0ae",
   "metadata": {},
   "source": [
    "**List t2**\n",
    "\n",
    "Now we add to the copy and note the effects on the original. \\\n",
    "The original value is also changed. \\\n",
    "This is because both variables point to the same object."
   ]
  },
  {
   "cell_type": "code",
   "execution_count": 58,
   "id": "46b023d3-88ea-42a0-a958-f41ec9c421de",
   "metadata": {
    "tags": []
   },
   "outputs": [
    {
     "name": "stdout",
     "output_type": "stream",
     "text": [
      "t2 a0 [1, 2, 3, 4, 5, 12] 4534811776\n",
      "t2 a1 [1, 2, 3, 4, 5, 12] 4534811776\n",
      "a0 == a1: True\n"
     ]
    }
   ],
   "source": [
    "a1 += [12] # Extend the copy\n",
    "compare_objects(2, 'a0', 'a1')"
   ]
  },
  {
   "attachments": {
    "f0700cf2-cf3f-4155-a28d-383be7d726b2.png": {
     "image/png": "[encoded data removed]"
    }
   },
   "cell_type": "markdown",
   "id": "17272f86-bb12-42fe-b45f-61ad9a373e00",
   "metadata": {},
   "source": [
    "**List t3**\n",
    "\n",
    "Note, however, that if we _don't_ use the unary operator,\\\n",
    "then `a1` becomes a different object! \\\n",
    "This is weird ~~and does not seem to be noticed by the [Python people](https://book.pythontips.com/en/latest/mutation.html)~~.\n",
    "\n",
    "Lutz goes into the difference between the += and the + in [Ch 11 pages 360-363](https://learning.oreilly.com/library/view/learning-python-5th/9781449355722/ch11.html#augmented_assignments).\n",
    "\n",
    "![image.png](attachment:f0700cf2-cf3f-4155-a28d-383be7d726b2.png)"
   ]
  },
  {
   "cell_type": "code",
   "execution_count": 59,
   "id": "8866ab11-bc43-4285-be1e-8ab92e558391",
   "metadata": {
    "tags": []
   },
   "outputs": [
    {
     "name": "stdout",
     "output_type": "stream",
     "text": [
      "t3 a0 [1, 2, 3, 4, 5, 12] 4534811776\n",
      "t3 a1 [1, 2, 3, 4, 5, 12, 12] 4521759168\n",
      "a0 == a1: False\n"
     ]
    }
   ],
   "source": [
    "a1 = a1 + [12] # Extend the copy\n",
    "compare_objects(3, 'a0', 'a1')"
   ]
  },
  {
   "cell_type": "markdown",
   "id": "80dff1ab-f4cd-4fce-86e4-ae75ecb0bde9",
   "metadata": {},
   "source": [
    "**List t4**\n",
    "\n",
    "Try it with a new object copy, to avoid any possible inference between `t2` and `t3`."
   ]
  },
  {
   "cell_type": "code",
   "execution_count": 60,
   "id": "51b74402-9c1d-4508-b3c5-d30c0673ee8f",
   "metadata": {
    "tags": []
   },
   "outputs": [
    {
     "name": "stdout",
     "output_type": "stream",
     "text": [
      "t4 a0 [1, 2, 3, 4, 5, 12] 4534811776\n",
      "t4 a2 [1, 2, 3, 4, 5, 12, 12] 4534668992\n",
      "a0 == a2: False\n"
     ]
    }
   ],
   "source": [
    "a2 = a0\n",
    "a2 = a2 + [12] # Extend the copy\n",
    "compare_objects(4, 'a0', 'a2')"
   ]
  },
  {
   "cell_type": "markdown",
   "id": "fdc385c5-4c7d-4140-931f-38fa620afec5",
   "metadata": {},
   "source": [
    "We get the same result."
   ]
  },
  {
   "cell_type": "markdown",
   "id": "19cad344-4664-4ed8-85ec-1af9511330fe",
   "metadata": {},
   "source": [
    "**Tuple t1**\n",
    "\n",
    "Let's try this with a tuple.\\\n",
    "We see again that both variables have the same `id`."
   ]
  },
  {
   "cell_type": "code",
   "execution_count": 61,
   "id": "5b746f1e-34d1-41df-b1b0-fce9c4e68cd7",
   "metadata": {
    "tags": []
   },
   "outputs": [
    {
     "name": "stdout",
     "output_type": "stream",
     "text": [
      "t1 b0 (1, 2, 3, 4, 5) 4535096624\n",
      "t1 b1 (1, 2, 3, 4, 5) 4535096624\n",
      "b0 == b1: True\n"
     ]
    }
   ],
   "source": [
    "b0 = (1,2,3,4,5)\n",
    "b1 = b0 # Make a copy of a tuple\n",
    "compare_objects(1, 'b0', 'b1')"
   ]
  },
  {
   "cell_type": "markdown",
   "id": "1355143b-169f-4752-a683-1a2830085d29",
   "metadata": {},
   "source": [
    "**Tuple t2**\n",
    "\n",
    "However, if extend the tuple with the unary operator,\\\n",
    "&emsp;`b1` becomes a new object.\\\n",
    "Note how this differs from the list behavior."
   ]
  },
  {
   "cell_type": "code",
   "execution_count": 62,
   "id": "2155626b-751f-4328-8e82-c7567528baa7",
   "metadata": {
    "tags": []
   },
   "outputs": [
    {
     "name": "stdout",
     "output_type": "stream",
     "text": [
      "t2 b0 (1, 2, 3, 4, 5) 4535096624\n",
      "t2 b1 (1, 2, 3, 4, 5, 12) 4535001504\n",
      "b0 == b1: False\n"
     ]
    }
   ],
   "source": [
    "b1 += (12,) # Extend the copy\n",
    "compare_objects(2, 'b0', 'b1')"
   ]
  },
  {
   "cell_type": "markdown",
   "id": "9a2cc62b-da11-403e-8757-3f39ca1545f2",
   "metadata": {},
   "source": [
    "**Tuple t3**\n",
    "\n",
    "If we don't use the unary operator, the same thing happens again.\\\n",
    "The value of `b1` becomes a new object because the variable has been reassigned."
   ]
  },
  {
   "cell_type": "code",
   "execution_count": 63,
   "id": "5fa5af07-506d-4544-8148-825432296701",
   "metadata": {
    "tags": []
   },
   "outputs": [
    {
     "name": "stdout",
     "output_type": "stream",
     "text": [
      "t3 b0 (1, 2, 3, 4, 5) 4535096624\n",
      "t3 b1 (1, 2, 3, 4, 5, 12, 12) 4534999776\n",
      "b0 == b1: False\n"
     ]
    }
   ],
   "source": [
    "b1 = b1 + (12,) # Extend the copy\n",
    "compare_objects(3, 'b0', 'b1')"
   ]
  },
  {
   "cell_type": "markdown",
   "id": "2b2aec85-409e-4f30-ad68-4a770f7ab89c",
   "metadata": {},
   "source": [
    "Let's look at another example."
   ]
  },
  {
   "cell_type": "markdown",
   "id": "e0c0a412-50e4-426a-87f8-5152bfda11f6",
   "metadata": {},
   "source": [
    "Here is a list:"
   ]
  },
  {
   "cell_type": "code",
   "execution_count": 64,
   "id": "ce184299-21cc-497f-b0cb-268f38c66569",
   "metadata": {
    "tags": []
   },
   "outputs": [
    {
     "name": "stdout",
     "output_type": "stream",
     "text": [
      "t1 foo ['hi'] 4538156288\n",
      "t1 bar ['hi'] 4538156288\n",
      "foo == bar: True\n"
     ]
    }
   ],
   "source": [
    "foo = ['hi']\n",
    "bar = foo\n",
    "compare_objects(1, 'foo', 'bar')"
   ]
  },
  {
   "cell_type": "code",
   "execution_count": 65,
   "id": "ee7a3487-6d89-41da-92a8-4d5f89cae368",
   "metadata": {
    "tags": []
   },
   "outputs": [
    {
     "name": "stdout",
     "output_type": "stream",
     "text": [
      "t2 foo ['hi', 'bye'] 4538156288\n",
      "t2 bar ['hi', 'bye'] 4538156288\n",
      "foo == bar: True\n"
     ]
    }
   ],
   "source": [
    "bar += ['bye']\n",
    "compare_objects(2, 'foo', 'bar')"
   ]
  },
  {
   "cell_type": "code",
   "execution_count": 68,
   "id": "52e2b7e2-96b1-4a08-9225-7b916a73d8a8",
   "metadata": {
    "tags": []
   },
   "outputs": [
    {
     "name": "stdout",
     "output_type": "stream",
     "text": [
      "t2 foo ['hi', 'bye'] 4538156288\n",
      "t2 bar ['hi', 'bye', 'bye'] 4534918016\n",
      "foo == bar: False\n"
     ]
    }
   ],
   "source": [
    "bar = bar + ['bye']\n",
    "compare_objects(2, 'foo', 'bar')"
   ]
  },
  {
   "cell_type": "markdown",
   "id": "628edb6b-6d6e-4c8a-bc24-594778ef69d4",
   "metadata": {},
   "source": [
    "And here is a tuple:"
   ]
  },
  {
   "cell_type": "code",
   "execution_count": 69,
   "id": "be6ad2bc-c233-42c0-87e8-019889234358",
   "metadata": {
    "tags": []
   },
   "outputs": [
    {
     "name": "stdout",
     "output_type": "stream",
     "text": [
      "t1 foo1 hi 4475663600\n",
      "t1 bar1 hi 4475663600\n",
      "foo1 == bar1: True\n"
     ]
    }
   ],
   "source": [
    "foo1 = ('hi')\n",
    "bar1 = foo1\n",
    "compare_objects(1, 'foo1', 'bar1')"
   ]
  },
  {
   "cell_type": "code",
   "execution_count": 70,
   "id": "b5dec65c-5fcb-44f6-964e-5cdb45fffc77",
   "metadata": {
    "tags": []
   },
   "outputs": [
    {
     "name": "stdout",
     "output_type": "stream",
     "text": [
      "t2 foo1 hi 4475663600\n",
      "t2 bar1 hibye 4538288752\n",
      "foo1 == bar1: False\n"
     ]
    }
   ],
   "source": [
    "bar1 += ('bye')\n",
    "compare_objects(2, 'foo1', 'bar1')"
   ]
  },
  {
   "cell_type": "markdown",
   "id": "b0391265-049e-4377-b0c2-79422a887341",
   "metadata": {
    "tags": []
   },
   "source": [
    "## Comparing floats"
   ]
  },
  {
   "cell_type": "markdown",
   "id": "a3a2bf02-4505-461a-82a7-87bd390aa391",
   "metadata": {},
   "source": [
    "Let's do an experiment:"
   ]
  },
  {
   "cell_type": "code",
   "execution_count": 37,
   "id": "5edbcf86-8bb1-4e29-b512-290b011d02ea",
   "metadata": {
    "tags": []
   },
   "outputs": [],
   "source": [
    "f1 = 0.1 + 0.2\n",
    "f2 = 0.3"
   ]
  },
  {
   "cell_type": "code",
   "execution_count": 38,
   "id": "a6a60a74-89cc-4608-8a4d-920da6f7b4b9",
   "metadata": {
    "tags": []
   },
   "outputs": [
    {
     "data": {
      "text/plain": [
       "False"
      ]
     },
     "execution_count": 38,
     "metadata": {},
     "output_type": "execute_result"
    }
   ],
   "source": [
    "f1 == f2"
   ]
  },
  {
   "cell_type": "markdown",
   "id": "17051bbd-319d-41a0-a58d-3578e343ea0a",
   "metadata": {},
   "source": [
    "In the above case, `f1` and `f2` don't hold precisely the same value because of the limitations of representing base-10 fractions in base-2 (binary).\n",
    "\n",
    "Inspecting their values, we find minor differences in the lower significant digits:"
   ]
  },
  {
   "cell_type": "code",
   "execution_count": 39,
   "id": "76436526-1ee6-4a81-91bc-35efbd8e83cf",
   "metadata": {
    "tags": []
   },
   "outputs": [
    {
     "data": {
      "text/plain": [
       "(0.30000000000000004, 0.3)"
      ]
     },
     "execution_count": 39,
     "metadata": {},
     "output_type": "execute_result"
    }
   ],
   "source": [
    "f1, f2"
   ]
  },
  {
   "cell_type": "markdown",
   "id": "303a5f7b-1339-4cd2-a193-0a977870d6b1",
   "metadata": {},
   "source": [
    "To get around this problem, try using `math.isclose()` instead of `==`:"
   ]
  },
  {
   "cell_type": "code",
   "execution_count": 40,
   "id": "26984d57-21d5-446f-98cc-b18102fa08d5",
   "metadata": {
    "tags": []
   },
   "outputs": [
    {
     "data": {
      "text/plain": [
       "True"
      ]
     },
     "execution_count": 40,
     "metadata": {},
     "output_type": "execute_result"
    }
   ],
   "source": [
    "import math\n",
    "math.isclose(f1, f2)"
   ]
  },
  {
   "cell_type": "markdown",
   "id": "a99595dd-0232-4ca8-8ece-25bc218da0ba",
   "metadata": {},
   "source": [
    "Note that sometimes floating point comparisons _do_ work:"
   ]
  },
  {
   "cell_type": "code",
   "execution_count": 41,
   "id": "71f2b242-5f26-4b5a-9440-f3cb932bae00",
   "metadata": {
    "tags": []
   },
   "outputs": [],
   "source": [
    "f3 = 4.0\n",
    "f4 = 3.5 + .5"
   ]
  },
  {
   "cell_type": "code",
   "execution_count": 42,
   "id": "b2ecd85b-011e-48be-b0fc-1db23a309aa9",
   "metadata": {
    "tags": []
   },
   "outputs": [
    {
     "data": {
      "text/plain": [
       "True"
      ]
     },
     "execution_count": 42,
     "metadata": {},
     "output_type": "execute_result"
    }
   ],
   "source": [
    "f3 == f4"
   ]
  },
  {
   "cell_type": "markdown",
   "id": "4a0d10c7-1704-4bc4-b93a-d3a57b1afb94",
   "metadata": {},
   "source": [
    "See the [Wikipedia](https://en.wikipedia.org/wiki/Floating-point_arithmetic#:~:text=In%20computing%2C%20floating%2Dpoint%20arithmetic,are%20called%20floating%2Dpoint%20numbers.) article on floating point arithmetic to learn more about how this arises. \n",
    "\n",
    "It will provide you with insight into how computers actually work as machines that process numbers."
   ]
  },
  {
   "cell_type": "markdown",
   "id": "bf9310f3-a161-4dc1-b556-d3f3856ce006",
   "metadata": {},
   "source": [
    "## The word \"scalar\"\n",
    "\n",
    "Sometimes you will see the word \"scalar\" in the literature to refer to certain kinds of values.\n",
    "\n",
    "Scalars are **single values** as opposed to structures or collections of values. \n",
    "\n",
    "> Strings as data types sometimes behave as scalars and sometimes as sequential structures."
   ]
  },
  {
   "cell_type": "markdown",
   "id": "3cc9e0d4-b359-4585-be73-d0dab9ccfd13",
   "metadata": {},
   "source": [
    "# Summary"
   ]
  },
  {
   "cell_type": "markdown",
   "id": "06561b4c-15ef-4c53-9de2-07cd44e3b222",
   "metadata": {},
   "source": [
    "**Types**\n",
    "| name | type | literal |\n",
    "|------|------|---------|\n",
    "| `int` | integer | `1` |\n",
    "| `str` | string | `\"1\"`, `'1'` |\n",
    "| `float` | floating point (real) | `1.` |\n",
    "| `complex` | complex | `1j` (imaginary component) |\n",
    "| `bool` | boolean | `True` |"
   ]
  },
  {
   "cell_type": "markdown",
   "id": "1a4a7690-2f60-46e6-8437-6bc1c9729889",
   "metadata": {},
   "source": [
    "**Structures**\n",
    "| name | mutable | constructor |\n",
    "|------|---------|-------------|\n",
    "| `tuple` | no | `()`, `tuple()` |\n",
    "| `list` | yes | `[]`, `list()` |\n",
    "| `dict` | yes | `{}` with key/value pairs, `dict()`  |\n",
    "| `set` | yes | `{}` with single values, `set()` |"
   ]
  }
 ],
 "metadata": {
  "kernelspec": {
   "display_name": "Python 3 (ipykernel)",
   "language": "python",
   "name": "python3"
  },
  "language_info": {
   "codemirror_mode": {
    "name": "ipython",
    "version": 3
   },
   "file_extension": ".py",
   "mimetype": "text/x-python",
   "name": "python",
   "nbconvert_exporter": "python",
   "pygments_lexer": "ipython3",
   "version": "3.11.3"
  }
 },
 "nbformat": 4,
 "nbformat_minor": 5
}
