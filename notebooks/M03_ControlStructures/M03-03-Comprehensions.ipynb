{
 "cells": [
  {
   "cell_type": "markdown",
   "metadata": {},
   "source": [
    "# NB: Comprehensions\n",
    "\n",
    "**Purpose**\n",
    "- Explain the benefit of list comprehensions\n",
    "- Illustrate the use of list comprehensions\n",
    "- Explain the benefit of dict comprehensions\n",
    "- Illustrate the use of dict comprehensions\n",
    "\n",
    "**Concepts**\n",
    "- list comprehension\n",
    "- dict comprehension\n",
    "- iterators"
   ]
  },
  {
   "cell_type": "markdown",
   "metadata": {},
   "source": [
    "# List Comprehensions\n",
    "\n",
    "Consider this task: check if each integer in a list is odd.  \n",
    "\n",
    "Without list comprehensions, you might do this:\n",
    "\n",
    "## Check if Odd"
   ]
  },
  {
   "cell_type": "code",
   "execution_count": 1,
   "metadata": {},
   "outputs": [
    {
     "data": {
      "text/plain": [
       "[True, True, False, False, False, True]"
      ]
     },
     "execution_count": 1,
     "metadata": {},
     "output_type": "execute_result"
    }
   ],
   "source": [
    "vals = [1,5,6,8,12,15]\n",
    "is_odd = []\n",
    "\n",
    "for val in vals:   \n",
    "    if val % 2: # if remainder is one, val is odd\n",
    "        is_odd.append(True)\n",
    "    else:       # else it's not odd\n",
    "        is_odd.append(False)\n",
    "\n",
    "is_odd"
   ]
  },
  {
   "cell_type": "markdown",
   "metadata": {},
   "source": [
    "The code loops over each value in the list, checks the condition, and appends to a new list.  \n",
    "\n",
    "The code works, but it's lengthy compared to a list comprehension.  \n",
    "\n",
    "The approach takes extra time to write and understand.  \n",
    "\n",
    "Let's solve with a list comprehension:"
   ]
  },
  {
   "cell_type": "code",
   "execution_count": 2,
   "metadata": {},
   "outputs": [
    {
     "data": {
      "text/plain": [
       "[True, True, False, False, False, True]"
      ]
     },
     "execution_count": 2,
     "metadata": {},
     "output_type": "execute_result"
    }
   ],
   "source": [
    "is_odd = [val % 2 == 1 for val in vals]\n",
    "is_odd"
   ]
  },
  {
   "cell_type": "markdown",
   "metadata": {},
   "source": [
    "Much shorter, and if you understand the syntax, quicker to interpet.\n",
    "\n",
    "Note the in-place use of an expression.\n",
    "\n",
    "Now let's discuss the syntax."
   ]
  },
  {
   "cell_type": "markdown",
   "metadata": {},
   "source": [
    "# Comprehensions in General\n",
    "\n",
    "Comprehensions provide a concise method for iterating over any list-like object to a new list like object.\n",
    "\n",
    "There are comprehensions for each list-like object:\n",
    "* List comprehensions\n",
    "* Dictionary comprehensions\n",
    "* Tuple comprehensions\n",
    "* Set comprehensions\n",
    "\n",
    "Comprehensions are essentially very concise `for` loops. They are compact visually, but they also are more efficient than loops.\n",
    "\n",
    "All comprehensions have the form:\n",
    "\n",
    "listlike_result = `[ expression + context]` \n",
    "\n",
    "The type of comprehension is indicated by the use of enclosing pairs, just like anonymous constructors:\n",
    "\n",
    "* List comprehensions       `[expression + context]`\n",
    "* Dictionary comprehensions `{expression + context}`\n",
    "* Tuple comprehensions      `(expression + context)`\n",
    "* Set comprehensions        `{expression + context}`\n",
    "\n",
    "\n",
    "**Expression** defines what to do with each element in the list. This has the structure of the kind of comprehension. So, dictionary comprehension expressions take the form `k:v` while sets use `v`.\n",
    "\n",
    "**Context** defines which list elements to select.  The context always consists of an arbitrary number of `for` and `if` statements.\n",
    "\n"
   ]
  },
  {
   "cell_type": "markdown",
   "metadata": {},
   "source": [
    "# More examples\n",
    "\n",
    "## Stop Word Remover\n",
    "\n",
    "Create list of words, and list of stop words.  \n",
    "Filter out the stop words (considered not important)."
   ]
  },
  {
   "cell_type": "code",
   "execution_count": 3,
   "metadata": {},
   "outputs": [
    {
     "data": {
      "text/plain": [
       "['not', 'fan', 'film']"
      ]
     },
     "execution_count": 3,
     "metadata": {},
     "output_type": "execute_result"
    }
   ],
   "source": [
    "stop_words = ['a','am','an','i','the','of']\n",
    "words      = ['i','am','not','a','fan','of','the','film']\n",
    "\n",
    "clean_words = [wd for wd in words if wd not in stop_words]\n",
    "clean_words"
   ]
  },
  {
   "cell_type": "markdown",
   "metadata": {},
   "source": [
    "placing the color-coding on the list comprehension:\n",
    "\n",
    "[<span style=\"color:blue\"> wd </span> <span style=\"color:red\"> for wd in words </span> if wd not in stop_words]\n",
    "\n",
    "- the expression is very simple: **wd**. keep the word if meets condition\n",
    "- the condition does the work: if the word isn't in list of stop words, keep it"
   ]
  },
  {
   "cell_type": "markdown",
   "metadata": {},
   "source": [
    "**Side note**: This task can also be done with sets, if you are not concerned with mulitple instances of the same word:"
   ]
  },
  {
   "cell_type": "code",
   "execution_count": 4,
   "metadata": {},
   "outputs": [],
   "source": [
    "s1 = set(stop_words)\n",
    "s2 = set(words)\n",
    "s3 = s2 - s1"
   ]
  },
  {
   "cell_type": "code",
   "execution_count": 5,
   "metadata": {},
   "outputs": [
    {
     "data": {
      "text/plain": [
       "{'fan', 'film', 'not'}"
      ]
     },
     "execution_count": 5,
     "metadata": {},
     "output_type": "execute_result"
    }
   ],
   "source": [
    "s3"
   ]
  },
  {
   "cell_type": "markdown",
   "metadata": {},
   "source": [
    "## Select Tokens Containing Units\n",
    "\n",
    "Given a list of measurements, retain elements containing mmHg (millimeters of mercury)"
   ]
  },
  {
   "cell_type": "code",
   "execution_count": 6,
   "metadata": {},
   "outputs": [],
   "source": [
    "units = 'mmHg'\n",
    "measures = ['20', '115mmHg', '5mg', '10 mg', '7.5dl', '120 mmHg']\n",
    "meas_mmhg = [meas for meas in measures if units in meas]"
   ]
  },
  {
   "cell_type": "code",
   "execution_count": 7,
   "metadata": {},
   "outputs": [
    {
     "data": {
      "text/plain": [
       "['115mmHg', '120 mmHg']"
      ]
     },
     "execution_count": 7,
     "metadata": {},
     "output_type": "execute_result"
    }
   ],
   "source": [
    "meas_mmhg   "
   ]
  },
  {
   "cell_type": "markdown",
   "metadata": {},
   "source": [
    "*Filtering on two conditions*"
   ]
  },
  {
   "cell_type": "code",
   "execution_count": 8,
   "metadata": {},
   "outputs": [],
   "source": [
    "units1 = 'mmHg'\n",
    "units2 = 'dl'\n",
    "meas_mmhg_dl = [meas for meas in measures if units1 in meas or units2 in meas]"
   ]
  },
  {
   "cell_type": "code",
   "execution_count": 9,
   "metadata": {},
   "outputs": [
    {
     "data": {
      "text/plain": [
       "['115mmHg', '7.5dl', '120 mmHg']"
      ]
     },
     "execution_count": 9,
     "metadata": {},
     "output_type": "execute_result"
    }
   ],
   "source": [
    "meas_mmhg_dl"
   ]
  },
  {
   "cell_type": "markdown",
   "metadata": {},
   "source": [
    "This can be written differently for clarity:"
   ]
  },
  {
   "cell_type": "code",
   "execution_count": 10,
   "metadata": {},
   "outputs": [
    {
     "data": {
      "text/plain": [
       "['115mmHg', '7.5dl', '120 mmHg']"
      ]
     },
     "execution_count": 10,
     "metadata": {},
     "output_type": "execute_result"
    }
   ],
   "source": [
    "[meas \n",
    " for meas in measures \n",
    " if units1 in meas \n",
    " or units2 in meas]"
   ]
  },
  {
   "cell_type": "markdown",
   "metadata": {},
   "source": [
    "# Dictionary Comprehensions\n",
    "\n",
    "**Dictionary comprehensions** provide a concise method for iterating over a dictionary to create a new dictionary.\n",
    "\n",
    "This is common when data is structured as key-value pairs, and we'd like to filter the dict."
   ]
  },
  {
   "cell_type": "code",
   "execution_count": 11,
   "metadata": {},
   "outputs": [],
   "source": [
    "# various deep learning models and their depths\n",
    "\n",
    "model_arch = {'cnn_1':'15 layers', 'cnn_2':'20 layers', 'rnn': '10 layers'}"
   ]
  },
  {
   "cell_type": "code",
   "execution_count": 12,
   "metadata": {},
   "outputs": [
    {
     "data": {
      "text/plain": [
       "{'cnn_1': '15 layers', 'cnn_2': '20 layers'}"
      ]
     },
     "execution_count": 12,
     "metadata": {},
     "output_type": "execute_result"
    }
   ],
   "source": [
    "# create a new dict containing only key-value pairs where the key contains 'cnn'\n",
    "\n",
    "cnns = {key:model_arch[key] for key in model_arch.keys() if 'cnn' in key}\n",
    "cnns"
   ]
  },
  {
   "cell_type": "markdown",
   "metadata": {},
   "source": [
    "We build the key-value pairs using `key:model_arch[key]`, where the key indexes into the dict `model_arch`"
   ]
  }
 ],
 "metadata": {
  "anaconda-cloud": {},
  "kernelspec": {
   "display_name": "Python 3 (ipykernel)",
   "language": "python",
   "name": "python3"
  },
  "language_info": {
   "codemirror_mode": {
    "name": "ipython",
    "version": 3
   },
   "file_extension": ".py",
   "mimetype": "text/x-python",
   "name": "python",
   "nbconvert_exporter": "python",
   "pygments_lexer": "ipython3",
   "version": "3.11.3"
  },
  "widgets": {
   "application/vnd.jupyter.widget-state+json": {
    "state": {},
    "version_major": 2,
    "version_minor": 0
   }
  }
 },
 "nbformat": 4,
 "nbformat_minor": 4
}
