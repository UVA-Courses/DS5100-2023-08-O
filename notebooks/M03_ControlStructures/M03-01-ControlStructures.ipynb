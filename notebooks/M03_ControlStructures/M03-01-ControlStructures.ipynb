{
 "cells": [
  {
   "cell_type": "markdown",
   "metadata": {},
   "source": [
    "# NB: Control Structures\n",
    "\n",
    "**Topics**:\n",
    "\n",
    "- conditional statements\n",
    "- if, else, elif\n",
    "- for-loop\n",
    "- while-loop\n",
    "- break\n",
    "- continue\n",
    "- iteration\n",
    "\n",
    "## Introducing Control Structures\n",
    "\n",
    "Python includes structures to control the flow of a program:\n",
    "\n",
    "- `conditions` (if, else)\n",
    "- `loops`\n",
    "  - `while-loop`    \n",
    "  Execute statements while a condition is true\n",
    "  - `for-loop`    \n",
    "  Iterates over a iterable object (list, tuple, dict, set, string)\n",
    "  \n",
    "\n",
    "## Indentation\n",
    "\n",
    "This is where Python differs from most languages. To define control structures, \\\n",
    "and functional blocks of code in general, most languages use either characters \\\n",
    "like braces `{` and `}` or key words like `IF ... END IF`.\n",
    "\n",
    "Python uses tabs &mdash; spaces, actually &mdash; to signify logical blocks off code.\n",
    "\n",
    "It is therefore imperative to understand and get a feel for indentation. \n",
    "\n",
    "For more information, see [Lutz 2019, \"A Tale of Two Ifs.\"](https://learning.oreilly.com/library/view/learning-python-5th/9781449355722/ch10s03.html)\n",
    "\n",
    "## Conditions\n",
    "\n",
    "### `if` and `else` can be used for conditional processing."
   ]
  },
  {
   "cell_type": "code",
   "execution_count": 14,
   "metadata": {},
   "outputs": [
    {
     "name": "stdout",
     "output_type": "stream",
     "text": [
      "2\n"
     ]
    }
   ],
   "source": [
    "val = -2\n",
    "\n",
    "if val >= 0:\n",
    "    print(val)\n",
    "else:\n",
    "    print(-val)"
   ]
  },
  {
   "cell_type": "markdown",
   "metadata": {},
   "source": [
    "### `elif`\n",
    "\n",
    "`elif` is reached when the previous statements are not.\n",
    "\n",
    "Note that these are disjoint &mdash; if one succeeds, those \\\n",
    "that follow are not processed.\n",
    "\n",
    "This is unlike a series of `if` statements."
   ]
  },
  {
   "cell_type": "code",
   "execution_count": 15,
   "metadata": {},
   "outputs": [
    {
     "name": "stdout",
     "output_type": "stream",
     "text": [
      "bucket 3\n"
     ]
    }
   ],
   "source": [
    "val = -2\n",
    "\n",
    "if -10 < val < -5:\n",
    "    print('bucket 1')\n",
    "elif -5 <= val < -2:\n",
    "    print('bucket 2')\n",
    "elif val == -2:\n",
    "    print('bucket 3')"
   ]
  },
  {
   "cell_type": "markdown",
   "metadata": {},
   "source": [
    "### `else`\n",
    "\n",
    "`else` can be used as a catchall"
   ]
  },
  {
   "cell_type": "code",
   "execution_count": 16,
   "metadata": {},
   "outputs": [
    {
     "name": "stdout",
     "output_type": "stream",
     "text": [
      "bucket 4\n"
     ]
    }
   ],
   "source": [
    "val = 5\n",
    "\n",
    "if -10 < val < -5:\n",
    "    print('bucket 1')\n",
    "elif -5 <= val < -2:\n",
    "    print('bucket 2')\n",
    "elif val == -2:\n",
    "    print('bucket 3')\n",
    "else:\n",
    "    print('bucket 4')"
   ]
  },
  {
   "cell_type": "markdown",
   "metadata": {},
   "source": [
    "### `if` and `else` as one-liners"
   ]
  },
  {
   "cell_type": "code",
   "execution_count": 17,
   "metadata": {},
   "outputs": [
    {
     "name": "stdout",
     "output_type": "stream",
     "text": [
      "odd\n"
     ]
    }
   ],
   "source": [
    "x = 3\n",
    "print('odd') if x % 2 == 1 else print('even')"
   ]
  },
  {
   "cell_type": "markdown",
   "metadata": {},
   "source": [
    "Notice `==` for checking the condition  `x % 2 == 1`.\n",
    "\n",
    "both `if` and `else` are required. This breaks:"
   ]
  },
  {
   "cell_type": "code",
   "execution_count": 5,
   "metadata": {},
   "outputs": [
    {
     "ename": "SyntaxError",
     "evalue": "invalid syntax (471325368.py, line 1)",
     "output_type": "error",
     "traceback": [
      "\u001b[0;36m  Cell \u001b[0;32mIn[5], line 1\u001b[0;36m\u001b[0m\n\u001b[0;31m    print('odd') if x % 2 == 1\u001b[0m\n\u001b[0m                              ^\u001b[0m\n\u001b[0;31mSyntaxError\u001b[0m\u001b[0;31m:\u001b[0m invalid syntax\n"
     ]
    }
   ],
   "source": [
    "print('odd') if x % 2 == 1"
   ]
  },
  {
   "cell_type": "markdown",
   "metadata": {},
   "source": [
    "### Using multiple conditions\n",
    "\n",
    "If statements can be complex combinations of expressions. \n",
    "\n",
    "Use parentheses carefully, to keep order of operations correct."
   ]
  },
  {
   "cell_type": "markdown",
   "metadata": {},
   "source": [
    "**Correct:**"
   ]
  },
  {
   "cell_type": "code",
   "execution_count": 18,
   "metadata": {},
   "outputs": [
    {
     "name": "stdout",
     "output_type": "stream",
     "text": [
      "bucket 2\n"
     ]
    }
   ],
   "source": [
    "val = 2\n",
    "\n",
    "if (-2 < val < 2) or (val > 10):\n",
    "    print('bucket 1')\n",
    "else:\n",
    "    print('bucket 2')"
   ]
  },
  {
   "cell_type": "markdown",
   "metadata": {},
   "source": [
    "**Incorrect:**"
   ]
  },
  {
   "cell_type": "code",
   "execution_count": 19,
   "metadata": {},
   "outputs": [
    {
     "name": "stdout",
     "output_type": "stream",
     "text": [
      "bucket 1\n"
     ]
    }
   ],
   "source": [
    "if (-2 < val) < 2 or val > 10:\n",
    "    print('bucket 1')\n",
    "else:\n",
    "    print('bucket 2')"
   ]
  },
  {
   "cell_type": "markdown",
   "metadata": {
    "jp-MarkdownHeadingCollapsed": true,
    "tags": []
   },
   "source": [
    "The problem is the misplaced parenthesis.\n",
    "\n",
    "This is because the condition line is interpreted as`True < 2`,\\\n",
    "where `True` is cast to integer value $1$."
   ]
  },
  {
   "cell_type": "markdown",
   "metadata": {
    "tags": []
   },
   "source": [
    "## Loops"
   ]
  },
  {
   "cell_type": "markdown",
   "metadata": {
    "tags": []
   },
   "source": [
    "### `while`\n",
    "\n",
    "What does this print?"
   ]
  },
  {
   "cell_type": "code",
   "execution_count": 8,
   "metadata": {},
   "outputs": [
    {
     "name": "stdout",
     "output_type": "stream",
     "text": [
      "16\n"
     ]
    }
   ],
   "source": [
    "ix = 1\n",
    "while ix < 10:\n",
    "    ix = ix * 2\n",
    "print(ix)"
   ]
  },
  {
   "cell_type": "markdown",
   "metadata": {},
   "source": [
    "### `break` to exit the loop altogether\n",
    "\n",
    "sometimes you want to quit the loop early, if some condition is met.  \n",
    "uses `if-statement`"
   ]
  },
  {
   "cell_type": "code",
   "execution_count": 9,
   "metadata": {},
   "outputs": [
    {
     "name": "stdout",
     "output_type": "stream",
     "text": [
      "4\n"
     ]
    }
   ],
   "source": [
    "ix = 1\n",
    "while ix < 10:\n",
    "    ix = ix * 2\n",
    "    if ix == 4:\n",
    "        break\n",
    "print(ix)"
   ]
  },
  {
   "cell_type": "markdown",
   "metadata": {},
   "source": [
    "The `break` causes the loop to end early\n",
    "\n",
    "### `continue` to stop the current iteration\n",
    "\n",
    "sometimes you want to introduce skipping behavior in the loop.  \n",
    "uses `if-statement`"
   ]
  },
  {
   "cell_type": "code",
   "execution_count": 10,
   "metadata": {},
   "outputs": [
    {
     "name": "stdout",
     "output_type": "stream",
     "text": [
      "2\n",
      "skipping 4...\n",
      "8\n",
      "16\n"
     ]
    }
   ],
   "source": [
    "ix = 1\n",
    "while ix < 10:\n",
    "    ix = ix * 2\n",
    "    if ix == 4:\n",
    "        print('skipping 4...')\n",
    "        continue\n",
    "    print(ix)"
   ]
  },
  {
   "cell_type": "markdown",
   "metadata": {},
   "source": [
    "The `continue` causes the loop to skip printing 4\n",
    "\n",
    "### `for`   \n",
    "\n",
    "iterate over an iterable"
   ]
  },
  {
   "cell_type": "code",
   "execution_count": 20,
   "metadata": {},
   "outputs": [
    {
     "name": "stdout",
     "output_type": "stream",
     "text": [
      "charlottesville\n",
      "new york\n",
      "sf\n",
      "bos\n",
      "la\n"
     ]
    }
   ],
   "source": [
    "cities = ['Charlottesville','New York','SF','BOS','LA']\n",
    "\n",
    "for city in cities:\n",
    "    city = city.lower()\n",
    "    print(city)"
   ]
  },
  {
   "cell_type": "markdown",
   "metadata": {},
   "source": [
    "quit early if `SF` reached, using **break**"
   ]
  },
  {
   "cell_type": "code",
   "execution_count": 21,
   "metadata": {},
   "outputs": [
    {
     "name": "stdout",
     "output_type": "stream",
     "text": [
      "charlottesville\n",
      "new york\n"
     ]
    }
   ],
   "source": [
    "cities = ['Charlottesville','New York','SF','BOS','LA']\n",
    "\n",
    "for city in cities:\n",
    "    if city == 'SF':\n",
    "        break\n",
    "    city = city.lower()\n",
    "    print(city)"
   ]
  },
  {
   "cell_type": "markdown",
   "metadata": {},
   "source": [
    "skip over `SF` if reached, using **continue**"
   ]
  },
  {
   "cell_type": "code",
   "execution_count": 22,
   "metadata": {},
   "outputs": [
    {
     "name": "stdout",
     "output_type": "stream",
     "text": [
      "charlottesville\n",
      "new york\n",
      "bos\n",
      "la\n"
     ]
    }
   ],
   "source": [
    "cities = ['Charlottesville','New York','SF','BOS','LA']\n",
    "\n",
    "for city in cities:\n",
    "    if city == 'SF':\n",
    "        continue\n",
    "    city = city.lower()\n",
    "    print(city)"
   ]
  },
  {
   "cell_type": "markdown",
   "metadata": {
    "tags": []
   },
   "source": [
    "## `while` vs `for`\n",
    "\n",
    "For loops are used to loop through a list of values or an operation in which the number of iterations is **known** in advance.\n",
    "\n",
    "While loops are when **you don't know** how many interations it will take &mdash; you are depending on some condition to be met.\n",
    "\n",
    "It is possible for while loops to be unending, for example:\n",
    "\n",
    "```python\n",
    "while 1:\n",
    "    print(\"This is so annoying\")\n",
    "```\n"
   ]
  },
  {
   "cell_type": "code",
   "execution_count": null,
   "metadata": {},
   "outputs": [],
   "source": []
  }
 ],
 "metadata": {
  "kernelspec": {
   "display_name": "Python 3 (ipykernel)",
   "language": "python",
   "name": "python3"
  },
  "language_info": {
   "codemirror_mode": {
    "name": "ipython",
    "version": 3
   },
   "file_extension": ".py",
   "mimetype": "text/x-python",
   "name": "python",
   "nbconvert_exporter": "python",
   "pygments_lexer": "ipython3",
   "version": "3.11.3"
  },
  "widgets": {
   "application/vnd.jupyter.widget-state+json": {
    "state": {},
    "version_major": 2,
    "version_minor": 0
   }
  }
 },
 "nbformat": 4,
 "nbformat_minor": 4
}
