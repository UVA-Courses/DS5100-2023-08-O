{
 "cells": [
  {
   "cell_type": "markdown",
   "metadata": {},
   "source": [
    "# NB: Iterables and Iterators\n",
    "\n",
    "**Purpose**\n",
    "- Define iterables and iterators\n",
    "- Using two methods, show how iterators can be used to return data from sets, lists, strings, tuples, dicts:\n",
    "  - `for` loops    \n",
    "  - `iter()` and `next()`\n",
    "\n",
    "**Specific Topics**\n",
    "- iterable objects or iterables\n",
    "- iterators\n",
    "- iteration\n",
    "- sequence\n",
    "- collection"
   ]
  },
  {
   "cell_type": "markdown",
   "metadata": {},
   "source": [
    "# Defining Iterables and Iterators\n",
    "\n",
    "**Iterable objects** or **iterables** can return elements one at a time.\n",
    "\n",
    "An **iterator** is an object that iterates over iterable objects such as sets, lists, tuples, dictionaries, and strings.  \n",
    "\n",
    "**Iteration** can be implemented: \n",
    "- with `for` loops \n",
    "- with the `next()` method\n",
    "\n",
    "Next, we show examples for various iterables."
   ]
  },
  {
   "cell_type": "markdown",
   "metadata": {},
   "source": [
    "# Lists"
   ]
  },
  {
   "cell_type": "markdown",
   "metadata": {},
   "source": [
    "## iterating using `for`"
   ]
  },
  {
   "cell_type": "code",
   "execution_count": 1,
   "metadata": {},
   "outputs": [
    {
     "name": "stdout",
     "output_type": "stream",
     "text": [
      "living room\n",
      "was\n",
      "quite\n",
      "large\n"
     ]
    }
   ],
   "source": [
    "tokens = ['living room', 'was', 'quite', 'large']\n",
    "\n",
    "for tok in tokens:\n",
    "    print(tok)"
   ]
  },
  {
   "cell_type": "markdown",
   "metadata": {},
   "source": [
    "## iterating using `iter()` and `next()`\n",
    "\n",
    "`iter()` gets an iterator. \n",
    "Pops out a value each time it's used."
   ]
  },
  {
   "cell_type": "markdown",
   "metadata": {},
   "source": [
    "`next()` gets the next item from the iterator "
   ]
  },
  {
   "cell_type": "code",
   "execution_count": 1,
   "metadata": {},
   "outputs": [
    {
     "name": "stdout",
     "output_type": "stream",
     "text": [
      "living room\n",
      "was\n",
      "quite\n",
      "large\n"
     ]
    }
   ],
   "source": [
    "tokens = ['living room','was','quite','large']\n",
    "myit = iter(tokens)\n",
    "print(next(myit)) \n",
    "print(next(myit)) \n",
    "print(next(myit)) \n",
    "print(next(myit)) "
   ]
  },
  {
   "cell_type": "markdown",
   "metadata": {},
   "source": [
    "Calling `next()` when the iterator has reached the end of the list produces an exception:"
   ]
  },
  {
   "cell_type": "code",
   "execution_count": 2,
   "metadata": {},
   "outputs": [
    {
     "ename": "StopIteration",
     "evalue": "",
     "output_type": "error",
     "traceback": [
      "\u001b[0;31m---------------------------------------------------------------------------\u001b[0m",
      "\u001b[0;31mStopIteration\u001b[0m                             Traceback (most recent call last)",
      "Cell \u001b[0;32mIn[2], line 1\u001b[0m\n\u001b[0;32m----> 1\u001b[0m \u001b[38;5;28mprint\u001b[39m(\u001b[38;5;28;43mnext\u001b[39;49m\u001b[43m(\u001b[49m\u001b[43mmyit\u001b[49m\u001b[43m)\u001b[49m)\n",
      "\u001b[0;31mStopIteration\u001b[0m: "
     ]
    }
   ],
   "source": [
    "print(next(myit))"
   ]
  },
  {
   "cell_type": "markdown",
   "metadata": {},
   "source": [
    "Next, look at the type of the iterator, and the documentation"
   ]
  },
  {
   "cell_type": "code",
   "execution_count": 3,
   "metadata": {},
   "outputs": [
    {
     "data": {
      "text/plain": [
       "list_iterator"
      ]
     },
     "execution_count": 3,
     "metadata": {},
     "output_type": "execute_result"
    }
   ],
   "source": [
    "type(myit)"
   ]
  },
  {
   "cell_type": "code",
   "execution_count": 1,
   "metadata": {
    "scrolled": true
   },
   "outputs": [],
   "source": [
    "# help(myit)"
   ]
  },
  {
   "cell_type": "code",
   "execution_count": 5,
   "metadata": {},
   "outputs": [
    {
     "name": "stdout",
     "output_type": "stream",
     "text": [
      "Help on built-in function next in module builtins:\n",
      "\n",
      "next(...)\n",
      "    next(iterator[, default])\n",
      "    \n",
      "    Return the next item from the iterator. If default is given and the iterator\n",
      "    is exhausted, it is returned instead of raising StopIteration.\n",
      "\n"
     ]
    }
   ],
   "source": [
    "help(next)"
   ]
  },
  {
   "cell_type": "markdown",
   "metadata": {},
   "source": [
    "Note that `for` implicitly creates an iterator and executes `next()` on each loop iteration. This is best way to iterate through a list-like object."
   ]
  },
  {
   "cell_type": "markdown",
   "metadata": {},
   "source": [
    "# Sequences and Collections\n",
    "\n",
    "We iterated over a list. Next we will illustrate for other iterables: `str`, `tuple`, `set`, `dict`\n",
    "\n",
    "lists, tuples, and strings are **sequences**. Sequences are designed so that elements come out of them in the same order they were put in.\n",
    "\n",
    "Sets and dictionaries are not sequences, since they don't keep elements in order. They are called **collections**.  The ordering of the items is arbitrary.\n",
    "\n",
    "NOTE: This has changed for dictionaries in Python 3.7:\n",
    "> the insertion-order preservation nature of dict objects has been declared to be an official part of the Python language spec.\\\n",
    "-- [What's New in Python 3.7](https://docs.python.org/3.7/whatsnew/3.7.html)"
   ]
  },
  {
   "cell_type": "markdown",
   "metadata": {
    "tags": []
   },
   "source": [
    "# Sets"
   ]
  },
  {
   "cell_type": "markdown",
   "metadata": {},
   "source": [
    "**iterating using `for`**"
   ]
  },
  {
   "cell_type": "code",
   "execution_count": 6,
   "metadata": {},
   "outputs": [
    {
     "name": "stdout",
     "output_type": "stream",
     "text": [
      "cinderella\n",
      "belle\n",
      "rapunzel\n"
     ]
    }
   ],
   "source": [
    "princesses = {'belle','cinderella','rapunzel'}\n",
    "\n",
    "for princess in princesses:\n",
    "    print(princess)"
   ]
  },
  {
   "cell_type": "markdown",
   "metadata": {},
   "source": [
    "**iterating using `iter()` and `next()`**"
   ]
  },
  {
   "cell_type": "code",
   "execution_count": 1,
   "metadata": {
    "tags": []
   },
   "outputs": [
    {
     "name": "stdout",
     "output_type": "stream",
     "text": [
      "belle\n",
      "rapunzel\n",
      "cinderella\n"
     ]
    }
   ],
   "source": [
    "princesses = {'belle','cinderella','rapunzel'}\n",
    "\n",
    "myset = iter(princesses)\n",
    "print(next(myset))\n",
    "print(next(myset))\n",
    "print(next(myset))"
   ]
  },
  {
   "cell_type": "markdown",
   "metadata": {},
   "source": [
    "# Strings"
   ]
  },
  {
   "cell_type": "markdown",
   "metadata": {},
   "source": [
    "**iterating using `for`**"
   ]
  },
  {
   "cell_type": "code",
   "execution_count": 2,
   "metadata": {
    "tags": []
   },
   "outputs": [
    {
     "name": "stdout",
     "output_type": "stream",
     "text": [
      "d\n",
      "a\n",
      "t\n",
      "a\n"
     ]
    }
   ],
   "source": [
    "strn = 'data'\n",
    "\n",
    "for s in strn:\n",
    "    print(s)"
   ]
  },
  {
   "cell_type": "markdown",
   "metadata": {},
   "source": [
    "**iterating using `iter()` and `next()`**"
   ]
  },
  {
   "cell_type": "code",
   "execution_count": 8,
   "metadata": {
    "tags": []
   },
   "outputs": [
    {
     "name": "stdout",
     "output_type": "stream",
     "text": [
      "d\n",
      "a\n",
      "t\n",
      "a\n"
     ]
    }
   ],
   "source": [
    "st = iter(strn)\n",
    "\n",
    "print(next(st))\n",
    "print(next(st))\n",
    "print(next(st))\n",
    "print(next(st))"
   ]
  },
  {
   "cell_type": "markdown",
   "metadata": {},
   "source": [
    "# Tuples"
   ]
  },
  {
   "cell_type": "markdown",
   "metadata": {},
   "source": [
    "**iterating using `for`**"
   ]
  },
  {
   "cell_type": "code",
   "execution_count": 10,
   "metadata": {},
   "outputs": [
    {
     "name": "stdout",
     "output_type": "stream",
     "text": [
      "auc\n",
      "recall\n",
      "precision\n",
      "support\n"
     ]
    }
   ],
   "source": [
    "metrics = ('auc','recall','precision','support')\n",
    "\n",
    "for met in metrics:\n",
    "    print(met)"
   ]
  },
  {
   "cell_type": "markdown",
   "metadata": {},
   "source": [
    "**iterating using `iter()` and `next()`**"
   ]
  },
  {
   "cell_type": "code",
   "execution_count": 11,
   "metadata": {},
   "outputs": [
    {
     "name": "stdout",
     "output_type": "stream",
     "text": [
      "auc\n",
      "recall\n",
      "precision\n",
      "support\n"
     ]
    }
   ],
   "source": [
    "metrics = ('auc','recall','precision','support')\n",
    "\n",
    "tup_metrics = iter(metrics)\n",
    "print(next(tup_metrics))\n",
    "print(next(tup_metrics))\n",
    "print(next(tup_metrics))\n",
    "print(next(tup_metrics))"
   ]
  },
  {
   "cell_type": "markdown",
   "metadata": {},
   "source": [
    "# Dictionaries"
   ]
  },
  {
   "cell_type": "markdown",
   "metadata": {},
   "source": [
    "**iterating using `for`**"
   ]
  },
  {
   "cell_type": "code",
   "execution_count": 12,
   "metadata": {},
   "outputs": [],
   "source": [
    "courses = {'fall':['regression','python'], 'spring':['capstone','pyspark','nlp']}"
   ]
  },
  {
   "cell_type": "code",
   "execution_count": 13,
   "metadata": {},
   "outputs": [
    {
     "name": "stdout",
     "output_type": "stream",
     "text": [
      "fall\n",
      "spring\n"
     ]
    }
   ],
   "source": [
    "# iterate over keys\n",
    "for k in courses:\n",
    "    print(k)"
   ]
  },
  {
   "cell_type": "code",
   "execution_count": 14,
   "metadata": {},
   "outputs": [
    {
     "name": "stdout",
     "output_type": "stream",
     "text": [
      "fall\n",
      "spring\n"
     ]
    }
   ],
   "source": [
    "# iterate over keys, using keys() method\n",
    "for k in courses.keys():\n",
    "    print(k)"
   ]
  },
  {
   "cell_type": "code",
   "execution_count": 15,
   "metadata": {},
   "outputs": [
    {
     "name": "stdout",
     "output_type": "stream",
     "text": [
      "['regression', 'python']\n",
      "['capstone', 'pyspark', 'nlp']\n"
     ]
    }
   ],
   "source": [
    "# iterate over values\n",
    "for v in courses.values():\n",
    "    print(v)"
   ]
  },
  {
   "cell_type": "code",
   "execution_count": 16,
   "metadata": {},
   "outputs": [
    {
     "name": "stdout",
     "output_type": "stream",
     "text": [
      "fall:\tregression, python\n",
      "spring:\tcapstone, pyspark, nlp\n"
     ]
    }
   ],
   "source": [
    "# iterate over keys and values using `items()`\n",
    "for k, v in courses.items():\n",
    "    print(f\"{k}:\\t{', '.join(v)}\")"
   ]
  },
  {
   "cell_type": "markdown",
   "metadata": {},
   "source": [
    "Alternatively, keys and values can be extracted from the dict by:\n",
    "- looping over the keys\n",
    "- extract the value by indexing into the dict with the key"
   ]
  },
  {
   "cell_type": "code",
   "execution_count": 17,
   "metadata": {},
   "outputs": [
    {
     "name": "stdout",
     "output_type": "stream",
     "text": [
      "fall:\tregression, python\n",
      "spring:\tcapstone, pyspark, nlp\n"
     ]
    }
   ],
   "source": [
    "# iterate over keys and values using `key()`.\n",
    "for k in courses.keys():\n",
    "    print(f\"{k}:\\t{', '.join(courses[k])}\") # index into the dict with the key"
   ]
  },
  {
   "cell_type": "markdown",
   "metadata": {
    "tags": []
   },
   "source": [
    "# Ranges"
   ]
  },
  {
   "cell_type": "markdown",
   "metadata": {},
   "source": [
    "**iterating using `for`**\n",
    "\n",
    "If you just want to iterate for a known number of times, use `range()`."
   ]
  },
  {
   "cell_type": "code",
   "execution_count": 18,
   "metadata": {},
   "outputs": [
    {
     "name": "stdout",
     "output_type": "stream",
     "text": [
      "01 |\n",
      "02 ||||\n",
      "03 |||||||||\n",
      "04 ||||||||||||||||\n",
      "05 |||||||||||||||||||||||||\n",
      "06 ||||||||||||||||||||||||||||||||||||\n",
      "07 |||||||||||||||||||||||||||||||||||||||||||||||||\n",
      "08 ||||||||||||||||||||||||||||||||||||||||||||||||||||||||||||||||\n",
      "09 |||||||||||||||||||||||||||||||||||||||||||||||||||||||||||||||||||||||||||||||||\n",
      "10 ||||||||||||||||||||||||||||||||||||||||||||||||||||||||||||||||||||||||||||||||||||||||||||||||||||\n"
     ]
    }
   ],
   "source": [
    "for i in range(10):\n",
    "    print(str(i+1).zfill(2), (i+1)**2 * '|')"
   ]
  },
  {
   "cell_type": "markdown",
   "metadata": {
    "tags": []
   },
   "source": [
    "# Get iteration number with `enumerate()`"
   ]
  },
  {
   "cell_type": "markdown",
   "metadata": {},
   "source": [
    "Very often you will want to know iteration number you are on in a loop. \n",
    "\n",
    "This can be used to name files or dict keys, for example.\n",
    "\n",
    "`enumerate()` will return the index and key for each iteration."
   ]
  },
  {
   "cell_type": "code",
   "execution_count": 19,
   "metadata": {},
   "outputs": [
    {
     "data": {
      "text/plain": [
       "{'fall': ['regression', 'python'], 'spring': ['capstone', 'pyspark', 'nlp']}"
      ]
     },
     "execution_count": 19,
     "metadata": {},
     "output_type": "execute_result"
    }
   ],
   "source": [
    "courses"
   ]
  },
  {
   "cell_type": "code",
   "execution_count": 20,
   "metadata": {},
   "outputs": [
    {
     "name": "stdout",
     "output_type": "stream",
     "text": [
      "00_fall:\tregression-python\n",
      "01_spring:\tcapstone-pyspark-nlp\n"
     ]
    }
   ],
   "source": [
    "for i, semester in enumerate(courses):\n",
    "    course_name = f\"{str(i).zfill(2)}_{semester}:\\t{'-'.join(courses[semester])}\"\n",
    "    print(course_name)"
   ]
  },
  {
   "cell_type": "markdown",
   "metadata": {},
   "source": [
    "# Nested Loops\n",
    "\n",
    "Iterations can be nested!\n",
    "\n",
    "This works well with nested data structures, like dicts within dicts.\n",
    "\n",
    "This is basically how `JSON` files are handled, BTW.\n",
    "\n",
    "Be careful, though -- these can get deep and complicated.\n"
   ]
  },
  {
   "cell_type": "code",
   "execution_count": 21,
   "metadata": {},
   "outputs": [
    {
     "name": "stdout",
     "output_type": "stream",
     "text": [
      "1. FALL:\n",
      "\t1.1. regression\n",
      "\t1.2. python\n",
      "2. SPRING:\n",
      "\t2.1. capstone\n",
      "\t2.2. pyspark\n",
      "\t2.3. nlp\n"
     ]
    }
   ],
   "source": [
    "for i, semester in enumerate(courses):\n",
    "    print(f\"{i+1}. {semester.upper()}:\")\n",
    "    for j, course in enumerate(courses[semester]):\n",
    "        print(f\"\\t{i+1}.{j+1}. {course}\")"
   ]
  }
 ],
 "metadata": {
  "anaconda-cloud": {},
  "kernelspec": {
   "display_name": "Python 3 (ipykernel)",
   "language": "python",
   "name": "python3"
  },
  "language_info": {
   "codemirror_mode": {
    "name": "ipython",
    "version": 3
   },
   "file_extension": ".py",
   "mimetype": "text/x-python",
   "name": "python",
   "nbconvert_exporter": "python",
   "pygments_lexer": "ipython3",
   "version": "3.11.3"
  },
  "widgets": {
   "application/vnd.jupyter.widget-state+json": {
    "state": {},
    "version_major": 2,
    "version_minor": 0
   }
  }
 },
 "nbformat": 4,
 "nbformat_minor": 4
}
