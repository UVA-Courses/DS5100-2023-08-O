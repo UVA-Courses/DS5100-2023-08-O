{
 "cells": [
  {
   "cell_type": "code",
   "execution_count": 2,
   "metadata": {},
   "outputs": [
    {
     "name": "stdout",
     "output_type": "stream",
     "text": [
      "nothing\n"
     ]
    }
   ],
   "source": [
    "val = 5\n",
    "if -10 <val <-5:\n",
    "    print(\"bucket 1\")\n",
    "elif -5<= val <- -2:\n",
    "    print(\"bucket 2\")\n",
    "elif val == -2:\n",
    "    print(\"bucket 3\")\n",
    "else: \n",
    "    print(\"nothing\")"
   ]
  },
  {
   "cell_type": "code",
   "execution_count": 3,
   "metadata": {},
   "outputs": [
    {
     "name": "stdout",
     "output_type": "stream",
     "text": [
      "-2\n",
      "max val\n",
      "0\n",
      "5\n",
      "6\n"
     ]
    }
   ],
   "source": [
    "xx = [-2,8,0,5,6]\n",
    "max_1 = max(xx)\n",
    "for val in xx:\n",
    "    if val < max_1:\n",
    "        print(val)\n",
    "    else:\n",
    "        print(\"max val\")\n",
    "\n"
   ]
  },
  {
   "cell_type": "code",
   "execution_count": 6,
   "metadata": {},
   "outputs": [
    {
     "name": "stdout",
     "output_type": "stream",
     "text": [
      "0\n",
      "10\n",
      "20\n",
      "30\n",
      "40\n",
      "50\n",
      "60\n",
      "70\n",
      "80\n",
      "90\n"
     ]
    }
   ],
   "source": [
    "it = 0\n",
    "max_iter = 100\n",
    "while it < max_iter:\n",
    "    if (it == 0 or it % 10 == 0):\n",
    "        print(it)\n",
    "    it+=1\n",
    "\n",
    "\n",
    "\n"
   ]
  },
  {
   "cell_type": "code",
   "execution_count": 8,
   "metadata": {},
   "outputs": [
    {
     "name": "stdout",
     "output_type": "stream",
     "text": [
      "name\n",
      "rank\n",
      "serial\n",
      "number\n",
      "name\n",
      "rank\n",
      "serial\n",
      "number\n"
     ]
    }
   ],
   "source": [
    "id = [\"Name\", \"Rank\", \"Serial\", \"Number\"]\n",
    "for part in id:\n",
    "    print(part.lower())\n",
    "\n",
    "_ = [print(x.lower()) for x in id]\n"
   ]
  },
  {
   "cell_type": "code",
   "execution_count": 11,
   "metadata": {},
   "outputs": [
    {
     "name": "stdout",
     "output_type": "stream",
     "text": [
      "Name\n",
      "Rank\n",
      "Serial\n",
      "Number\n"
     ]
    }
   ],
   "source": [
    "my_it = iter(id)\n",
    "print(next(my_it))\n",
    "print(next(my_it))\n",
    "print(next(my_it))\n",
    "print(next(my_it))\n"
   ]
  },
  {
   "cell_type": "code",
   "execution_count": 13,
   "metadata": {},
   "outputs": [
    {
     "name": "stdout",
     "output_type": "stream",
     "text": [
      "Chantilly 20151\n",
      "Henrico 23228\n"
     ]
    }
   ],
   "source": [
    "my_dict = {\"Chantilly\": 20151, \"Henrico\": \"23228\"}\n",
    "for key,value in my_dict.items():\n",
    "    print(key, value)"
   ]
  },
  {
   "cell_type": "code",
   "execution_count": 15,
   "metadata": {},
   "outputs": [
    {
     "name": "stdout",
     "output_type": "stream",
     "text": [
      "Chantilly 20151\n",
      "Henrico 23228\n"
     ]
    }
   ],
   "source": [
    "for key in my_dict.keys():\n",
    "    print(key,my_dict[key])"
   ]
  },
  {
   "cell_type": "code",
   "execution_count": 17,
   "metadata": {},
   "outputs": [
    {
     "ename": "TypeError",
     "evalue": "unsupported operand type(s) for +: 'int' and 'str'",
     "output_type": "error",
     "traceback": [
      "\u001b[0;31m---------------------------------------------------------------------------\u001b[0m",
      "\u001b[0;31mTypeError\u001b[0m                                 Traceback (most recent call last)",
      "Cell \u001b[0;32mIn[17], line 3\u001b[0m\n\u001b[1;32m      1\u001b[0m a \u001b[39m=\u001b[39m [\u001b[39m3\u001b[39m,\u001b[39m6\u001b[39m,\u001b[39m23\u001b[39m,\u001b[39m19\u001b[39m]\n\u001b[1;32m      2\u001b[0m \u001b[39mfor\u001b[39;00m val \u001b[39min\u001b[39;00m a:\n\u001b[0;32m----> 3\u001b[0m     \u001b[39mprint\u001b[39m(val \u001b[39m+\u001b[39;49m \u001b[39m\"\u001b[39;49m\u001b[39mcubed = \u001b[39;49m\u001b[39m\"\u001b[39;49m \u001b[39m+\u001b[39m val\u001b[39m*\u001b[39m\u001b[39m*\u001b[39m\u001b[39m3\u001b[39m)\n",
      "\u001b[0;31mTypeError\u001b[0m: unsupported operand type(s) for +: 'int' and 'str'"
     ]
    }
   ],
   "source": [
    "a = [3,6,23,19]\n",
    "for val in a:\n",
    "    print(val + \"cubed = \" + val**3)"
   ]
  },
  {
   "cell_type": "code",
   "execution_count": 19,
   "metadata": {},
   "outputs": [
    {
     "name": "stdout",
     "output_type": "stream",
     "text": [
      "['12', '16', '19']\n"
     ]
    }
   ],
   "source": [
    "a = ['base', '12', \"no\", '16', '19', 'perry']\n",
    "b = [val for val in a if val.isdigit()]\n",
    "print(b)"
   ]
  },
  {
   "cell_type": "code",
   "execution_count": 20,
   "metadata": {},
   "outputs": [
    {
     "name": "stdout",
     "output_type": "stream",
     "text": [
      "{'max_depth': [5, 10], 'max_iter': [10, 20]}\n"
     ]
    }
   ],
   "source": [
    "grid = {\n",
    "    'max_depth': [5,10],\n",
    "    'ntrees': [100,200,300],\n",
    "    'regularization': [11,12],\n",
    "    'max_iter': [10,20]\n",
    "}\n",
    "result = {key:grid[key] for key in grid.keys() if 'max' in key}\n",
    "print(result)"
   ]
  },
  {
   "cell_type": "code",
   "execution_count": null,
   "metadata": {},
   "outputs": [],
   "source": []
  }
 ],
 "metadata": {
  "kernelspec": {
   "display_name": "Python 3",
   "language": "python",
   "name": "python3"
  },
  "language_info": {
   "codemirror_mode": {
    "name": "ipython",
    "version": 3
   },
   "file_extension": ".py",
   "mimetype": "text/x-python",
   "name": "python",
   "nbconvert_exporter": "python",
   "pygments_lexer": "ipython3",
   "version": "3.8.7"
  },
  "orig_nbformat": 4
 },
 "nbformat": 4,
 "nbformat_minor": 2
}
